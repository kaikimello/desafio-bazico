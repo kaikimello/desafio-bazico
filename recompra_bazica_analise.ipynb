{
 "cells": [
  {
   "cell_type": "markdown",
   "id": "543d124c",
   "metadata": {},
   "source": [
    "# Recompra Bázica"
   ]
  },
  {
   "cell_type": "code",
   "execution_count": 62,
   "id": "f039df9f",
   "metadata": {},
   "outputs": [],
   "source": [
    "import pandas as pd \n",
    "import numpy as np\n",
    "import matplotlib.pyplot as plt \n",
    "import seaborn as sns \n",
    "import plotly.express as px\n",
    "import plotly.graph_objs as go \n",
    "from sklearn.cluster import KMeans\n",
    "\n",
    "# Evitar exibir Warnings\n",
    "import warnings\n",
    "warnings.filterwarnings(\"ignore\")\n"
   ]
  },
  {
   "cell_type": "markdown",
   "id": "d0b837cb",
   "metadata": {},
   "source": [
    "## Base de dados"
   ]
  },
  {
   "cell_type": "code",
   "execution_count": 63,
   "id": "835b4128",
   "metadata": {},
   "outputs": [],
   "source": [
    "base_compras = pd.read_csv('data-set/vendas_de_produtos.csv', dtype={'ID_Cliente': 'Int64', 'ID_Produto': 'Int64'}, parse_dates=[\"Data\"])"
   ]
  },
  {
   "cell_type": "code",
   "execution_count": 64,
   "id": "c1913e12",
   "metadata": {},
   "outputs": [],
   "source": [
    "base_clientes = pd.read_csv('data-set/clientes.csv', dtype={'ID_Cliente': 'Int64'})"
   ]
  },
  {
   "cell_type": "markdown",
   "id": "53509c7c",
   "metadata": {},
   "source": [
    "### Exploração dos dados "
   ]
  },
  {
   "cell_type": "code",
   "execution_count": 65,
   "id": "55a9cc0c",
   "metadata": {},
   "outputs": [
    {
     "data": {
      "text/html": [
       "<div>\n",
       "<style scoped>\n",
       "    .dataframe tbody tr th:only-of-type {\n",
       "        vertical-align: middle;\n",
       "    }\n",
       "\n",
       "    .dataframe tbody tr th {\n",
       "        vertical-align: top;\n",
       "    }\n",
       "\n",
       "    .dataframe thead th {\n",
       "        text-align: right;\n",
       "    }\n",
       "</style>\n",
       "<table border=\"1\" class=\"dataframe\">\n",
       "  <thead>\n",
       "    <tr style=\"text-align: right;\">\n",
       "      <th></th>\n",
       "      <th>ID_Cliente</th>\n",
       "      <th>Data</th>\n",
       "      <th>ID_Produto</th>\n",
       "      <th>Descrição_Produto</th>\n",
       "      <th>Quantidade</th>\n",
       "      <th>Preço_Unitário</th>\n",
       "      <th>ID_Pedido</th>\n",
       "      <th>Desconto</th>\n",
       "      <th>Frete</th>\n",
       "      <th>Total_do_Pedido</th>\n",
       "    </tr>\n",
       "  </thead>\n",
       "  <tbody>\n",
       "    <tr>\n",
       "      <th>0</th>\n",
       "      <td>12429082030</td>\n",
       "      <td>2021-05-27</td>\n",
       "      <td>14</td>\n",
       "      <td>Bázica Gola C - Air - Azul Marinho - M</td>\n",
       "      <td>1</td>\n",
       "      <td>109.0</td>\n",
       "      <td>1000000401</td>\n",
       "      <td>0.0</td>\n",
       "      <td>4.90</td>\n",
       "      <td>113.90</td>\n",
       "    </tr>\n",
       "    <tr>\n",
       "      <th>1</th>\n",
       "      <td>12793619292</td>\n",
       "      <td>2021-05-27</td>\n",
       "      <td>&lt;NA&gt;</td>\n",
       "      <td>Bázica Gola C - Powerful - Preto - P</td>\n",
       "      <td>1</td>\n",
       "      <td>109.0</td>\n",
       "      <td>1000000400</td>\n",
       "      <td>0.0</td>\n",
       "      <td>4.90</td>\n",
       "      <td>113.90</td>\n",
       "    </tr>\n",
       "    <tr>\n",
       "      <th>2</th>\n",
       "      <td>1</td>\n",
       "      <td>2021-05-27</td>\n",
       "      <td>&lt;NA&gt;</td>\n",
       "      <td>Bázica Gola C - Powerful - Preto - M</td>\n",
       "      <td>1</td>\n",
       "      <td>109.0</td>\n",
       "      <td>1000000399</td>\n",
       "      <td>0.0</td>\n",
       "      <td>4.90</td>\n",
       "      <td>113.90</td>\n",
       "    </tr>\n",
       "    <tr>\n",
       "      <th>3</th>\n",
       "      <td>2</td>\n",
       "      <td>2021-05-26</td>\n",
       "      <td>&lt;NA&gt;</td>\n",
       "      <td>Bázica Gola C - Powerful - Preto - M</td>\n",
       "      <td>2</td>\n",
       "      <td>109.0</td>\n",
       "      <td>1000000398</td>\n",
       "      <td>0.0</td>\n",
       "      <td>4.90</td>\n",
       "      <td>301.90</td>\n",
       "    </tr>\n",
       "    <tr>\n",
       "      <th>4</th>\n",
       "      <td>2</td>\n",
       "      <td>2021-05-26</td>\n",
       "      <td>&lt;NA&gt;</td>\n",
       "      <td>Bázica Gola C - Powerful - Branco - M</td>\n",
       "      <td>1</td>\n",
       "      <td>109.0</td>\n",
       "      <td>1000000398</td>\n",
       "      <td>0.0</td>\n",
       "      <td>4.90</td>\n",
       "      <td>301.90</td>\n",
       "    </tr>\n",
       "    <tr>\n",
       "      <th>...</th>\n",
       "      <td>...</td>\n",
       "      <td>...</td>\n",
       "      <td>...</td>\n",
       "      <td>...</td>\n",
       "      <td>...</td>\n",
       "      <td>...</td>\n",
       "      <td>...</td>\n",
       "      <td>...</td>\n",
       "      <td>...</td>\n",
       "      <td>...</td>\n",
       "    </tr>\n",
       "    <tr>\n",
       "      <th>17023</th>\n",
       "      <td>15990665892</td>\n",
       "      <td>2022-12-31</td>\n",
       "      <td>2</td>\n",
       "      <td>Bázica Gola C - Preta - Powerful - M</td>\n",
       "      <td>1</td>\n",
       "      <td>119.0</td>\n",
       "      <td>9017</td>\n",
       "      <td>0.0</td>\n",
       "      <td>21.19</td>\n",
       "      <td>140.19</td>\n",
       "    </tr>\n",
       "    <tr>\n",
       "      <th>17024</th>\n",
       "      <td>15896646324</td>\n",
       "      <td>2022-12-31</td>\n",
       "      <td>192</td>\n",
       "      <td>Bázica Vibe - Azul Cobalto - Viscose - M</td>\n",
       "      <td>1</td>\n",
       "      <td>223.0</td>\n",
       "      <td>9018</td>\n",
       "      <td>0.0</td>\n",
       "      <td>0.00</td>\n",
       "      <td>223.00</td>\n",
       "    </tr>\n",
       "    <tr>\n",
       "      <th>17025</th>\n",
       "      <td>12268398905</td>\n",
       "      <td>2022-12-31</td>\n",
       "      <td>211</td>\n",
       "      <td>Bázica Lord - Branca - Pima - GG</td>\n",
       "      <td>1</td>\n",
       "      <td>247.0</td>\n",
       "      <td>9019</td>\n",
       "      <td>0.0</td>\n",
       "      <td>0.00</td>\n",
       "      <td>247.00</td>\n",
       "    </tr>\n",
       "    <tr>\n",
       "      <th>17026</th>\n",
       "      <td>15990672946</td>\n",
       "      <td>2022-12-31</td>\n",
       "      <td>461</td>\n",
       "      <td>Bázica Long - Ocean - Air - G</td>\n",
       "      <td>1</td>\n",
       "      <td>119.0</td>\n",
       "      <td>9020</td>\n",
       "      <td>23.8</td>\n",
       "      <td>0.00</td>\n",
       "      <td>214.20</td>\n",
       "    </tr>\n",
       "    <tr>\n",
       "      <th>17027</th>\n",
       "      <td>15990672946</td>\n",
       "      <td>2022-12-31</td>\n",
       "      <td>454</td>\n",
       "      <td>Bázica Long - Berry - Powerful - G</td>\n",
       "      <td>1</td>\n",
       "      <td>119.0</td>\n",
       "      <td>9020</td>\n",
       "      <td>23.8</td>\n",
       "      <td>0.00</td>\n",
       "      <td>214.20</td>\n",
       "    </tr>\n",
       "  </tbody>\n",
       "</table>\n",
       "<p>17028 rows × 10 columns</p>\n",
       "</div>"
      ],
      "text/plain": [
       "        ID_Cliente       Data  ID_Produto  \\\n",
       "0      12429082030 2021-05-27          14   \n",
       "1      12793619292 2021-05-27        <NA>   \n",
       "2                1 2021-05-27        <NA>   \n",
       "3                2 2021-05-26        <NA>   \n",
       "4                2 2021-05-26        <NA>   \n",
       "...            ...        ...         ...   \n",
       "17023  15990665892 2022-12-31           2   \n",
       "17024  15896646324 2022-12-31         192   \n",
       "17025  12268398905 2022-12-31         211   \n",
       "17026  15990672946 2022-12-31         461   \n",
       "17027  15990672946 2022-12-31         454   \n",
       "\n",
       "                              Descrição_Produto  Quantidade  Preço_Unitário  \\\n",
       "0        Bázica Gola C - Air - Azul Marinho - M           1           109.0   \n",
       "1          Bázica Gola C - Powerful - Preto - P           1           109.0   \n",
       "2          Bázica Gola C - Powerful - Preto - M           1           109.0   \n",
       "3          Bázica Gola C - Powerful - Preto - M           2           109.0   \n",
       "4         Bázica Gola C - Powerful - Branco - M           1           109.0   \n",
       "...                                         ...         ...             ...   \n",
       "17023      Bázica Gola C - Preta - Powerful - M           1           119.0   \n",
       "17024  Bázica Vibe - Azul Cobalto - Viscose - M           1           223.0   \n",
       "17025          Bázica Lord - Branca - Pima - GG           1           247.0   \n",
       "17026             Bázica Long - Ocean - Air - G           1           119.0   \n",
       "17027        Bázica Long - Berry - Powerful - G           1           119.0   \n",
       "\n",
       "        ID_Pedido  Desconto  Frete  Total_do_Pedido  \n",
       "0      1000000401       0.0   4.90           113.90  \n",
       "1      1000000400       0.0   4.90           113.90  \n",
       "2      1000000399       0.0   4.90           113.90  \n",
       "3      1000000398       0.0   4.90           301.90  \n",
       "4      1000000398       0.0   4.90           301.90  \n",
       "...           ...       ...    ...              ...  \n",
       "17023        9017       0.0  21.19           140.19  \n",
       "17024        9018       0.0   0.00           223.00  \n",
       "17025        9019       0.0   0.00           247.00  \n",
       "17026        9020      23.8   0.00           214.20  \n",
       "17027        9020      23.8   0.00           214.20  \n",
       "\n",
       "[17028 rows x 10 columns]"
      ]
     },
     "execution_count": 65,
     "metadata": {},
     "output_type": "execute_result"
    }
   ],
   "source": [
    "base_compras"
   ]
  },
  {
   "cell_type": "markdown",
   "id": "2abebee5",
   "metadata": {},
   "source": [
    "**Verificando Informações da Base de Dados**"
   ]
  },
  {
   "cell_type": "code",
   "execution_count": 66,
   "id": "3bd97ea3",
   "metadata": {},
   "outputs": [
    {
     "name": "stdout",
     "output_type": "stream",
     "text": [
      "<class 'pandas.core.frame.DataFrame'>\n",
      "RangeIndex: 17028 entries, 0 to 17027\n",
      "Data columns (total 10 columns):\n",
      " #   Column             Non-Null Count  Dtype         \n",
      "---  ------             --------------  -----         \n",
      " 0   ID_Cliente         17026 non-null  Int64         \n",
      " 1   Data               17028 non-null  datetime64[ns]\n",
      " 2   ID_Produto         16625 non-null  Int64         \n",
      " 3   Descrição_Produto  17028 non-null  object        \n",
      " 4   Quantidade         17028 non-null  int64         \n",
      " 5   Preço_Unitário     16804 non-null  float64       \n",
      " 6   ID_Pedido          17028 non-null  int64         \n",
      " 7   Desconto           16984 non-null  float64       \n",
      " 8   Frete              17028 non-null  float64       \n",
      " 9   Total_do_Pedido    17028 non-null  float64       \n",
      "dtypes: Int64(2), datetime64[ns](1), float64(4), int64(2), object(1)\n",
      "memory usage: 1.3+ MB\n"
     ]
    }
   ],
   "source": [
    "base_compras.info()"
   ]
  },
  {
   "cell_type": "markdown",
   "id": "51fb1e47",
   "metadata": {},
   "source": [
    "**Verificando a soma de dados ausentes em cada coluna**"
   ]
  },
  {
   "cell_type": "code",
   "execution_count": 67,
   "id": "61aa5ae1",
   "metadata": {},
   "outputs": [
    {
     "data": {
      "text/plain": [
       "ID_Cliente             2\n",
       "Data                   0\n",
       "ID_Produto           403\n",
       "Descrição_Produto      0\n",
       "Quantidade             0\n",
       "Preço_Unitário       224\n",
       "ID_Pedido              0\n",
       "Desconto              44\n",
       "Frete                  0\n",
       "Total_do_Pedido        0\n",
       "dtype: int64"
      ]
     },
     "execution_count": 67,
     "metadata": {},
     "output_type": "execute_result"
    }
   ],
   "source": [
    "base_compras.isnull().sum()"
   ]
  },
  {
   "cell_type": "code",
   "execution_count": 68,
   "id": "b2737fa7",
   "metadata": {},
   "outputs": [
    {
     "data": {
      "text/plain": [
       "0.01"
      ]
     },
     "execution_count": 68,
     "metadata": {},
     "output_type": "execute_result"
    }
   ],
   "source": [
    "np.round(base_compras.isnull().sum()['ID_Cliente']/ base_compras.shape[0] * 100, 2)"
   ]
  },
  {
   "cell_type": "markdown",
   "id": "49a0a201",
   "metadata": {},
   "source": [
    "Como é percebido, existem dois pedidos com id de cliente nulos que equivalem a $0.01$%, então irei analisar se existem outros pedidos de venda com o mesmo código do pedido para subtituir o ID de cliente nulo desses pedidos,  caso contrário irei optar por remover esses dados devido que a quantidade pedidos não irá influenciar tanto no resultado final."
   ]
  },
  {
   "cell_type": "markdown",
   "id": "49a0b2fa",
   "metadata": {},
   "source": [
    "**Verificando os ID de Clientes Nulos**"
   ]
  },
  {
   "cell_type": "code",
   "execution_count": 69,
   "id": "d3fb58af",
   "metadata": {},
   "outputs": [
    {
     "data": {
      "text/html": [
       "<div>\n",
       "<style scoped>\n",
       "    .dataframe tbody tr th:only-of-type {\n",
       "        vertical-align: middle;\n",
       "    }\n",
       "\n",
       "    .dataframe tbody tr th {\n",
       "        vertical-align: top;\n",
       "    }\n",
       "\n",
       "    .dataframe thead th {\n",
       "        text-align: right;\n",
       "    }\n",
       "</style>\n",
       "<table border=\"1\" class=\"dataframe\">\n",
       "  <thead>\n",
       "    <tr style=\"text-align: right;\">\n",
       "      <th></th>\n",
       "      <th>ID_Cliente</th>\n",
       "      <th>Data</th>\n",
       "      <th>ID_Produto</th>\n",
       "      <th>Descrição_Produto</th>\n",
       "      <th>Quantidade</th>\n",
       "      <th>Preço_Unitário</th>\n",
       "      <th>ID_Pedido</th>\n",
       "      <th>Desconto</th>\n",
       "      <th>Frete</th>\n",
       "      <th>Total_do_Pedido</th>\n",
       "    </tr>\n",
       "  </thead>\n",
       "  <tbody>\n",
       "    <tr>\n",
       "      <th>483</th>\n",
       "      <td>&lt;NA&gt;</td>\n",
       "      <td>2020-09-10</td>\n",
       "      <td>&lt;NA&gt;</td>\n",
       "      <td>Bázica Gola C - Powerful - Branco - G</td>\n",
       "      <td>1</td>\n",
       "      <td>NaN</td>\n",
       "      <td>1000000044</td>\n",
       "      <td>0.0</td>\n",
       "      <td>0.0</td>\n",
       "      <td>109.0</td>\n",
       "    </tr>\n",
       "    <tr>\n",
       "      <th>485</th>\n",
       "      <td>&lt;NA&gt;</td>\n",
       "      <td>2020-08-30</td>\n",
       "      <td>&lt;NA&gt;</td>\n",
       "      <td>Bázica Gola C - Powerful - Preto - GG</td>\n",
       "      <td>1</td>\n",
       "      <td>NaN</td>\n",
       "      <td>1000000039</td>\n",
       "      <td>0.0</td>\n",
       "      <td>0.0</td>\n",
       "      <td>197.0</td>\n",
       "    </tr>\n",
       "  </tbody>\n",
       "</table>\n",
       "</div>"
      ],
      "text/plain": [
       "     ID_Cliente       Data  ID_Produto                      Descrição_Produto  \\\n",
       "483        <NA> 2020-09-10        <NA>  Bázica Gola C - Powerful - Branco - G   \n",
       "485        <NA> 2020-08-30        <NA>  Bázica Gola C - Powerful - Preto - GG   \n",
       "\n",
       "     Quantidade  Preço_Unitário   ID_Pedido  Desconto  Frete  Total_do_Pedido  \n",
       "483           1             NaN  1000000044       0.0    0.0            109.0  \n",
       "485           1             NaN  1000000039       0.0    0.0            197.0  "
      ]
     },
     "execution_count": 69,
     "metadata": {},
     "output_type": "execute_result"
    }
   ],
   "source": [
    "base_compras[base_compras['ID_Cliente'].isnull()]"
   ]
  },
  {
   "cell_type": "markdown",
   "id": "00d1341e",
   "metadata": {},
   "source": [
    "**Verificando se existem outra venda com número de pedido igual**"
   ]
  },
  {
   "cell_type": "code",
   "execution_count": 70,
   "id": "96df5ccf",
   "metadata": {},
   "outputs": [
    {
     "data": {
      "text/html": [
       "<div>\n",
       "<style scoped>\n",
       "    .dataframe tbody tr th:only-of-type {\n",
       "        vertical-align: middle;\n",
       "    }\n",
       "\n",
       "    .dataframe tbody tr th {\n",
       "        vertical-align: top;\n",
       "    }\n",
       "\n",
       "    .dataframe thead th {\n",
       "        text-align: right;\n",
       "    }\n",
       "</style>\n",
       "<table border=\"1\" class=\"dataframe\">\n",
       "  <thead>\n",
       "    <tr style=\"text-align: right;\">\n",
       "      <th></th>\n",
       "      <th>ID_Cliente</th>\n",
       "      <th>Data</th>\n",
       "      <th>ID_Produto</th>\n",
       "      <th>Descrição_Produto</th>\n",
       "      <th>Quantidade</th>\n",
       "      <th>Preço_Unitário</th>\n",
       "      <th>ID_Pedido</th>\n",
       "      <th>Desconto</th>\n",
       "      <th>Frete</th>\n",
       "      <th>Total_do_Pedido</th>\n",
       "    </tr>\n",
       "  </thead>\n",
       "  <tbody>\n",
       "    <tr>\n",
       "      <th>483</th>\n",
       "      <td>&lt;NA&gt;</td>\n",
       "      <td>2020-09-10</td>\n",
       "      <td>&lt;NA&gt;</td>\n",
       "      <td>Bázica Gola C - Powerful - Branco - G</td>\n",
       "      <td>1</td>\n",
       "      <td>NaN</td>\n",
       "      <td>1000000044</td>\n",
       "      <td>0.0</td>\n",
       "      <td>0.0</td>\n",
       "      <td>109.0</td>\n",
       "    </tr>\n",
       "  </tbody>\n",
       "</table>\n",
       "</div>"
      ],
      "text/plain": [
       "     ID_Cliente       Data  ID_Produto                      Descrição_Produto  \\\n",
       "483        <NA> 2020-09-10        <NA>  Bázica Gola C - Powerful - Branco - G   \n",
       "\n",
       "     Quantidade  Preço_Unitário   ID_Pedido  Desconto  Frete  Total_do_Pedido  \n",
       "483           1             NaN  1000000044       0.0    0.0            109.0  "
      ]
     },
     "execution_count": 70,
     "metadata": {},
     "output_type": "execute_result"
    }
   ],
   "source": [
    "base_compras[base_compras['ID_Pedido'] == 1000000044]"
   ]
  },
  {
   "cell_type": "code",
   "execution_count": 71,
   "id": "d2558e37",
   "metadata": {},
   "outputs": [
    {
     "data": {
      "text/html": [
       "<div>\n",
       "<style scoped>\n",
       "    .dataframe tbody tr th:only-of-type {\n",
       "        vertical-align: middle;\n",
       "    }\n",
       "\n",
       "    .dataframe tbody tr th {\n",
       "        vertical-align: top;\n",
       "    }\n",
       "\n",
       "    .dataframe thead th {\n",
       "        text-align: right;\n",
       "    }\n",
       "</style>\n",
       "<table border=\"1\" class=\"dataframe\">\n",
       "  <thead>\n",
       "    <tr style=\"text-align: right;\">\n",
       "      <th></th>\n",
       "      <th>ID_Cliente</th>\n",
       "      <th>Data</th>\n",
       "      <th>ID_Produto</th>\n",
       "      <th>Descrição_Produto</th>\n",
       "      <th>Quantidade</th>\n",
       "      <th>Preço_Unitário</th>\n",
       "      <th>ID_Pedido</th>\n",
       "      <th>Desconto</th>\n",
       "      <th>Frete</th>\n",
       "      <th>Total_do_Pedido</th>\n",
       "    </tr>\n",
       "  </thead>\n",
       "  <tbody>\n",
       "    <tr>\n",
       "      <th>485</th>\n",
       "      <td>&lt;NA&gt;</td>\n",
       "      <td>2020-08-30</td>\n",
       "      <td>&lt;NA&gt;</td>\n",
       "      <td>Bázica Gola C - Powerful - Preto - GG</td>\n",
       "      <td>1</td>\n",
       "      <td>NaN</td>\n",
       "      <td>1000000039</td>\n",
       "      <td>0.0</td>\n",
       "      <td>0.0</td>\n",
       "      <td>197.0</td>\n",
       "    </tr>\n",
       "  </tbody>\n",
       "</table>\n",
       "</div>"
      ],
      "text/plain": [
       "     ID_Cliente       Data  ID_Produto                      Descrição_Produto  \\\n",
       "485        <NA> 2020-08-30        <NA>  Bázica Gola C - Powerful - Preto - GG   \n",
       "\n",
       "     Quantidade  Preço_Unitário   ID_Pedido  Desconto  Frete  Total_do_Pedido  \n",
       "485           1             NaN  1000000039       0.0    0.0            197.0  "
      ]
     },
     "execution_count": 71,
     "metadata": {},
     "output_type": "execute_result"
    }
   ],
   "source": [
    "base_compras[base_compras['ID_Pedido'] == 1000000039]"
   ]
  },
  {
   "cell_type": "markdown",
   "id": "75d87333",
   "metadata": {},
   "source": [
    "**Como não existe outra venda com mesmo código de pedido essas linhas serão removidas**  "
   ]
  },
  {
   "cell_type": "code",
   "execution_count": 72,
   "id": "f5e14305",
   "metadata": {
    "scrolled": false
   },
   "outputs": [
    {
     "name": "stdout",
     "output_type": "stream",
     "text": [
      "<class 'pandas.core.frame.DataFrame'>\n",
      "Int64Index: 17026 entries, 0 to 17027\n",
      "Data columns (total 10 columns):\n",
      " #   Column             Non-Null Count  Dtype         \n",
      "---  ------             --------------  -----         \n",
      " 0   ID_Cliente         17026 non-null  Int64         \n",
      " 1   Data               17026 non-null  datetime64[ns]\n",
      " 2   ID_Produto         16625 non-null  Int64         \n",
      " 3   Descrição_Produto  17026 non-null  object        \n",
      " 4   Quantidade         17026 non-null  int64         \n",
      " 5   Preço_Unitário     16804 non-null  float64       \n",
      " 6   ID_Pedido          17026 non-null  int64         \n",
      " 7   Desconto           16982 non-null  float64       \n",
      " 8   Frete              17026 non-null  float64       \n",
      " 9   Total_do_Pedido    17026 non-null  float64       \n",
      "dtypes: Int64(2), datetime64[ns](1), float64(4), int64(2), object(1)\n",
      "memory usage: 1.5+ MB\n"
     ]
    }
   ],
   "source": [
    "base_compras = base_compras.dropna(subset=['ID_Cliente'])\n",
    "base_compras.info()"
   ]
  },
  {
   "cell_type": "markdown",
   "id": "ca5734fe",
   "metadata": {},
   "source": [
    "**Verificando os dtypes das colunas**"
   ]
  },
  {
   "cell_type": "code",
   "execution_count": 73,
   "id": "52f04026",
   "metadata": {
    "scrolled": true
   },
   "outputs": [
    {
     "data": {
      "text/plain": [
       "ID_Cliente                    Int64\n",
       "Data                 datetime64[ns]\n",
       "ID_Produto                    Int64\n",
       "Descrição_Produto            object\n",
       "Quantidade                    int64\n",
       "Preço_Unitário              float64\n",
       "ID_Pedido                     int64\n",
       "Desconto                    float64\n",
       "Frete                       float64\n",
       "Total_do_Pedido             float64\n",
       "dtype: object"
      ]
     },
     "execution_count": 73,
     "metadata": {},
     "output_type": "execute_result"
    }
   ],
   "source": [
    "base_compras.dtypes"
   ]
  },
  {
   "cell_type": "markdown",
   "id": "9446b668",
   "metadata": {},
   "source": [
    "**Informações sobre as datas**"
   ]
  },
  {
   "cell_type": "code",
   "execution_count": 74,
   "id": "ed9a35df",
   "metadata": {
    "scrolled": true
   },
   "outputs": [
    {
     "data": {
      "text/html": [
       "<div>\n",
       "<style scoped>\n",
       "    .dataframe tbody tr th:only-of-type {\n",
       "        vertical-align: middle;\n",
       "    }\n",
       "\n",
       "    .dataframe tbody tr th {\n",
       "        vertical-align: top;\n",
       "    }\n",
       "\n",
       "    .dataframe thead th {\n",
       "        text-align: right;\n",
       "    }\n",
       "</style>\n",
       "<table border=\"1\" class=\"dataframe\">\n",
       "  <thead>\n",
       "    <tr style=\"text-align: right;\">\n",
       "      <th></th>\n",
       "      <th>ID_Cliente</th>\n",
       "      <th>Data</th>\n",
       "      <th>ID_Produto</th>\n",
       "      <th>Descrição_Produto</th>\n",
       "      <th>Quantidade</th>\n",
       "      <th>Preço_Unitário</th>\n",
       "      <th>ID_Pedido</th>\n",
       "      <th>Desconto</th>\n",
       "      <th>Frete</th>\n",
       "      <th>Total_do_Pedido</th>\n",
       "    </tr>\n",
       "  </thead>\n",
       "  <tbody>\n",
       "    <tr>\n",
       "      <th>0</th>\n",
       "      <td>12429082030</td>\n",
       "      <td>2021-05-27</td>\n",
       "      <td>14</td>\n",
       "      <td>Bázica Gola C - Air - Azul Marinho - M</td>\n",
       "      <td>1</td>\n",
       "      <td>109.0</td>\n",
       "      <td>1000000401</td>\n",
       "      <td>0.0</td>\n",
       "      <td>4.9</td>\n",
       "      <td>113.9</td>\n",
       "    </tr>\n",
       "    <tr>\n",
       "      <th>1</th>\n",
       "      <td>12793619292</td>\n",
       "      <td>2021-05-27</td>\n",
       "      <td>&lt;NA&gt;</td>\n",
       "      <td>Bázica Gola C - Powerful - Preto - P</td>\n",
       "      <td>1</td>\n",
       "      <td>109.0</td>\n",
       "      <td>1000000400</td>\n",
       "      <td>0.0</td>\n",
       "      <td>4.9</td>\n",
       "      <td>113.9</td>\n",
       "    </tr>\n",
       "    <tr>\n",
       "      <th>2</th>\n",
       "      <td>1</td>\n",
       "      <td>2021-05-27</td>\n",
       "      <td>&lt;NA&gt;</td>\n",
       "      <td>Bázica Gola C - Powerful - Preto - M</td>\n",
       "      <td>1</td>\n",
       "      <td>109.0</td>\n",
       "      <td>1000000399</td>\n",
       "      <td>0.0</td>\n",
       "      <td>4.9</td>\n",
       "      <td>113.9</td>\n",
       "    </tr>\n",
       "    <tr>\n",
       "      <th>3</th>\n",
       "      <td>2</td>\n",
       "      <td>2021-05-26</td>\n",
       "      <td>&lt;NA&gt;</td>\n",
       "      <td>Bázica Gola C - Powerful - Preto - M</td>\n",
       "      <td>2</td>\n",
       "      <td>109.0</td>\n",
       "      <td>1000000398</td>\n",
       "      <td>0.0</td>\n",
       "      <td>4.9</td>\n",
       "      <td>301.9</td>\n",
       "    </tr>\n",
       "    <tr>\n",
       "      <th>4</th>\n",
       "      <td>2</td>\n",
       "      <td>2021-05-26</td>\n",
       "      <td>&lt;NA&gt;</td>\n",
       "      <td>Bázica Gola C - Powerful - Branco - M</td>\n",
       "      <td>1</td>\n",
       "      <td>109.0</td>\n",
       "      <td>1000000398</td>\n",
       "      <td>0.0</td>\n",
       "      <td>4.9</td>\n",
       "      <td>301.9</td>\n",
       "    </tr>\n",
       "  </tbody>\n",
       "</table>\n",
       "</div>"
      ],
      "text/plain": [
       "    ID_Cliente       Data  ID_Produto                       Descrição_Produto  \\\n",
       "0  12429082030 2021-05-27          14  Bázica Gola C - Air - Azul Marinho - M   \n",
       "1  12793619292 2021-05-27        <NA>    Bázica Gola C - Powerful - Preto - P   \n",
       "2            1 2021-05-27        <NA>    Bázica Gola C - Powerful - Preto - M   \n",
       "3            2 2021-05-26        <NA>    Bázica Gola C - Powerful - Preto - M   \n",
       "4            2 2021-05-26        <NA>   Bázica Gola C - Powerful - Branco - M   \n",
       "\n",
       "   Quantidade  Preço_Unitário   ID_Pedido  Desconto  Frete  Total_do_Pedido  \n",
       "0           1           109.0  1000000401       0.0    4.9            113.9  \n",
       "1           1           109.0  1000000400       0.0    4.9            113.9  \n",
       "2           1           109.0  1000000399       0.0    4.9            113.9  \n",
       "3           2           109.0  1000000398       0.0    4.9            301.9  \n",
       "4           1           109.0  1000000398       0.0    4.9            301.9  "
      ]
     },
     "execution_count": 74,
     "metadata": {},
     "output_type": "execute_result"
    }
   ],
   "source": [
    "base_compras.head()"
   ]
  },
  {
   "cell_type": "code",
   "execution_count": 75,
   "id": "58d59b70",
   "metadata": {},
   "outputs": [
    {
     "data": {
      "text/html": [
       "<div>\n",
       "<style scoped>\n",
       "    .dataframe tbody tr th:only-of-type {\n",
       "        vertical-align: middle;\n",
       "    }\n",
       "\n",
       "    .dataframe tbody tr th {\n",
       "        vertical-align: top;\n",
       "    }\n",
       "\n",
       "    .dataframe thead th {\n",
       "        text-align: right;\n",
       "    }\n",
       "</style>\n",
       "<table border=\"1\" class=\"dataframe\">\n",
       "  <thead>\n",
       "    <tr style=\"text-align: right;\">\n",
       "      <th></th>\n",
       "      <th>Data</th>\n",
       "    </tr>\n",
       "  </thead>\n",
       "  <tbody>\n",
       "    <tr>\n",
       "      <th>count</th>\n",
       "      <td>17026</td>\n",
       "    </tr>\n",
       "    <tr>\n",
       "      <th>unique</th>\n",
       "      <td>636</td>\n",
       "    </tr>\n",
       "    <tr>\n",
       "      <th>top</th>\n",
       "      <td>2022-10-14 00:00:00</td>\n",
       "    </tr>\n",
       "    <tr>\n",
       "      <th>freq</th>\n",
       "      <td>484</td>\n",
       "    </tr>\n",
       "    <tr>\n",
       "      <th>first</th>\n",
       "      <td>2020-08-19 00:00:00</td>\n",
       "    </tr>\n",
       "    <tr>\n",
       "      <th>last</th>\n",
       "      <td>2022-12-31 00:00:00</td>\n",
       "    </tr>\n",
       "  </tbody>\n",
       "</table>\n",
       "</div>"
      ],
      "text/plain": [
       "                       Data\n",
       "count                 17026\n",
       "unique                  636\n",
       "top     2022-10-14 00:00:00\n",
       "freq                    484\n",
       "first   2020-08-19 00:00:00\n",
       "last    2022-12-31 00:00:00"
      ]
     },
     "execution_count": 75,
     "metadata": {},
     "output_type": "execute_result"
    }
   ],
   "source": [
    "pd.DataFrame(base_compras.Data.describe())"
   ]
  },
  {
   "cell_type": "markdown",
   "id": "c273a4fa",
   "metadata": {},
   "source": [
    "Vemos que as compras online foram feitas no perido de 19-08-2020 a 31-12-2022"
   ]
  },
  {
   "cell_type": "markdown",
   "id": "04bc5b0e",
   "metadata": {},
   "source": [
    "# <font color=\"red\"> Se der tempo Fazer analise inicial com outro dataset </font>"
   ]
  },
  {
   "cell_type": "markdown",
   "id": "b2528a0b",
   "metadata": {},
   "source": [
    "### Prevendo compra do cliente"
   ]
  },
  {
   "cell_type": "markdown",
   "id": "f241a6b0",
   "metadata": {},
   "source": [
    "\n",
    "\n",
    "O objetivo desta seção é criar um modelo usando o dataframe df_data fornecido, para estimar se um determinado cliente comprará algo novamente na loja online.\n",
    "\n",
    "O dataframe é dividido em dois:\n",
    "\n",
    "   * O primeiro sub-dataframe atribuído à variável Python cliente_comp_dt contém compras feitas por clientes de 19-08-2020 a 30-09-2022. Este dataframe será usado para estudar as compras comportamentais dos clientes online.\n",
    "\n",
    "   * O segundo sub-dataframe atribuído à variável Python cliente_prox_tri será usado para estudar as compras comportamentais dos clientes no próximo trimestre. Ou seja, de 01-10-2022 a 31-12-2022, com ênfase de localizar os clientes que irão comprar no período **01-01-2023** e **14-01-2023**.\n"
   ]
  },
  {
   "cell_type": "code",
   "execution_count": 76,
   "id": "ff054b85",
   "metadata": {},
   "outputs": [],
   "source": [
    "cliente_comp_dt = base_compras[(base_compras.Data < pd.Timestamp(2022, 10, 1)) & \n",
    "                               (base_compras.Data >= pd.Timestamp(2020, 8, 19))].reset_index(drop=True)\n",
    "\n",
    "cliente_prox_tri = base_compras[(base_compras.Data < pd.Timestamp(2023,1,1)) & \n",
    "                                (base_compras.Data >= pd.Timestamp(2022, 10, 1))].reset_index(drop=True)"
   ]
  },
  {
   "cell_type": "code",
   "execution_count": 77,
   "id": "f404a3a9",
   "metadata": {},
   "outputs": [],
   "source": [
    "# Obtenha os clientes distintos no dataframe cliente_comp_dt\n",
    "dados_clientes = pd.DataFrame(cliente_comp_dt['ID_Cliente'].unique())\n",
    "# Renomeio a Coluna para ID_Cliente \n",
    "dados_clientes.columns = ['ID_Cliente']"
   ]
  },
  {
   "cell_type": "markdown",
   "id": "1bdef10a",
   "metadata": {},
   "source": [
    "Agora vamos encontrar a primeira compra feita por cada cliente no próximo trimestre."
   ]
  },
  {
   "cell_type": "code",
   "execution_count": 78,
   "id": "012cb829",
   "metadata": {},
   "outputs": [
    {
     "data": {
      "text/html": [
       "<div>\n",
       "<style scoped>\n",
       "    .dataframe tbody tr th:only-of-type {\n",
       "        vertical-align: middle;\n",
       "    }\n",
       "\n",
       "    .dataframe tbody tr th {\n",
       "        vertical-align: top;\n",
       "    }\n",
       "\n",
       "    .dataframe thead th {\n",
       "        text-align: right;\n",
       "    }\n",
       "</style>\n",
       "<table border=\"1\" class=\"dataframe\">\n",
       "  <thead>\n",
       "    <tr style=\"text-align: right;\">\n",
       "      <th></th>\n",
       "      <th>ID_Cliente</th>\n",
       "      <th>PrimeiraDataCompraTrimestre</th>\n",
       "    </tr>\n",
       "  </thead>\n",
       "  <tbody>\n",
       "    <tr>\n",
       "      <th>0</th>\n",
       "      <td>12268398905</td>\n",
       "      <td>2022-10-05</td>\n",
       "    </tr>\n",
       "    <tr>\n",
       "      <th>1</th>\n",
       "      <td>12378697829</td>\n",
       "      <td>2022-12-16</td>\n",
       "    </tr>\n",
       "    <tr>\n",
       "      <th>2</th>\n",
       "      <td>12383774078</td>\n",
       "      <td>2022-10-06</td>\n",
       "    </tr>\n",
       "    <tr>\n",
       "      <th>3</th>\n",
       "      <td>12384988715</td>\n",
       "      <td>2022-10-29</td>\n",
       "    </tr>\n",
       "    <tr>\n",
       "      <th>4</th>\n",
       "      <td>12385092320</td>\n",
       "      <td>2022-10-14</td>\n",
       "    </tr>\n",
       "  </tbody>\n",
       "</table>\n",
       "</div>"
      ],
      "text/plain": [
       "    ID_Cliente PrimeiraDataCompraTrimestre\n",
       "0  12268398905                  2022-10-05\n",
       "1  12378697829                  2022-12-16\n",
       "2  12383774078                  2022-10-06\n",
       "3  12384988715                  2022-10-29\n",
       "4  12385092320                  2022-10-14"
      ]
     },
     "execution_count": 78,
     "metadata": {},
     "output_type": "execute_result"
    }
   ],
   "source": [
    "# Criei um dataframe com Id do Cliente e a primeira data de compra do cliente em cliente_prox_tri \n",
    "cliente_1_cmp_tri = cliente_prox_tri.groupby('ID_Cliente').Data.min().reset_index()\n",
    "cliente_1_cmp_tri.columns =  ['ID_Cliente', 'PrimeiraDataCompraTrimestre']\n",
    "cliente_1_cmp_tri.head()"
   ]
  },
  {
   "cell_type": "markdown",
   "id": "92857572",
   "metadata": {},
   "source": [
    "E então, agora vamos encontrar a última compra feita por cada cliente no dataframe cliente_comp_dt."
   ]
  },
  {
   "cell_type": "code",
   "execution_count": 79,
   "id": "c1e7c15d",
   "metadata": {},
   "outputs": [
    {
     "data": {
      "text/html": [
       "<div>\n",
       "<style scoped>\n",
       "    .dataframe tbody tr th:only-of-type {\n",
       "        vertical-align: middle;\n",
       "    }\n",
       "\n",
       "    .dataframe tbody tr th {\n",
       "        vertical-align: top;\n",
       "    }\n",
       "\n",
       "    .dataframe thead th {\n",
       "        text-align: right;\n",
       "    }\n",
       "</style>\n",
       "<table border=\"1\" class=\"dataframe\">\n",
       "  <thead>\n",
       "    <tr style=\"text-align: right;\">\n",
       "      <th></th>\n",
       "      <th>ID_Cliente</th>\n",
       "      <th>UltDataCompraAnteriorAoTrismestre</th>\n",
       "    </tr>\n",
       "  </thead>\n",
       "  <tbody>\n",
       "    <tr>\n",
       "      <th>0</th>\n",
       "      <td>1</td>\n",
       "      <td>2021-05-27</td>\n",
       "    </tr>\n",
       "    <tr>\n",
       "      <th>1</th>\n",
       "      <td>2</td>\n",
       "      <td>2021-05-26</td>\n",
       "    </tr>\n",
       "    <tr>\n",
       "      <th>2</th>\n",
       "      <td>3</td>\n",
       "      <td>2021-05-17</td>\n",
       "    </tr>\n",
       "    <tr>\n",
       "      <th>3</th>\n",
       "      <td>4</td>\n",
       "      <td>2021-05-17</td>\n",
       "    </tr>\n",
       "    <tr>\n",
       "      <th>4</th>\n",
       "      <td>5</td>\n",
       "      <td>2021-05-16</td>\n",
       "    </tr>\n",
       "    <tr>\n",
       "      <th>...</th>\n",
       "      <td>...</td>\n",
       "      <td>...</td>\n",
       "    </tr>\n",
       "    <tr>\n",
       "      <th>2443</th>\n",
       "      <td>15889151369</td>\n",
       "      <td>2022-09-30</td>\n",
       "    </tr>\n",
       "    <tr>\n",
       "      <th>2444</th>\n",
       "      <td>15889169723</td>\n",
       "      <td>2022-09-30</td>\n",
       "    </tr>\n",
       "    <tr>\n",
       "      <th>2445</th>\n",
       "      <td>15889184513</td>\n",
       "      <td>2022-09-30</td>\n",
       "    </tr>\n",
       "    <tr>\n",
       "      <th>2446</th>\n",
       "      <td>15889232166</td>\n",
       "      <td>2022-09-30</td>\n",
       "    </tr>\n",
       "    <tr>\n",
       "      <th>2447</th>\n",
       "      <td>15889399743</td>\n",
       "      <td>2022-09-30</td>\n",
       "    </tr>\n",
       "  </tbody>\n",
       "</table>\n",
       "<p>2448 rows × 2 columns</p>\n",
       "</div>"
      ],
      "text/plain": [
       "       ID_Cliente UltDataCompraAnteriorAoTrismestre\n",
       "0               1                        2021-05-27\n",
       "1               2                        2021-05-26\n",
       "2               3                        2021-05-17\n",
       "3               4                        2021-05-17\n",
       "4               5                        2021-05-16\n",
       "...           ...                               ...\n",
       "2443  15889151369                        2022-09-30\n",
       "2444  15889169723                        2022-09-30\n",
       "2445  15889184513                        2022-09-30\n",
       "2446  15889232166                        2022-09-30\n",
       "2447  15889399743                        2022-09-30\n",
       "\n",
       "[2448 rows x 2 columns]"
      ]
     },
     "execution_count": 79,
     "metadata": {},
     "output_type": "execute_result"
    }
   ],
   "source": [
    "cliente_ult_cmp = cliente_comp_dt.groupby('ID_Cliente').Data.max().reset_index()\n",
    "cliente_ult_cmp.columns = ['ID_Cliente', 'UltDataCompraAnteriorAoTrismestre']\n",
    "cliente_ult_cmp"
   ]
  },
  {
   "cell_type": "markdown",
   "id": "b82b48e4",
   "metadata": {},
   "source": [
    "Vamos mesclar os dois dataframes cliente_ult_cmp e cliente_1_cmp_tri. "
   ]
  },
  {
   "cell_type": "code",
   "execution_count": 80,
   "id": "d3110279",
   "metadata": {},
   "outputs": [],
   "source": [
    "clientes_data_compras = pd.merge(cliente_ult_cmp, cliente_1_cmp_tri, on='ID_Cliente', how='left')"
   ]
  },
  {
   "cell_type": "code",
   "execution_count": 81,
   "id": "23205b61",
   "metadata": {},
   "outputs": [
    {
     "data": {
      "text/html": [
       "<div>\n",
       "<style scoped>\n",
       "    .dataframe tbody tr th:only-of-type {\n",
       "        vertical-align: middle;\n",
       "    }\n",
       "\n",
       "    .dataframe tbody tr th {\n",
       "        vertical-align: top;\n",
       "    }\n",
       "\n",
       "    .dataframe thead th {\n",
       "        text-align: right;\n",
       "    }\n",
       "</style>\n",
       "<table border=\"1\" class=\"dataframe\">\n",
       "  <thead>\n",
       "    <tr style=\"text-align: right;\">\n",
       "      <th></th>\n",
       "      <th>ID_Cliente</th>\n",
       "      <th>UltDataCompraAnteriorAoTrismestre</th>\n",
       "      <th>PrimeiraDataCompraTrimestre</th>\n",
       "    </tr>\n",
       "  </thead>\n",
       "  <tbody>\n",
       "    <tr>\n",
       "      <th>0</th>\n",
       "      <td>1</td>\n",
       "      <td>2021-05-27</td>\n",
       "      <td>NaT</td>\n",
       "    </tr>\n",
       "    <tr>\n",
       "      <th>1</th>\n",
       "      <td>2</td>\n",
       "      <td>2021-05-26</td>\n",
       "      <td>NaT</td>\n",
       "    </tr>\n",
       "    <tr>\n",
       "      <th>2</th>\n",
       "      <td>3</td>\n",
       "      <td>2021-05-17</td>\n",
       "      <td>NaT</td>\n",
       "    </tr>\n",
       "    <tr>\n",
       "      <th>3</th>\n",
       "      <td>4</td>\n",
       "      <td>2021-05-17</td>\n",
       "      <td>NaT</td>\n",
       "    </tr>\n",
       "    <tr>\n",
       "      <th>4</th>\n",
       "      <td>5</td>\n",
       "      <td>2021-05-16</td>\n",
       "      <td>NaT</td>\n",
       "    </tr>\n",
       "  </tbody>\n",
       "</table>\n",
       "</div>"
      ],
      "text/plain": [
       "   ID_Cliente UltDataCompraAnteriorAoTrismestre PrimeiraDataCompraTrimestre\n",
       "0           1                        2021-05-27                         NaT\n",
       "1           2                        2021-05-26                         NaT\n",
       "2           3                        2021-05-17                         NaT\n",
       "3           4                        2021-05-17                         NaT\n",
       "4           5                        2021-05-16                         NaT"
      ]
     },
     "execution_count": 81,
     "metadata": {},
     "output_type": "execute_result"
    }
   ],
   "source": [
    "clientes_data_compras.head()"
   ]
  },
  {
   "cell_type": "markdown",
   "id": "4199d24e",
   "metadata": {},
   "source": [
    "Vamos calcular a diferença de tempo em dias entre a última compra do cliente no dataframe cliente_ult_cmp e a primeira compra no dataframe cliente_1_cmp_tri."
   ]
  },
  {
   "cell_type": "code",
   "execution_count": 82,
   "id": "593259b0",
   "metadata": {},
   "outputs": [
    {
     "data": {
      "text/html": [
       "<div>\n",
       "<style scoped>\n",
       "    .dataframe tbody tr th:only-of-type {\n",
       "        vertical-align: middle;\n",
       "    }\n",
       "\n",
       "    .dataframe tbody tr th {\n",
       "        vertical-align: top;\n",
       "    }\n",
       "\n",
       "    .dataframe thead th {\n",
       "        text-align: right;\n",
       "    }\n",
       "</style>\n",
       "<table border=\"1\" class=\"dataframe\">\n",
       "  <thead>\n",
       "    <tr style=\"text-align: right;\">\n",
       "      <th></th>\n",
       "      <th>ID_Cliente</th>\n",
       "      <th>UltDataCompraAnteriorAoTrismestre</th>\n",
       "      <th>PrimeiraDataCompraTrimestre</th>\n",
       "      <th>ProximoDiaCompra</th>\n",
       "    </tr>\n",
       "  </thead>\n",
       "  <tbody>\n",
       "    <tr>\n",
       "      <th>0</th>\n",
       "      <td>1</td>\n",
       "      <td>2021-05-27</td>\n",
       "      <td>NaT</td>\n",
       "      <td>NaN</td>\n",
       "    </tr>\n",
       "    <tr>\n",
       "      <th>1</th>\n",
       "      <td>2</td>\n",
       "      <td>2021-05-26</td>\n",
       "      <td>NaT</td>\n",
       "      <td>NaN</td>\n",
       "    </tr>\n",
       "    <tr>\n",
       "      <th>2</th>\n",
       "      <td>3</td>\n",
       "      <td>2021-05-17</td>\n",
       "      <td>NaT</td>\n",
       "      <td>NaN</td>\n",
       "    </tr>\n",
       "    <tr>\n",
       "      <th>3</th>\n",
       "      <td>4</td>\n",
       "      <td>2021-05-17</td>\n",
       "      <td>NaT</td>\n",
       "      <td>NaN</td>\n",
       "    </tr>\n",
       "    <tr>\n",
       "      <th>4</th>\n",
       "      <td>5</td>\n",
       "      <td>2021-05-16</td>\n",
       "      <td>NaT</td>\n",
       "      <td>NaN</td>\n",
       "    </tr>\n",
       "  </tbody>\n",
       "</table>\n",
       "</div>"
      ],
      "text/plain": [
       "   ID_Cliente UltDataCompraAnteriorAoTrismestre PrimeiraDataCompraTrimestre  \\\n",
       "0           1                        2021-05-27                         NaT   \n",
       "1           2                        2021-05-26                         NaT   \n",
       "2           3                        2021-05-17                         NaT   \n",
       "3           4                        2021-05-17                         NaT   \n",
       "4           5                        2021-05-16                         NaT   \n",
       "\n",
       "   ProximoDiaCompra  \n",
       "0               NaN  \n",
       "1               NaN  \n",
       "2               NaN  \n",
       "3               NaN  \n",
       "4               NaN  "
      ]
     },
     "execution_count": 82,
     "metadata": {},
     "output_type": "execute_result"
    }
   ],
   "source": [
    "clientes_data_compras['ProximoDiaCompra'] = (clientes_data_compras['PrimeiraDataCompraTrimestre'] -\n",
    "                                             clientes_data_compras['UltDataCompraAnteriorAoTrismestre']).dt.days\n",
    "\n",
    "clientes_data_compras.head()"
   ]
  },
  {
   "cell_type": "code",
   "execution_count": 83,
   "id": "c8907f31",
   "metadata": {},
   "outputs": [
    {
     "data": {
      "text/html": [
       "<div>\n",
       "<style scoped>\n",
       "    .dataframe tbody tr th:only-of-type {\n",
       "        vertical-align: middle;\n",
       "    }\n",
       "\n",
       "    .dataframe tbody tr th {\n",
       "        vertical-align: top;\n",
       "    }\n",
       "\n",
       "    .dataframe thead th {\n",
       "        text-align: right;\n",
       "    }\n",
       "</style>\n",
       "<table border=\"1\" class=\"dataframe\">\n",
       "  <thead>\n",
       "    <tr style=\"text-align: right;\">\n",
       "      <th></th>\n",
       "      <th>ID_Cliente</th>\n",
       "      <th>ProximoDiaCompra</th>\n",
       "    </tr>\n",
       "  </thead>\n",
       "  <tbody>\n",
       "    <tr>\n",
       "      <th>0</th>\n",
       "      <td>12429082030</td>\n",
       "      <td>NaN</td>\n",
       "    </tr>\n",
       "    <tr>\n",
       "      <th>1</th>\n",
       "      <td>12793619292</td>\n",
       "      <td>NaN</td>\n",
       "    </tr>\n",
       "    <tr>\n",
       "      <th>2</th>\n",
       "      <td>1</td>\n",
       "      <td>NaN</td>\n",
       "    </tr>\n",
       "    <tr>\n",
       "      <th>3</th>\n",
       "      <td>2</td>\n",
       "      <td>NaN</td>\n",
       "    </tr>\n",
       "    <tr>\n",
       "      <th>4</th>\n",
       "      <td>12732289533</td>\n",
       "      <td>27.0</td>\n",
       "    </tr>\n",
       "  </tbody>\n",
       "</table>\n",
       "</div>"
      ],
      "text/plain": [
       "    ID_Cliente  ProximoDiaCompra\n",
       "0  12429082030               NaN\n",
       "1  12793619292               NaN\n",
       "2            1               NaN\n",
       "3            2               NaN\n",
       "4  12732289533              27.0"
      ]
     },
     "execution_count": 83,
     "metadata": {},
     "output_type": "execute_result"
    }
   ],
   "source": [
    "# Mescla com dados_clientes\n",
    "dados_clientes = pd.merge(dados_clientes, clientes_data_compras[['ID_Cliente', 'ProximoDiaCompra']], on='ID_Cliente', how='left')\n",
    "dados_clientes.head()"
   ]
  },
  {
   "cell_type": "markdown",
   "id": "6e193b3b",
   "metadata": {},
   "source": [
    "Irei atualizar o dataframe dados_clientes preenchendo todos os valores ausentes com 9999"
   ]
  },
  {
   "cell_type": "code",
   "execution_count": 84,
   "id": "5713add9",
   "metadata": {},
   "outputs": [
    {
     "data": {
      "text/html": [
       "<div>\n",
       "<style scoped>\n",
       "    .dataframe tbody tr th:only-of-type {\n",
       "        vertical-align: middle;\n",
       "    }\n",
       "\n",
       "    .dataframe tbody tr th {\n",
       "        vertical-align: top;\n",
       "    }\n",
       "\n",
       "    .dataframe thead th {\n",
       "        text-align: right;\n",
       "    }\n",
       "</style>\n",
       "<table border=\"1\" class=\"dataframe\">\n",
       "  <thead>\n",
       "    <tr style=\"text-align: right;\">\n",
       "      <th></th>\n",
       "      <th>ID_Cliente</th>\n",
       "      <th>ProximoDiaCompra</th>\n",
       "    </tr>\n",
       "  </thead>\n",
       "  <tbody>\n",
       "    <tr>\n",
       "      <th>0</th>\n",
       "      <td>12429082030</td>\n",
       "      <td>9999.0</td>\n",
       "    </tr>\n",
       "    <tr>\n",
       "      <th>1</th>\n",
       "      <td>12793619292</td>\n",
       "      <td>9999.0</td>\n",
       "    </tr>\n",
       "    <tr>\n",
       "      <th>2</th>\n",
       "      <td>1</td>\n",
       "      <td>9999.0</td>\n",
       "    </tr>\n",
       "    <tr>\n",
       "      <th>3</th>\n",
       "      <td>2</td>\n",
       "      <td>9999.0</td>\n",
       "    </tr>\n",
       "    <tr>\n",
       "      <th>4</th>\n",
       "      <td>12732289533</td>\n",
       "      <td>27.0</td>\n",
       "    </tr>\n",
       "  </tbody>\n",
       "</table>\n",
       "</div>"
      ],
      "text/plain": [
       "    ID_Cliente  ProximoDiaCompra\n",
       "0  12429082030            9999.0\n",
       "1  12793619292            9999.0\n",
       "2            1            9999.0\n",
       "3            2            9999.0\n",
       "4  12732289533              27.0"
      ]
     },
     "execution_count": 84,
     "metadata": {},
     "output_type": "execute_result"
    }
   ],
   "source": [
    "dados_clientes = dados_clientes.fillna(9999)\n",
    "dados_clientes.head()"
   ]
  },
  {
   "cell_type": "markdown",
   "id": "c9e87735",
   "metadata": {},
   "source": [
    "Em seguida, definiremos alguns recursos e os adicionaremos ao dataframe dados_clientes para construir nosso modelo de aprendizado de máquina. Usaremos o método de segmentação Recência - Frequência - Valor Monetário. Ou seja, vamos colocar os clientes em grupos com base no seguinte:\n",
    "\n",
    "   *  Recência: o comportamento de compra dos clientes com base na data de compra mais recente e quantos dias eles ficaram inativos desde a última compra.\n",
    "\n",
    "   *  Frequência: Comportamento de compra dos clientes com base no número de vezes que compram na loja de varejo online.\n",
    "\n",
    "   *  Valor/receita monetária: comportamento de compra dos clientes com base na receita que geram.\n",
    "\n",
    "Depois, aplicaremos o agrupamento de K-means para atribuir aos clientes uma pontuação para cada um dos recursos.\n"
   ]
  },
  {
   "cell_type": "markdown",
   "id": "6949a4bf",
   "metadata": {},
   "source": [
    "**Recência**"
   ]
  },
  {
   "cell_type": "markdown",
   "id": "bf3f504c",
   "metadata": {},
   "source": [
    "Vamos encontrar a data de compra mais recente de cada cliente e ver quantos dias ele está inativo. Depois, podemos aplicar o agrupamento de K-means para atribuir aos clientes uma pontuação de recência"
   ]
  },
  {
   "cell_type": "code",
   "execution_count": 85,
   "id": "81f6caca",
   "metadata": {},
   "outputs": [
    {
     "data": {
      "text/html": [
       "<div>\n",
       "<style scoped>\n",
       "    .dataframe tbody tr th:only-of-type {\n",
       "        vertical-align: middle;\n",
       "    }\n",
       "\n",
       "    .dataframe tbody tr th {\n",
       "        vertical-align: top;\n",
       "    }\n",
       "\n",
       "    .dataframe thead th {\n",
       "        text-align: right;\n",
       "    }\n",
       "</style>\n",
       "<table border=\"1\" class=\"dataframe\">\n",
       "  <thead>\n",
       "    <tr style=\"text-align: right;\">\n",
       "      <th></th>\n",
       "      <th>ID_Cliente</th>\n",
       "      <th>CompraMaisRecente</th>\n",
       "    </tr>\n",
       "  </thead>\n",
       "  <tbody>\n",
       "    <tr>\n",
       "      <th>0</th>\n",
       "      <td>1</td>\n",
       "      <td>2021-05-27</td>\n",
       "    </tr>\n",
       "    <tr>\n",
       "      <th>1</th>\n",
       "      <td>2</td>\n",
       "      <td>2021-05-26</td>\n",
       "    </tr>\n",
       "    <tr>\n",
       "      <th>2</th>\n",
       "      <td>3</td>\n",
       "      <td>2021-05-17</td>\n",
       "    </tr>\n",
       "    <tr>\n",
       "      <th>3</th>\n",
       "      <td>4</td>\n",
       "      <td>2021-05-17</td>\n",
       "    </tr>\n",
       "    <tr>\n",
       "      <th>4</th>\n",
       "      <td>5</td>\n",
       "      <td>2021-05-16</td>\n",
       "    </tr>\n",
       "  </tbody>\n",
       "</table>\n",
       "</div>"
      ],
      "text/plain": [
       "   ID_Cliente CompraMaisRecente\n",
       "0           1        2021-05-27\n",
       "1           2        2021-05-26\n",
       "2           3        2021-05-17\n",
       "3           4        2021-05-17\n",
       "4           5        2021-05-16"
      ]
     },
     "execution_count": 85,
     "metadata": {},
     "output_type": "execute_result"
    }
   ],
   "source": [
    "cliente_compra_recente = cliente_comp_dt.groupby('ID_Cliente').Data.max().reset_index()\n",
    "cliente_compra_recente.columns = ['ID_Cliente', 'CompraMaisRecente']\n",
    "cliente_compra_recente.head()"
   ]
  },
  {
   "cell_type": "code",
   "execution_count": 86,
   "id": "1408f438",
   "metadata": {},
   "outputs": [
    {
     "data": {
      "text/html": [
       "<div>\n",
       "<style scoped>\n",
       "    .dataframe tbody tr th:only-of-type {\n",
       "        vertical-align: middle;\n",
       "    }\n",
       "\n",
       "    .dataframe tbody tr th {\n",
       "        vertical-align: top;\n",
       "    }\n",
       "\n",
       "    .dataframe thead th {\n",
       "        text-align: right;\n",
       "    }\n",
       "</style>\n",
       "<table border=\"1\" class=\"dataframe\">\n",
       "  <thead>\n",
       "    <tr style=\"text-align: right;\">\n",
       "      <th></th>\n",
       "      <th>ID_Cliente</th>\n",
       "      <th>ProximoDiaCompra</th>\n",
       "      <th>Recencia</th>\n",
       "    </tr>\n",
       "  </thead>\n",
       "  <tbody>\n",
       "    <tr>\n",
       "      <th>0</th>\n",
       "      <td>12429082030</td>\n",
       "      <td>9999.0</td>\n",
       "      <td>490</td>\n",
       "    </tr>\n",
       "    <tr>\n",
       "      <th>1</th>\n",
       "      <td>12793619292</td>\n",
       "      <td>9999.0</td>\n",
       "      <td>100</td>\n",
       "    </tr>\n",
       "    <tr>\n",
       "      <th>2</th>\n",
       "      <td>1</td>\n",
       "      <td>9999.0</td>\n",
       "      <td>491</td>\n",
       "    </tr>\n",
       "    <tr>\n",
       "      <th>3</th>\n",
       "      <td>2</td>\n",
       "      <td>9999.0</td>\n",
       "      <td>492</td>\n",
       "    </tr>\n",
       "    <tr>\n",
       "      <th>4</th>\n",
       "      <td>12732289533</td>\n",
       "      <td>27.0</td>\n",
       "      <td>13</td>\n",
       "    </tr>\n",
       "  </tbody>\n",
       "</table>\n",
       "</div>"
      ],
      "text/plain": [
       "    ID_Cliente  ProximoDiaCompra  Recencia\n",
       "0  12429082030            9999.0       490\n",
       "1  12793619292            9999.0       100\n",
       "2            1            9999.0       491\n",
       "3            2            9999.0       492\n",
       "4  12732289533              27.0        13"
      ]
     },
     "execution_count": 86,
     "metadata": {},
     "output_type": "execute_result"
    }
   ],
   "source": [
    "# Encontrando a Recência em Dias\n",
    "cliente_compra_recente['Recencia'] = (cliente_compra_recente['CompraMaisRecente'].max() - \n",
    "                                      cliente_compra_recente['CompraMaisRecente']).dt.days\n",
    "\n",
    "# Mescle os dataframes dados_clientes e cliente_compra_recente[['ID_Cliente', 'Recencia']] na coluna CustomerID. \n",
    "dados_clientes = pd.merge(dados_clientes, cliente_compra_recente[['ID_Cliente', 'Recencia']], on='ID_Cliente')\n",
    "dados_clientes.head()"
   ]
  },
  {
   "cell_type": "code",
   "execution_count": 87,
   "id": "b64148eb",
   "metadata": {},
   "outputs": [
    {
     "data": {
      "text/html": [
       "<div>\n",
       "<style scoped>\n",
       "    .dataframe tbody tr th:only-of-type {\n",
       "        vertical-align: middle;\n",
       "    }\n",
       "\n",
       "    .dataframe tbody tr th {\n",
       "        vertical-align: top;\n",
       "    }\n",
       "\n",
       "    .dataframe thead th {\n",
       "        text-align: right;\n",
       "    }\n",
       "</style>\n",
       "<table border=\"1\" class=\"dataframe\">\n",
       "  <thead>\n",
       "    <tr style=\"text-align: right;\">\n",
       "      <th></th>\n",
       "      <th>Recencia</th>\n",
       "    </tr>\n",
       "  </thead>\n",
       "  <tbody>\n",
       "    <tr>\n",
       "      <th>count</th>\n",
       "      <td>2448.000000</td>\n",
       "    </tr>\n",
       "    <tr>\n",
       "      <th>mean</th>\n",
       "      <td>160.996732</td>\n",
       "    </tr>\n",
       "    <tr>\n",
       "      <th>std</th>\n",
       "      <td>154.353439</td>\n",
       "    </tr>\n",
       "    <tr>\n",
       "      <th>min</th>\n",
       "      <td>0.000000</td>\n",
       "    </tr>\n",
       "    <tr>\n",
       "      <th>25%</th>\n",
       "      <td>50.000000</td>\n",
       "    </tr>\n",
       "    <tr>\n",
       "      <th>50%</th>\n",
       "      <td>109.000000</td>\n",
       "    </tr>\n",
       "    <tr>\n",
       "      <th>75%</th>\n",
       "      <td>256.250000</td>\n",
       "    </tr>\n",
       "    <tr>\n",
       "      <th>max</th>\n",
       "      <td>772.000000</td>\n",
       "    </tr>\n",
       "  </tbody>\n",
       "</table>\n",
       "</div>"
      ],
      "text/plain": [
       "          Recencia\n",
       "count  2448.000000\n",
       "mean    160.996732\n",
       "std     154.353439\n",
       "min       0.000000\n",
       "25%      50.000000\n",
       "50%     109.000000\n",
       "75%     256.250000\n",
       "max     772.000000"
      ]
     },
     "execution_count": 87,
     "metadata": {},
     "output_type": "execute_result"
    }
   ],
   "source": [
    "pd.DataFrame(dados_clientes.Recencia.describe())"
   ]
  },
  {
   "cell_type": "markdown",
   "id": "63966ffe",
   "metadata": {},
   "source": [
    "A recência média é de aproximadamente 161 dias, enquanto a mediana é de 109 dias."
   ]
  },
  {
   "cell_type": "code",
   "execution_count": 88,
   "id": "3ce017ca",
   "metadata": {},
   "outputs": [
    {
     "data": {
      "application/vnd.plotly.v1+json": {
       "config": {
        "displaylogo": false,
        "plotlyServerURL": "https://plot.ly"
       },
       "data": [
        {
         "alignmentgroup": "True",
         "bingroup": "x",
         "hovertemplate": "Recencia=%{x}<br>count=%{y}<extra></extra>",
         "legendgroup": "",
         "marker": {
          "color": "#636efa",
          "pattern": {
           "shape": ""
          }
         },
         "name": "",
         "offsetgroup": "",
         "orientation": "v",
         "showlegend": false,
         "type": "histogram",
         "x": [
          490,
          100,
          491,
          492,
          13,
          288,
          139,
          66,
          0,
          500,
          501,
          501,
          56,
          502,
          503,
          8,
          504,
          113,
          504,
          504,
          16,
          505,
          125,
          507,
          507,
          335,
          142,
          507,
          83,
          9,
          511,
          38,
          280,
          512,
          95,
          102,
          512,
          48,
          281,
          513,
          513,
          106,
          94,
          513,
          182,
          0,
          13,
          1,
          16,
          473,
          48,
          21,
          339,
          513,
          513,
          49,
          513,
          277,
          42,
          283,
          123,
          95,
          447,
          513,
          288,
          13,
          211,
          357,
          513,
          99,
          289,
          485,
          90,
          3,
          13,
          189,
          360,
          115,
          513,
          13,
          513,
          513,
          513,
          513,
          290,
          513,
          288,
          513,
          148,
          18,
          120,
          10,
          516,
          9,
          516,
          93,
          346,
          516,
          267,
          58,
          169,
          58,
          535,
          538,
          541,
          122,
          555,
          565,
          596,
          428,
          602,
          93,
          610,
          612,
          613,
          1,
          13,
          60,
          46,
          633,
          639,
          208,
          642,
          179,
          326,
          651,
          654,
          198,
          420,
          660,
          56,
          663,
          664,
          665,
          666,
          16,
          389,
          87,
          670,
          671,
          297,
          109,
          49,
          44,
          219,
          672,
          672,
          672,
          29,
          672,
          672,
          672,
          672,
          672,
          2,
          672,
          672,
          672,
          672,
          389,
          672,
          297,
          672,
          672,
          672,
          672,
          672,
          672,
          4,
          672,
          208,
          672,
          672,
          7,
          672,
          181,
          257,
          390,
          672,
          672,
          15,
          672,
          672,
          672,
          92,
          57,
          672,
          672,
          48,
          55,
          283,
          672,
          450,
          672,
          672,
          672,
          94,
          0,
          672,
          672,
          108,
          455,
          142,
          672,
          282,
          450,
          274,
          672,
          672,
          94,
          672,
          428,
          672,
          255,
          672,
          672,
          672,
          352,
          672,
          420,
          672,
          672,
          208,
          672,
          50,
          672,
          13,
          672,
          672,
          672,
          322,
          62,
          76,
          673,
          719,
          750,
          767,
          772,
          772,
          772,
          516,
          516,
          17,
          513,
          511,
          507,
          91,
          490,
          489,
          488,
          79,
          14,
          483,
          479,
          17,
          479,
          460,
          290,
          65,
          459,
          218,
          479,
          478,
          179,
          57,
          390,
          275,
          476,
          476,
          119,
          275,
          70,
          475,
          339,
          295,
          116,
          464,
          468,
          95,
          102,
          7,
          460,
          281,
          136,
          459,
          459,
          64,
          104,
          339,
          452,
          451,
          208,
          444,
          13,
          118,
          442,
          441,
          10,
          441,
          115,
          438,
          93,
          20,
          91,
          437,
          433,
          88,
          436,
          114,
          104,
          435,
          435,
          16,
          358,
          83,
          408,
          201,
          280,
          94,
          95,
          64,
          90,
          263,
          255,
          48,
          360,
          77,
          428,
          428,
          428,
          428,
          428,
          13,
          45,
          428,
          290,
          420,
          280,
          428,
          45,
          94,
          425,
          22,
          318,
          423,
          344,
          422,
          19,
          421,
          421,
          87,
          382,
          420,
          420,
          417,
          415,
          415,
          339,
          415,
          329,
          116,
          277,
          114,
          414,
          204,
          413,
          7,
          338,
          412,
          392,
          410,
          334,
          409,
          409,
          7,
          406,
          406,
          406,
          406,
          406,
          140,
          405,
          283,
          309,
          404,
          207,
          403,
          402,
          88,
          94,
          109,
          400,
          390,
          95,
          284,
          83,
          290,
          162,
          256,
          0,
          280,
          275,
          388,
          346,
          7,
          395,
          66,
          395,
          53,
          290,
          95,
          290,
          393,
          134,
          50,
          376,
          93,
          123,
          392,
          329,
          22,
          10,
          45,
          392,
          24,
          391,
          375,
          207,
          13,
          390,
          95,
          360,
          208,
          290,
          390,
          94,
          390,
          390,
          15,
          95,
          94,
          290,
          308,
          390,
          93,
          68,
          390,
          389,
          60,
          13,
          4,
          81,
          222,
          389,
          88,
          0,
          389,
          389,
          1,
          0,
          389,
          269,
          119,
          276,
          94,
          386,
          386,
          386,
          385,
          139,
          383,
          209,
          120,
          10,
          95,
          11,
          380,
          380,
          379,
          379,
          204,
          379,
          378,
          53,
          32,
          277,
          376,
          375,
          290,
          275,
          357,
          92,
          141,
          343,
          374,
          86,
          208,
          161,
          372,
          9,
          372,
          372,
          372,
          23,
          58,
          153,
          338,
          64,
          8,
          368,
          207,
          70,
          233,
          366,
          360,
          363,
          113,
          37,
          11,
          360,
          207,
          109,
          95,
          322,
          360,
          0,
          95,
          11,
          309,
          360,
          18,
          360,
          141,
          359,
          358,
          140,
          280,
          357,
          4,
          255,
          356,
          292,
          76,
          55,
          21,
          36,
          95,
          147,
          345,
          41,
          352,
          9,
          352,
          208,
          307,
          351,
          350,
          349,
          107,
          348,
          247,
          348,
          346,
          282,
          109,
          345,
          15,
          343,
          343,
          12,
          343,
          289,
          0,
          77,
          45,
          53,
          340,
          119,
          339,
          339,
          339,
          9,
          95,
          111,
          338,
          338,
          22,
          73,
          59,
          336,
          336,
          336,
          335,
          186,
          193,
          287,
          332,
          7,
          279,
          332,
          211,
          332,
          331,
          203,
          1,
          330,
          329,
          329,
          50,
          13,
          329,
          329,
          329,
          328,
          328,
          327,
          327,
          326,
          267,
          325,
          134,
          323,
          323,
          85,
          322,
          146,
          114,
          267,
          8,
          321,
          94,
          126,
          94,
          10,
          317,
          20,
          34,
          200,
          95,
          25,
          50,
          314,
          276,
          314,
          163,
          314,
          280,
          189,
          314,
          314,
          87,
          314,
          313,
          88,
          289,
          10,
          14,
          74,
          208,
          255,
          311,
          217,
          275,
          310,
          310,
          310,
          304,
          51,
          310,
          7,
          309,
          309,
          150,
          103,
          119,
          20,
          95,
          117,
          309,
          85,
          194,
          309,
          94,
          309,
          22,
          134,
          309,
          102,
          308,
          308,
          281,
          286,
          308,
          85,
          308,
          308,
          204,
          308,
          289,
          308,
          180,
          48,
          308,
          308,
          308,
          308,
          308,
          294,
          21,
          3,
          308,
          134,
          308,
          282,
          307,
          307,
          55,
          307,
          10,
          307,
          273,
          186,
          281,
          17,
          307,
          41,
          307,
          307,
          307,
          307,
          154,
          289,
          140,
          114,
          305,
          305,
          305,
          208,
          304,
          303,
          290,
          302,
          302,
          301,
          137,
          12,
          299,
          299,
          232,
          297,
          298,
          210,
          297,
          296,
          94,
          120,
          177,
          294,
          276,
          207,
          294,
          220,
          282,
          294,
          2,
          293,
          293,
          293,
          292,
          17,
          288,
          291,
          16,
          290,
          231,
          125,
          118,
          95,
          290,
          290,
          290,
          290,
          111,
          48,
          290,
          290,
          95,
          59,
          108,
          289,
          289,
          289,
          289,
          289,
          8,
          42,
          289,
          141,
          289,
          58,
          289,
          289,
          13,
          7,
          51,
          224,
          56,
          288,
          6,
          288,
          117,
          100,
          88,
          86,
          114,
          273,
          288,
          288,
          116,
          149,
          0,
          288,
          275,
          287,
          286,
          287,
          58,
          160,
          88,
          184,
          13,
          287,
          3,
          257,
          148,
          117,
          20,
          286,
          286,
          286,
          90,
          141,
          50,
          284,
          53,
          48,
          195,
          285,
          285,
          285,
          285,
          54,
          9,
          58,
          274,
          284,
          284,
          281,
          284,
          284,
          284,
          284,
          284,
          119,
          284,
          284,
          284,
          284,
          284,
          188,
          136,
          284,
          132,
          284,
          151,
          284,
          284,
          10,
          283,
          283,
          283,
          283,
          283,
          280,
          6,
          283,
          283,
          32,
          283,
          283,
          283,
          196,
          22,
          246,
          283,
          283,
          283,
          6,
          59,
          273,
          154,
          282,
          282,
          282,
          282,
          282,
          282,
          282,
          282,
          282,
          219,
          280,
          114,
          282,
          282,
          282,
          94,
          282,
          282,
          15,
          282,
          99,
          60,
          282,
          165,
          282,
          208,
          280,
          282,
          276,
          93,
          115,
          3,
          246,
          281,
          281,
          281,
          45,
          11,
          281,
          281,
          130,
          281,
          281,
          50,
          281,
          281,
          281,
          281,
          273,
          122,
          274,
          34,
          281,
          280,
          87,
          95,
          280,
          280,
          280,
          280,
          24,
          276,
          220,
          15,
          111,
          56,
          280,
          280,
          280,
          280,
          280,
          14,
          49,
          280,
          280,
          55,
          280,
          203,
          14,
          280,
          280,
          280,
          280,
          95,
          279,
          279,
          279,
          278,
          170,
          255,
          141,
          14,
          277,
          277,
          277,
          276,
          276,
          207,
          276,
          276,
          276,
          276,
          7,
          88,
          276,
          119,
          51,
          274,
          49,
          274,
          205,
          182,
          274,
          59,
          273,
          273,
          273,
          273,
          52,
          16,
          270,
          51,
          268,
          94,
          185,
          54,
          86,
          266,
          266,
          29,
          265,
          263,
          263,
          193,
          262,
          28,
          60,
          148,
          133,
          260,
          260,
          260,
          1,
          91,
          92,
          177,
          36,
          259,
          39,
          257,
          36,
          208,
          256,
          95,
          20,
          36,
          38,
          4,
          150,
          21,
          189,
          256,
          207,
          255,
          255,
          92,
          255,
          95,
          122,
          255,
          9,
          72,
          255,
          255,
          255,
          255,
          255,
          255,
          142,
          186,
          253,
          11,
          231,
          246,
          246,
          246,
          246,
          245,
          242,
          241,
          221,
          240,
          240,
          87,
          234,
          6,
          233,
          147,
          58,
          226,
          226,
          226,
          225,
          142,
          1,
          223,
          221,
          221,
          8,
          147,
          220,
          220,
          112,
          220,
          220,
          220,
          220,
          95,
          220,
          220,
          220,
          220,
          63,
          29,
          109,
          219,
          218,
          218,
          95,
          1,
          177,
          211,
          51,
          128,
          208,
          24,
          45,
          77,
          196,
          49,
          88,
          208,
          48,
          35,
          117,
          47,
          208,
          208,
          105,
          207,
          186,
          207,
          207,
          103,
          207,
          0,
          207,
          207,
          207,
          206,
          206,
          206,
          49,
          206,
          205,
          95,
          67,
          205,
          205,
          93,
          205,
          95,
          204,
          49,
          204,
          91,
          46,
          203,
          107,
          65,
          120,
          187,
          203,
          203,
          122,
          203,
          202,
          202,
          202,
          71,
          201,
          201,
          201,
          200,
          200,
          90,
          51,
          200,
          199,
          20,
          108,
          199,
          199,
          199,
          199,
          87,
          199,
          199,
          199,
          199,
          199,
          198,
          72,
          198,
          176,
          197,
          197,
          197,
          196,
          196,
          17,
          196,
          88,
          51,
          74,
          11,
          195,
          194,
          193,
          193,
          39,
          193,
          193,
          184,
          167,
          119,
          122,
          25,
          13,
          6,
          53,
          191,
          147,
          190,
          190,
          85,
          190,
          13,
          189,
          0,
          88,
          66,
          189,
          132,
          189,
          39,
          189,
          189,
          188,
          114,
          64,
          34,
          109,
          186,
          186,
          1,
          80,
          185,
          185,
          10,
          185,
          185,
          48,
          184,
          184,
          184,
          129,
          183,
          183,
          60,
          183,
          24,
          70,
          182,
          182,
          94,
          115,
          182,
          182,
          182,
          136,
          169,
          68,
          178,
          142,
          177,
          177,
          177,
          177,
          13,
          177,
          176,
          90,
          176,
          144,
          175,
          24,
          175,
          82,
          95,
          174,
          174,
          174,
          132,
          21,
          120,
          172,
          172,
          172,
          10,
          109,
          8,
          171,
          171,
          170,
          52,
          169,
          144,
          169,
          169,
          169,
          163,
          46,
          168,
          72,
          168,
          168,
          10,
          167,
          121,
          165,
          165,
          48,
          164,
          155,
          51,
          88,
          27,
          163,
          163,
          162,
          162,
          162,
          20,
          92,
          161,
          100,
          160,
          56,
          160,
          160,
          160,
          160,
          159,
          16,
          158,
          158,
          73,
          93,
          50,
          156,
          156,
          156,
          103,
          156,
          156,
          155,
          134,
          24,
          64,
          155,
          149,
          154,
          39,
          153,
          153,
          153,
          152,
          48,
          95,
          151,
          151,
          151,
          7,
          137,
          92,
          150,
          73,
          51,
          142,
          66,
          149,
          149,
          138,
          149,
          149,
          148,
          116,
          148,
          147,
          148,
          148,
          49,
          147,
          147,
          144,
          147,
          141,
          146,
          146,
          135,
          145,
          145,
          85,
          143,
          144,
          144,
          127,
          4,
          51,
          35,
          69,
          143,
          7,
          142,
          91,
          142,
          142,
          142,
          142,
          142,
          142,
          128,
          49,
          141,
          141,
          17,
          141,
          141,
          93,
          93,
          63,
          141,
          16,
          36,
          140,
          87,
          140,
          137,
          139,
          139,
          139,
          55,
          83,
          139,
          7,
          138,
          93,
          137,
          134,
          123,
          136,
          136,
          136,
          136,
          136,
          20,
          135,
          135,
          135,
          135,
          135,
          89,
          135,
          135,
          135,
          94,
          135,
          122,
          135,
          135,
          135,
          135,
          4,
          135,
          135,
          134,
          58,
          134,
          121,
          134,
          95,
          133,
          133,
          33,
          86,
          132,
          132,
          132,
          132,
          126,
          132,
          132,
          111,
          94,
          130,
          130,
          130,
          92,
          130,
          67,
          129,
          49,
          118,
          127,
          129,
          112,
          115,
          97,
          122,
          86,
          21,
          57,
          127,
          127,
          119,
          43,
          127,
          127,
          21,
          126,
          126,
          126,
          1,
          126,
          126,
          90,
          125,
          125,
          125,
          27,
          125,
          124,
          123,
          93,
          123,
          0,
          123,
          123,
          9,
          122,
          122,
          122,
          18,
          122,
          121,
          121,
          121,
          121,
          79,
          121,
          121,
          121,
          11,
          73,
          120,
          120,
          120,
          120,
          79,
          29,
          55,
          120,
          120,
          88,
          120,
          119,
          119,
          63,
          9,
          11,
          119,
          0,
          71,
          8,
          44,
          119,
          49,
          8,
          92,
          41,
          118,
          118,
          118,
          117,
          117,
          50,
          117,
          87,
          85,
          117,
          116,
          116,
          114,
          115,
          116,
          116,
          28,
          116,
          116,
          115,
          11,
          116,
          50,
          116,
          116,
          115,
          48,
          115,
          115,
          115,
          94,
          94,
          115,
          115,
          115,
          88,
          115,
          95,
          115,
          115,
          114,
          93,
          114,
          114,
          35,
          114,
          91,
          91,
          114,
          114,
          114,
          83,
          114,
          113,
          113,
          108,
          113,
          8,
          113,
          113,
          113,
          56,
          111,
          50,
          35,
          113,
          113,
          8,
          85,
          112,
          112,
          53,
          110,
          112,
          112,
          112,
          112,
          46,
          112,
          112,
          112,
          112,
          112,
          112,
          112,
          48,
          112,
          112,
          112,
          112,
          111,
          105,
          111,
          49,
          111,
          111,
          111,
          111,
          111,
          81,
          111,
          111,
          111,
          44,
          111,
          111,
          111,
          111,
          9,
          111,
          111,
          111,
          65,
          111,
          111,
          111,
          111,
          111,
          111,
          111,
          30,
          111,
          48,
          111,
          111,
          9,
          110,
          88,
          109,
          58,
          109,
          109,
          109,
          72,
          109,
          109,
          15,
          11,
          42,
          12,
          13,
          108,
          108,
          108,
          107,
          107,
          107,
          43,
          107,
          106,
          106,
          106,
          106,
          106,
          105,
          30,
          37,
          93,
          105,
          97,
          62,
          105,
          105,
          9,
          104,
          104,
          104,
          104,
          103,
          53,
          102,
          52,
          9,
          102,
          102,
          102,
          89,
          102,
          101,
          101,
          101,
          101,
          101,
          21,
          100,
          100,
          99,
          99,
          59,
          97,
          89,
          89,
          95,
          95,
          46,
          86,
          95,
          7,
          95,
          95,
          95,
          20,
          20,
          95,
          50,
          95,
          95,
          95,
          95,
          95,
          95,
          51,
          94,
          23,
          94,
          94,
          94,
          94,
          94,
          14,
          94,
          5,
          94,
          94,
          15,
          94,
          94,
          94,
          94,
          0,
          49,
          93,
          93,
          93,
          93,
          93,
          55,
          93,
          39,
          93,
          93,
          93,
          93,
          93,
          93,
          93,
          93,
          60,
          92,
          92,
          92,
          92,
          92,
          50,
          92,
          92,
          49,
          12,
          92,
          18,
          92,
          36,
          24,
          71,
          15,
          25,
          91,
          91,
          90,
          90,
          90,
          88,
          90,
          90,
          89,
          89,
          57,
          60,
          88,
          88,
          43,
          88,
          29,
          88,
          88,
          88,
          88,
          88,
          88,
          88,
          53,
          15,
          88,
          7,
          88,
          88,
          34,
          88,
          88,
          87,
          36,
          87,
          87,
          87,
          56,
          86,
          86,
          86,
          86,
          71,
          85,
          85,
          85,
          85,
          84,
          84,
          83,
          83,
          83,
          28,
          82,
          81,
          13,
          68,
          81,
          58,
          81,
          27,
          80,
          80,
          80,
          80,
          15,
          79,
          79,
          21,
          79,
          78,
          60,
          78,
          78,
          67,
          78,
          77,
          77,
          38,
          48,
          77,
          11,
          57,
          76,
          71,
          75,
          75,
          75,
          75,
          74,
          54,
          9,
          74,
          51,
          73,
          73,
          46,
          62,
          70,
          72,
          18,
          72,
          72,
          72,
          64,
          72,
          72,
          72,
          72,
          60,
          0,
          71,
          72,
          72,
          72,
          51,
          71,
          71,
          71,
          71,
          71,
          71,
          71,
          71,
          71,
          67,
          67,
          71,
          71,
          30,
          16,
          71,
          71,
          71,
          16,
          70,
          70,
          70,
          70,
          70,
          70,
          60,
          63,
          70,
          70,
          48,
          44,
          70,
          19,
          70,
          69,
          69,
          69,
          12,
          69,
          67,
          68,
          67,
          9,
          57,
          67,
          66,
          66,
          1,
          8,
          66,
          66,
          66,
          65,
          51,
          65,
          30,
          65,
          64,
          43,
          39,
          64,
          64,
          63,
          63,
          63,
          42,
          56,
          63,
          63,
          29,
          63,
          63,
          63,
          63,
          58,
          62,
          62,
          25,
          45,
          62,
          62,
          62,
          62,
          62,
          55,
          28,
          62,
          56,
          61,
          50,
          50,
          61,
          60,
          60,
          60,
          52,
          60,
          59,
          59,
          59,
          59,
          59,
          57,
          59,
          59,
          19,
          54,
          58,
          32,
          57,
          57,
          57,
          57,
          57,
          57,
          40,
          57,
          57,
          57,
          57,
          57,
          16,
          57,
          57,
          51,
          57,
          56,
          56,
          56,
          56,
          56,
          8,
          56,
          56,
          53,
          56,
          55,
          55,
          55,
          55,
          55,
          52,
          55,
          54,
          53,
          53,
          53,
          53,
          53,
          53,
          53,
          53,
          52,
          42,
          52,
          45,
          45,
          31,
          51,
          51,
          16,
          48,
          51,
          50,
          50,
          14,
          50,
          50,
          50,
          9,
          50,
          50,
          50,
          50,
          50,
          49,
          49,
          49,
          49,
          49,
          49,
          49,
          49,
          49,
          49,
          15,
          46,
          49,
          49,
          49,
          49,
          49,
          49,
          49,
          48,
          48,
          48,
          48,
          48,
          48,
          48,
          48,
          48,
          48,
          48,
          48,
          48,
          48,
          48,
          48,
          48,
          48,
          48,
          48,
          8,
          48,
          48,
          48,
          48,
          48,
          48,
          46,
          46,
          46,
          46,
          46,
          7,
          13,
          45,
          45,
          45,
          45,
          45,
          44,
          44,
          44,
          44,
          44,
          44,
          44,
          43,
          43,
          43,
          42,
          42,
          42,
          42,
          42,
          39,
          41,
          41,
          41,
          41,
          1,
          9,
          40,
          40,
          39,
          39,
          39,
          16,
          11,
          38,
          38,
          38,
          37,
          37,
          37,
          37,
          36,
          36,
          36,
          36,
          35,
          35,
          35,
          35,
          34,
          34,
          34,
          32,
          32,
          32,
          30,
          30,
          29,
          29,
          29,
          29,
          14,
          14,
          29,
          29,
          22,
          28,
          28,
          28,
          28,
          28,
          28,
          15,
          27,
          6,
          27,
          13,
          25,
          25,
          25,
          25,
          24,
          24,
          24,
          24,
          4,
          24,
          24,
          24,
          24,
          19,
          24,
          23,
          23,
          23,
          23,
          22,
          22,
          22,
          22,
          22,
          22,
          21,
          21,
          21,
          21,
          21,
          20,
          20,
          20,
          20,
          20,
          20,
          19,
          18,
          16,
          17,
          17,
          17,
          17,
          17,
          17,
          16,
          16,
          16,
          16,
          16,
          8,
          16,
          15,
          15,
          15,
          15,
          13,
          14,
          14,
          14,
          14,
          14,
          14,
          14,
          14,
          14,
          13,
          13,
          13,
          13,
          13,
          13,
          13,
          13,
          13,
          13,
          13,
          13,
          13,
          13,
          12,
          6,
          11,
          11,
          11,
          11,
          11,
          11,
          11,
          10,
          10,
          10,
          10,
          10,
          10,
          10,
          10,
          9,
          9,
          9,
          8,
          9,
          6,
          9,
          9,
          8,
          8,
          8,
          8,
          8,
          7,
          7,
          7,
          7,
          7,
          7,
          7,
          7,
          7,
          7,
          6,
          6,
          6,
          6,
          6,
          6,
          5,
          4,
          4,
          4,
          4,
          3,
          3,
          3,
          3,
          3,
          3,
          3,
          3,
          3,
          2,
          2,
          2,
          2,
          2,
          1,
          1,
          1,
          0,
          0,
          0,
          0,
          0,
          0,
          0,
          0,
          0,
          0
         ],
         "xaxis": "x",
         "yaxis": "y"
        }
       ],
       "layout": {
        "barmode": "relative",
        "legend": {
         "tracegroupgap": 0
        },
        "template": {
         "data": {
          "bar": [
           {
            "error_x": {
             "color": "#2a3f5f"
            },
            "error_y": {
             "color": "#2a3f5f"
            },
            "marker": {
             "line": {
              "color": "#E5ECF6",
              "width": 0.5
             },
             "pattern": {
              "fillmode": "overlay",
              "size": 10,
              "solidity": 0.2
             }
            },
            "type": "bar"
           }
          ],
          "barpolar": [
           {
            "marker": {
             "line": {
              "color": "#E5ECF6",
              "width": 0.5
             },
             "pattern": {
              "fillmode": "overlay",
              "size": 10,
              "solidity": 0.2
             }
            },
            "type": "barpolar"
           }
          ],
          "carpet": [
           {
            "aaxis": {
             "endlinecolor": "#2a3f5f",
             "gridcolor": "white",
             "linecolor": "white",
             "minorgridcolor": "white",
             "startlinecolor": "#2a3f5f"
            },
            "baxis": {
             "endlinecolor": "#2a3f5f",
             "gridcolor": "white",
             "linecolor": "white",
             "minorgridcolor": "white",
             "startlinecolor": "#2a3f5f"
            },
            "type": "carpet"
           }
          ],
          "choropleth": [
           {
            "colorbar": {
             "outlinewidth": 0,
             "ticks": ""
            },
            "type": "choropleth"
           }
          ],
          "contour": [
           {
            "colorbar": {
             "outlinewidth": 0,
             "ticks": ""
            },
            "colorscale": [
             [
              0,
              "#0d0887"
             ],
             [
              0.1111111111111111,
              "#46039f"
             ],
             [
              0.2222222222222222,
              "#7201a8"
             ],
             [
              0.3333333333333333,
              "#9c179e"
             ],
             [
              0.4444444444444444,
              "#bd3786"
             ],
             [
              0.5555555555555556,
              "#d8576b"
             ],
             [
              0.6666666666666666,
              "#ed7953"
             ],
             [
              0.7777777777777778,
              "#fb9f3a"
             ],
             [
              0.8888888888888888,
              "#fdca26"
             ],
             [
              1,
              "#f0f921"
             ]
            ],
            "type": "contour"
           }
          ],
          "contourcarpet": [
           {
            "colorbar": {
             "outlinewidth": 0,
             "ticks": ""
            },
            "type": "contourcarpet"
           }
          ],
          "heatmap": [
           {
            "colorbar": {
             "outlinewidth": 0,
             "ticks": ""
            },
            "colorscale": [
             [
              0,
              "#0d0887"
             ],
             [
              0.1111111111111111,
              "#46039f"
             ],
             [
              0.2222222222222222,
              "#7201a8"
             ],
             [
              0.3333333333333333,
              "#9c179e"
             ],
             [
              0.4444444444444444,
              "#bd3786"
             ],
             [
              0.5555555555555556,
              "#d8576b"
             ],
             [
              0.6666666666666666,
              "#ed7953"
             ],
             [
              0.7777777777777778,
              "#fb9f3a"
             ],
             [
              0.8888888888888888,
              "#fdca26"
             ],
             [
              1,
              "#f0f921"
             ]
            ],
            "type": "heatmap"
           }
          ],
          "heatmapgl": [
           {
            "colorbar": {
             "outlinewidth": 0,
             "ticks": ""
            },
            "colorscale": [
             [
              0,
              "#0d0887"
             ],
             [
              0.1111111111111111,
              "#46039f"
             ],
             [
              0.2222222222222222,
              "#7201a8"
             ],
             [
              0.3333333333333333,
              "#9c179e"
             ],
             [
              0.4444444444444444,
              "#bd3786"
             ],
             [
              0.5555555555555556,
              "#d8576b"
             ],
             [
              0.6666666666666666,
              "#ed7953"
             ],
             [
              0.7777777777777778,
              "#fb9f3a"
             ],
             [
              0.8888888888888888,
              "#fdca26"
             ],
             [
              1,
              "#f0f921"
             ]
            ],
            "type": "heatmapgl"
           }
          ],
          "histogram": [
           {
            "marker": {
             "pattern": {
              "fillmode": "overlay",
              "size": 10,
              "solidity": 0.2
             }
            },
            "type": "histogram"
           }
          ],
          "histogram2d": [
           {
            "colorbar": {
             "outlinewidth": 0,
             "ticks": ""
            },
            "colorscale": [
             [
              0,
              "#0d0887"
             ],
             [
              0.1111111111111111,
              "#46039f"
             ],
             [
              0.2222222222222222,
              "#7201a8"
             ],
             [
              0.3333333333333333,
              "#9c179e"
             ],
             [
              0.4444444444444444,
              "#bd3786"
             ],
             [
              0.5555555555555556,
              "#d8576b"
             ],
             [
              0.6666666666666666,
              "#ed7953"
             ],
             [
              0.7777777777777778,
              "#fb9f3a"
             ],
             [
              0.8888888888888888,
              "#fdca26"
             ],
             [
              1,
              "#f0f921"
             ]
            ],
            "type": "histogram2d"
           }
          ],
          "histogram2dcontour": [
           {
            "colorbar": {
             "outlinewidth": 0,
             "ticks": ""
            },
            "colorscale": [
             [
              0,
              "#0d0887"
             ],
             [
              0.1111111111111111,
              "#46039f"
             ],
             [
              0.2222222222222222,
              "#7201a8"
             ],
             [
              0.3333333333333333,
              "#9c179e"
             ],
             [
              0.4444444444444444,
              "#bd3786"
             ],
             [
              0.5555555555555556,
              "#d8576b"
             ],
             [
              0.6666666666666666,
              "#ed7953"
             ],
             [
              0.7777777777777778,
              "#fb9f3a"
             ],
             [
              0.8888888888888888,
              "#fdca26"
             ],
             [
              1,
              "#f0f921"
             ]
            ],
            "type": "histogram2dcontour"
           }
          ],
          "mesh3d": [
           {
            "colorbar": {
             "outlinewidth": 0,
             "ticks": ""
            },
            "type": "mesh3d"
           }
          ],
          "parcoords": [
           {
            "line": {
             "colorbar": {
              "outlinewidth": 0,
              "ticks": ""
             }
            },
            "type": "parcoords"
           }
          ],
          "pie": [
           {
            "automargin": true,
            "type": "pie"
           }
          ],
          "scatter": [
           {
            "fillpattern": {
             "fillmode": "overlay",
             "size": 10,
             "solidity": 0.2
            },
            "type": "scatter"
           }
          ],
          "scatter3d": [
           {
            "line": {
             "colorbar": {
              "outlinewidth": 0,
              "ticks": ""
             }
            },
            "marker": {
             "colorbar": {
              "outlinewidth": 0,
              "ticks": ""
             }
            },
            "type": "scatter3d"
           }
          ],
          "scattercarpet": [
           {
            "marker": {
             "colorbar": {
              "outlinewidth": 0,
              "ticks": ""
             }
            },
            "type": "scattercarpet"
           }
          ],
          "scattergeo": [
           {
            "marker": {
             "colorbar": {
              "outlinewidth": 0,
              "ticks": ""
             }
            },
            "type": "scattergeo"
           }
          ],
          "scattergl": [
           {
            "marker": {
             "colorbar": {
              "outlinewidth": 0,
              "ticks": ""
             }
            },
            "type": "scattergl"
           }
          ],
          "scattermapbox": [
           {
            "marker": {
             "colorbar": {
              "outlinewidth": 0,
              "ticks": ""
             }
            },
            "type": "scattermapbox"
           }
          ],
          "scatterpolar": [
           {
            "marker": {
             "colorbar": {
              "outlinewidth": 0,
              "ticks": ""
             }
            },
            "type": "scatterpolar"
           }
          ],
          "scatterpolargl": [
           {
            "marker": {
             "colorbar": {
              "outlinewidth": 0,
              "ticks": ""
             }
            },
            "type": "scatterpolargl"
           }
          ],
          "scatterternary": [
           {
            "marker": {
             "colorbar": {
              "outlinewidth": 0,
              "ticks": ""
             }
            },
            "type": "scatterternary"
           }
          ],
          "surface": [
           {
            "colorbar": {
             "outlinewidth": 0,
             "ticks": ""
            },
            "colorscale": [
             [
              0,
              "#0d0887"
             ],
             [
              0.1111111111111111,
              "#46039f"
             ],
             [
              0.2222222222222222,
              "#7201a8"
             ],
             [
              0.3333333333333333,
              "#9c179e"
             ],
             [
              0.4444444444444444,
              "#bd3786"
             ],
             [
              0.5555555555555556,
              "#d8576b"
             ],
             [
              0.6666666666666666,
              "#ed7953"
             ],
             [
              0.7777777777777778,
              "#fb9f3a"
             ],
             [
              0.8888888888888888,
              "#fdca26"
             ],
             [
              1,
              "#f0f921"
             ]
            ],
            "type": "surface"
           }
          ],
          "table": [
           {
            "cells": {
             "fill": {
              "color": "#EBF0F8"
             },
             "line": {
              "color": "white"
             }
            },
            "header": {
             "fill": {
              "color": "#C8D4E3"
             },
             "line": {
              "color": "white"
             }
            },
            "type": "table"
           }
          ]
         },
         "layout": {
          "annotationdefaults": {
           "arrowcolor": "#2a3f5f",
           "arrowhead": 0,
           "arrowwidth": 1
          },
          "autotypenumbers": "strict",
          "coloraxis": {
           "colorbar": {
            "outlinewidth": 0,
            "ticks": ""
           }
          },
          "colorscale": {
           "diverging": [
            [
             0,
             "#8e0152"
            ],
            [
             0.1,
             "#c51b7d"
            ],
            [
             0.2,
             "#de77ae"
            ],
            [
             0.3,
             "#f1b6da"
            ],
            [
             0.4,
             "#fde0ef"
            ],
            [
             0.5,
             "#f7f7f7"
            ],
            [
             0.6,
             "#e6f5d0"
            ],
            [
             0.7,
             "#b8e186"
            ],
            [
             0.8,
             "#7fbc41"
            ],
            [
             0.9,
             "#4d9221"
            ],
            [
             1,
             "#276419"
            ]
           ],
           "sequential": [
            [
             0,
             "#0d0887"
            ],
            [
             0.1111111111111111,
             "#46039f"
            ],
            [
             0.2222222222222222,
             "#7201a8"
            ],
            [
             0.3333333333333333,
             "#9c179e"
            ],
            [
             0.4444444444444444,
             "#bd3786"
            ],
            [
             0.5555555555555556,
             "#d8576b"
            ],
            [
             0.6666666666666666,
             "#ed7953"
            ],
            [
             0.7777777777777778,
             "#fb9f3a"
            ],
            [
             0.8888888888888888,
             "#fdca26"
            ],
            [
             1,
             "#f0f921"
            ]
           ],
           "sequentialminus": [
            [
             0,
             "#0d0887"
            ],
            [
             0.1111111111111111,
             "#46039f"
            ],
            [
             0.2222222222222222,
             "#7201a8"
            ],
            [
             0.3333333333333333,
             "#9c179e"
            ],
            [
             0.4444444444444444,
             "#bd3786"
            ],
            [
             0.5555555555555556,
             "#d8576b"
            ],
            [
             0.6666666666666666,
             "#ed7953"
            ],
            [
             0.7777777777777778,
             "#fb9f3a"
            ],
            [
             0.8888888888888888,
             "#fdca26"
            ],
            [
             1,
             "#f0f921"
            ]
           ]
          },
          "colorway": [
           "#636efa",
           "#EF553B",
           "#00cc96",
           "#ab63fa",
           "#FFA15A",
           "#19d3f3",
           "#FF6692",
           "#B6E880",
           "#FF97FF",
           "#FECB52"
          ],
          "font": {
           "color": "#2a3f5f"
          },
          "geo": {
           "bgcolor": "white",
           "lakecolor": "white",
           "landcolor": "#E5ECF6",
           "showlakes": true,
           "showland": true,
           "subunitcolor": "white"
          },
          "hoverlabel": {
           "align": "left"
          },
          "hovermode": "closest",
          "mapbox": {
           "style": "light"
          },
          "paper_bgcolor": "white",
          "plot_bgcolor": "#E5ECF6",
          "polar": {
           "angularaxis": {
            "gridcolor": "white",
            "linecolor": "white",
            "ticks": ""
           },
           "bgcolor": "#E5ECF6",
           "radialaxis": {
            "gridcolor": "white",
            "linecolor": "white",
            "ticks": ""
           }
          },
          "scene": {
           "xaxis": {
            "backgroundcolor": "#E5ECF6",
            "gridcolor": "white",
            "gridwidth": 2,
            "linecolor": "white",
            "showbackground": true,
            "ticks": "",
            "zerolinecolor": "white"
           },
           "yaxis": {
            "backgroundcolor": "#E5ECF6",
            "gridcolor": "white",
            "gridwidth": 2,
            "linecolor": "white",
            "showbackground": true,
            "ticks": "",
            "zerolinecolor": "white"
           },
           "zaxis": {
            "backgroundcolor": "#E5ECF6",
            "gridcolor": "white",
            "gridwidth": 2,
            "linecolor": "white",
            "showbackground": true,
            "ticks": "",
            "zerolinecolor": "white"
           }
          },
          "shapedefaults": {
           "line": {
            "color": "#2a3f5f"
           }
          },
          "ternary": {
           "aaxis": {
            "gridcolor": "white",
            "linecolor": "white",
            "ticks": ""
           },
           "baxis": {
            "gridcolor": "white",
            "linecolor": "white",
            "ticks": ""
           },
           "bgcolor": "#E5ECF6",
           "caxis": {
            "gridcolor": "white",
            "linecolor": "white",
            "ticks": ""
           }
          },
          "title": {
           "x": 0.05
          },
          "xaxis": {
           "automargin": true,
           "gridcolor": "white",
           "linecolor": "white",
           "ticks": "",
           "title": {
            "standoff": 15
           },
           "zerolinecolor": "white",
           "zerolinewidth": 2
          },
          "yaxis": {
           "automargin": true,
           "gridcolor": "white",
           "linecolor": "white",
           "ticks": "",
           "title": {
            "standoff": 15
           },
           "zerolinecolor": "white",
           "zerolinewidth": 2
          }
         }
        },
        "title": {
         "text": "Recência dos clientes em dias",
         "x": 0.5
        },
        "xaxis": {
         "anchor": "y",
         "domain": [
          0,
          1
         ],
         "title": {
          "text": "Recência em grupos de 20 dias"
         }
        },
        "yaxis": {
         "anchor": "x",
         "domain": [
          0,
          1
         ],
         "title": {
          "text": "Número de clientes"
         }
        }
       }
      },
      "text/html": [
       "<div>                            <div id=\"0406f1bf-573f-4ae0-a0ca-cd35b6419b34\" class=\"plotly-graph-div\" style=\"height:525px; width:100%;\"></div>            <script type=\"text/javascript\">                require([\"plotly\"], function(Plotly) {                    window.PLOTLYENV=window.PLOTLYENV || {};                                    if (document.getElementById(\"0406f1bf-573f-4ae0-a0ca-cd35b6419b34\")) {                    Plotly.newPlot(                        \"0406f1bf-573f-4ae0-a0ca-cd35b6419b34\",                        [{\"alignmentgroup\":\"True\",\"bingroup\":\"x\",\"hovertemplate\":\"Recencia=%{x}<br>count=%{y}<extra></extra>\",\"legendgroup\":\"\",\"marker\":{\"color\":\"#636efa\",\"pattern\":{\"shape\":\"\"}},\"name\":\"\",\"offsetgroup\":\"\",\"orientation\":\"v\",\"showlegend\":false,\"x\":[490,100,491,492,13,288,139,66,0,500,501,501,56,502,503,8,504,113,504,504,16,505,125,507,507,335,142,507,83,9,511,38,280,512,95,102,512,48,281,513,513,106,94,513,182,0,13,1,16,473,48,21,339,513,513,49,513,277,42,283,123,95,447,513,288,13,211,357,513,99,289,485,90,3,13,189,360,115,513,13,513,513,513,513,290,513,288,513,148,18,120,10,516,9,516,93,346,516,267,58,169,58,535,538,541,122,555,565,596,428,602,93,610,612,613,1,13,60,46,633,639,208,642,179,326,651,654,198,420,660,56,663,664,665,666,16,389,87,670,671,297,109,49,44,219,672,672,672,29,672,672,672,672,672,2,672,672,672,672,389,672,297,672,672,672,672,672,672,4,672,208,672,672,7,672,181,257,390,672,672,15,672,672,672,92,57,672,672,48,55,283,672,450,672,672,672,94,0,672,672,108,455,142,672,282,450,274,672,672,94,672,428,672,255,672,672,672,352,672,420,672,672,208,672,50,672,13,672,672,672,322,62,76,673,719,750,767,772,772,772,516,516,17,513,511,507,91,490,489,488,79,14,483,479,17,479,460,290,65,459,218,479,478,179,57,390,275,476,476,119,275,70,475,339,295,116,464,468,95,102,7,460,281,136,459,459,64,104,339,452,451,208,444,13,118,442,441,10,441,115,438,93,20,91,437,433,88,436,114,104,435,435,16,358,83,408,201,280,94,95,64,90,263,255,48,360,77,428,428,428,428,428,13,45,428,290,420,280,428,45,94,425,22,318,423,344,422,19,421,421,87,382,420,420,417,415,415,339,415,329,116,277,114,414,204,413,7,338,412,392,410,334,409,409,7,406,406,406,406,406,140,405,283,309,404,207,403,402,88,94,109,400,390,95,284,83,290,162,256,0,280,275,388,346,7,395,66,395,53,290,95,290,393,134,50,376,93,123,392,329,22,10,45,392,24,391,375,207,13,390,95,360,208,290,390,94,390,390,15,95,94,290,308,390,93,68,390,389,60,13,4,81,222,389,88,0,389,389,1,0,389,269,119,276,94,386,386,386,385,139,383,209,120,10,95,11,380,380,379,379,204,379,378,53,32,277,376,375,290,275,357,92,141,343,374,86,208,161,372,9,372,372,372,23,58,153,338,64,8,368,207,70,233,366,360,363,113,37,11,360,207,109,95,322,360,0,95,11,309,360,18,360,141,359,358,140,280,357,4,255,356,292,76,55,21,36,95,147,345,41,352,9,352,208,307,351,350,349,107,348,247,348,346,282,109,345,15,343,343,12,343,289,0,77,45,53,340,119,339,339,339,9,95,111,338,338,22,73,59,336,336,336,335,186,193,287,332,7,279,332,211,332,331,203,1,330,329,329,50,13,329,329,329,328,328,327,327,326,267,325,134,323,323,85,322,146,114,267,8,321,94,126,94,10,317,20,34,200,95,25,50,314,276,314,163,314,280,189,314,314,87,314,313,88,289,10,14,74,208,255,311,217,275,310,310,310,304,51,310,7,309,309,150,103,119,20,95,117,309,85,194,309,94,309,22,134,309,102,308,308,281,286,308,85,308,308,204,308,289,308,180,48,308,308,308,308,308,294,21,3,308,134,308,282,307,307,55,307,10,307,273,186,281,17,307,41,307,307,307,307,154,289,140,114,305,305,305,208,304,303,290,302,302,301,137,12,299,299,232,297,298,210,297,296,94,120,177,294,276,207,294,220,282,294,2,293,293,293,292,17,288,291,16,290,231,125,118,95,290,290,290,290,111,48,290,290,95,59,108,289,289,289,289,289,8,42,289,141,289,58,289,289,13,7,51,224,56,288,6,288,117,100,88,86,114,273,288,288,116,149,0,288,275,287,286,287,58,160,88,184,13,287,3,257,148,117,20,286,286,286,90,141,50,284,53,48,195,285,285,285,285,54,9,58,274,284,284,281,284,284,284,284,284,119,284,284,284,284,284,188,136,284,132,284,151,284,284,10,283,283,283,283,283,280,6,283,283,32,283,283,283,196,22,246,283,283,283,6,59,273,154,282,282,282,282,282,282,282,282,282,219,280,114,282,282,282,94,282,282,15,282,99,60,282,165,282,208,280,282,276,93,115,3,246,281,281,281,45,11,281,281,130,281,281,50,281,281,281,281,273,122,274,34,281,280,87,95,280,280,280,280,24,276,220,15,111,56,280,280,280,280,280,14,49,280,280,55,280,203,14,280,280,280,280,95,279,279,279,278,170,255,141,14,277,277,277,276,276,207,276,276,276,276,7,88,276,119,51,274,49,274,205,182,274,59,273,273,273,273,52,16,270,51,268,94,185,54,86,266,266,29,265,263,263,193,262,28,60,148,133,260,260,260,1,91,92,177,36,259,39,257,36,208,256,95,20,36,38,4,150,21,189,256,207,255,255,92,255,95,122,255,9,72,255,255,255,255,255,255,142,186,253,11,231,246,246,246,246,245,242,241,221,240,240,87,234,6,233,147,58,226,226,226,225,142,1,223,221,221,8,147,220,220,112,220,220,220,220,95,220,220,220,220,63,29,109,219,218,218,95,1,177,211,51,128,208,24,45,77,196,49,88,208,48,35,117,47,208,208,105,207,186,207,207,103,207,0,207,207,207,206,206,206,49,206,205,95,67,205,205,93,205,95,204,49,204,91,46,203,107,65,120,187,203,203,122,203,202,202,202,71,201,201,201,200,200,90,51,200,199,20,108,199,199,199,199,87,199,199,199,199,199,198,72,198,176,197,197,197,196,196,17,196,88,51,74,11,195,194,193,193,39,193,193,184,167,119,122,25,13,6,53,191,147,190,190,85,190,13,189,0,88,66,189,132,189,39,189,189,188,114,64,34,109,186,186,1,80,185,185,10,185,185,48,184,184,184,129,183,183,60,183,24,70,182,182,94,115,182,182,182,136,169,68,178,142,177,177,177,177,13,177,176,90,176,144,175,24,175,82,95,174,174,174,132,21,120,172,172,172,10,109,8,171,171,170,52,169,144,169,169,169,163,46,168,72,168,168,10,167,121,165,165,48,164,155,51,88,27,163,163,162,162,162,20,92,161,100,160,56,160,160,160,160,159,16,158,158,73,93,50,156,156,156,103,156,156,155,134,24,64,155,149,154,39,153,153,153,152,48,95,151,151,151,7,137,92,150,73,51,142,66,149,149,138,149,149,148,116,148,147,148,148,49,147,147,144,147,141,146,146,135,145,145,85,143,144,144,127,4,51,35,69,143,7,142,91,142,142,142,142,142,142,128,49,141,141,17,141,141,93,93,63,141,16,36,140,87,140,137,139,139,139,55,83,139,7,138,93,137,134,123,136,136,136,136,136,20,135,135,135,135,135,89,135,135,135,94,135,122,135,135,135,135,4,135,135,134,58,134,121,134,95,133,133,33,86,132,132,132,132,126,132,132,111,94,130,130,130,92,130,67,129,49,118,127,129,112,115,97,122,86,21,57,127,127,119,43,127,127,21,126,126,126,1,126,126,90,125,125,125,27,125,124,123,93,123,0,123,123,9,122,122,122,18,122,121,121,121,121,79,121,121,121,11,73,120,120,120,120,79,29,55,120,120,88,120,119,119,63,9,11,119,0,71,8,44,119,49,8,92,41,118,118,118,117,117,50,117,87,85,117,116,116,114,115,116,116,28,116,116,115,11,116,50,116,116,115,48,115,115,115,94,94,115,115,115,88,115,95,115,115,114,93,114,114,35,114,91,91,114,114,114,83,114,113,113,108,113,8,113,113,113,56,111,50,35,113,113,8,85,112,112,53,110,112,112,112,112,46,112,112,112,112,112,112,112,48,112,112,112,112,111,105,111,49,111,111,111,111,111,81,111,111,111,44,111,111,111,111,9,111,111,111,65,111,111,111,111,111,111,111,30,111,48,111,111,9,110,88,109,58,109,109,109,72,109,109,15,11,42,12,13,108,108,108,107,107,107,43,107,106,106,106,106,106,105,30,37,93,105,97,62,105,105,9,104,104,104,104,103,53,102,52,9,102,102,102,89,102,101,101,101,101,101,21,100,100,99,99,59,97,89,89,95,95,46,86,95,7,95,95,95,20,20,95,50,95,95,95,95,95,95,51,94,23,94,94,94,94,94,14,94,5,94,94,15,94,94,94,94,0,49,93,93,93,93,93,55,93,39,93,93,93,93,93,93,93,93,60,92,92,92,92,92,50,92,92,49,12,92,18,92,36,24,71,15,25,91,91,90,90,90,88,90,90,89,89,57,60,88,88,43,88,29,88,88,88,88,88,88,88,53,15,88,7,88,88,34,88,88,87,36,87,87,87,56,86,86,86,86,71,85,85,85,85,84,84,83,83,83,28,82,81,13,68,81,58,81,27,80,80,80,80,15,79,79,21,79,78,60,78,78,67,78,77,77,38,48,77,11,57,76,71,75,75,75,75,74,54,9,74,51,73,73,46,62,70,72,18,72,72,72,64,72,72,72,72,60,0,71,72,72,72,51,71,71,71,71,71,71,71,71,71,67,67,71,71,30,16,71,71,71,16,70,70,70,70,70,70,60,63,70,70,48,44,70,19,70,69,69,69,12,69,67,68,67,9,57,67,66,66,1,8,66,66,66,65,51,65,30,65,64,43,39,64,64,63,63,63,42,56,63,63,29,63,63,63,63,58,62,62,25,45,62,62,62,62,62,55,28,62,56,61,50,50,61,60,60,60,52,60,59,59,59,59,59,57,59,59,19,54,58,32,57,57,57,57,57,57,40,57,57,57,57,57,16,57,57,51,57,56,56,56,56,56,8,56,56,53,56,55,55,55,55,55,52,55,54,53,53,53,53,53,53,53,53,52,42,52,45,45,31,51,51,16,48,51,50,50,14,50,50,50,9,50,50,50,50,50,49,49,49,49,49,49,49,49,49,49,15,46,49,49,49,49,49,49,49,48,48,48,48,48,48,48,48,48,48,48,48,48,48,48,48,48,48,48,48,8,48,48,48,48,48,48,46,46,46,46,46,7,13,45,45,45,45,45,44,44,44,44,44,44,44,43,43,43,42,42,42,42,42,39,41,41,41,41,1,9,40,40,39,39,39,16,11,38,38,38,37,37,37,37,36,36,36,36,35,35,35,35,34,34,34,32,32,32,30,30,29,29,29,29,14,14,29,29,22,28,28,28,28,28,28,15,27,6,27,13,25,25,25,25,24,24,24,24,4,24,24,24,24,19,24,23,23,23,23,22,22,22,22,22,22,21,21,21,21,21,20,20,20,20,20,20,19,18,16,17,17,17,17,17,17,16,16,16,16,16,8,16,15,15,15,15,13,14,14,14,14,14,14,14,14,14,13,13,13,13,13,13,13,13,13,13,13,13,13,13,12,6,11,11,11,11,11,11,11,10,10,10,10,10,10,10,10,9,9,9,8,9,6,9,9,8,8,8,8,8,7,7,7,7,7,7,7,7,7,7,6,6,6,6,6,6,5,4,4,4,4,3,3,3,3,3,3,3,3,3,2,2,2,2,2,1,1,1,0,0,0,0,0,0,0,0,0,0],\"xaxis\":\"x\",\"yaxis\":\"y\",\"type\":\"histogram\"}],                        {\"template\":{\"data\":{\"histogram2dcontour\":[{\"type\":\"histogram2dcontour\",\"colorbar\":{\"outlinewidth\":0,\"ticks\":\"\"},\"colorscale\":[[0.0,\"#0d0887\"],[0.1111111111111111,\"#46039f\"],[0.2222222222222222,\"#7201a8\"],[0.3333333333333333,\"#9c179e\"],[0.4444444444444444,\"#bd3786\"],[0.5555555555555556,\"#d8576b\"],[0.6666666666666666,\"#ed7953\"],[0.7777777777777778,\"#fb9f3a\"],[0.8888888888888888,\"#fdca26\"],[1.0,\"#f0f921\"]]}],\"choropleth\":[{\"type\":\"choropleth\",\"colorbar\":{\"outlinewidth\":0,\"ticks\":\"\"}}],\"histogram2d\":[{\"type\":\"histogram2d\",\"colorbar\":{\"outlinewidth\":0,\"ticks\":\"\"},\"colorscale\":[[0.0,\"#0d0887\"],[0.1111111111111111,\"#46039f\"],[0.2222222222222222,\"#7201a8\"],[0.3333333333333333,\"#9c179e\"],[0.4444444444444444,\"#bd3786\"],[0.5555555555555556,\"#d8576b\"],[0.6666666666666666,\"#ed7953\"],[0.7777777777777778,\"#fb9f3a\"],[0.8888888888888888,\"#fdca26\"],[1.0,\"#f0f921\"]]}],\"heatmap\":[{\"type\":\"heatmap\",\"colorbar\":{\"outlinewidth\":0,\"ticks\":\"\"},\"colorscale\":[[0.0,\"#0d0887\"],[0.1111111111111111,\"#46039f\"],[0.2222222222222222,\"#7201a8\"],[0.3333333333333333,\"#9c179e\"],[0.4444444444444444,\"#bd3786\"],[0.5555555555555556,\"#d8576b\"],[0.6666666666666666,\"#ed7953\"],[0.7777777777777778,\"#fb9f3a\"],[0.8888888888888888,\"#fdca26\"],[1.0,\"#f0f921\"]]}],\"heatmapgl\":[{\"type\":\"heatmapgl\",\"colorbar\":{\"outlinewidth\":0,\"ticks\":\"\"},\"colorscale\":[[0.0,\"#0d0887\"],[0.1111111111111111,\"#46039f\"],[0.2222222222222222,\"#7201a8\"],[0.3333333333333333,\"#9c179e\"],[0.4444444444444444,\"#bd3786\"],[0.5555555555555556,\"#d8576b\"],[0.6666666666666666,\"#ed7953\"],[0.7777777777777778,\"#fb9f3a\"],[0.8888888888888888,\"#fdca26\"],[1.0,\"#f0f921\"]]}],\"contourcarpet\":[{\"type\":\"contourcarpet\",\"colorbar\":{\"outlinewidth\":0,\"ticks\":\"\"}}],\"contour\":[{\"type\":\"contour\",\"colorbar\":{\"outlinewidth\":0,\"ticks\":\"\"},\"colorscale\":[[0.0,\"#0d0887\"],[0.1111111111111111,\"#46039f\"],[0.2222222222222222,\"#7201a8\"],[0.3333333333333333,\"#9c179e\"],[0.4444444444444444,\"#bd3786\"],[0.5555555555555556,\"#d8576b\"],[0.6666666666666666,\"#ed7953\"],[0.7777777777777778,\"#fb9f3a\"],[0.8888888888888888,\"#fdca26\"],[1.0,\"#f0f921\"]]}],\"surface\":[{\"type\":\"surface\",\"colorbar\":{\"outlinewidth\":0,\"ticks\":\"\"},\"colorscale\":[[0.0,\"#0d0887\"],[0.1111111111111111,\"#46039f\"],[0.2222222222222222,\"#7201a8\"],[0.3333333333333333,\"#9c179e\"],[0.4444444444444444,\"#bd3786\"],[0.5555555555555556,\"#d8576b\"],[0.6666666666666666,\"#ed7953\"],[0.7777777777777778,\"#fb9f3a\"],[0.8888888888888888,\"#fdca26\"],[1.0,\"#f0f921\"]]}],\"mesh3d\":[{\"type\":\"mesh3d\",\"colorbar\":{\"outlinewidth\":0,\"ticks\":\"\"}}],\"scatter\":[{\"fillpattern\":{\"fillmode\":\"overlay\",\"size\":10,\"solidity\":0.2},\"type\":\"scatter\"}],\"parcoords\":[{\"type\":\"parcoords\",\"line\":{\"colorbar\":{\"outlinewidth\":0,\"ticks\":\"\"}}}],\"scatterpolargl\":[{\"type\":\"scatterpolargl\",\"marker\":{\"colorbar\":{\"outlinewidth\":0,\"ticks\":\"\"}}}],\"bar\":[{\"error_x\":{\"color\":\"#2a3f5f\"},\"error_y\":{\"color\":\"#2a3f5f\"},\"marker\":{\"line\":{\"color\":\"#E5ECF6\",\"width\":0.5},\"pattern\":{\"fillmode\":\"overlay\",\"size\":10,\"solidity\":0.2}},\"type\":\"bar\"}],\"scattergeo\":[{\"type\":\"scattergeo\",\"marker\":{\"colorbar\":{\"outlinewidth\":0,\"ticks\":\"\"}}}],\"scatterpolar\":[{\"type\":\"scatterpolar\",\"marker\":{\"colorbar\":{\"outlinewidth\":0,\"ticks\":\"\"}}}],\"histogram\":[{\"marker\":{\"pattern\":{\"fillmode\":\"overlay\",\"size\":10,\"solidity\":0.2}},\"type\":\"histogram\"}],\"scattergl\":[{\"type\":\"scattergl\",\"marker\":{\"colorbar\":{\"outlinewidth\":0,\"ticks\":\"\"}}}],\"scatter3d\":[{\"type\":\"scatter3d\",\"line\":{\"colorbar\":{\"outlinewidth\":0,\"ticks\":\"\"}},\"marker\":{\"colorbar\":{\"outlinewidth\":0,\"ticks\":\"\"}}}],\"scattermapbox\":[{\"type\":\"scattermapbox\",\"marker\":{\"colorbar\":{\"outlinewidth\":0,\"ticks\":\"\"}}}],\"scatterternary\":[{\"type\":\"scatterternary\",\"marker\":{\"colorbar\":{\"outlinewidth\":0,\"ticks\":\"\"}}}],\"scattercarpet\":[{\"type\":\"scattercarpet\",\"marker\":{\"colorbar\":{\"outlinewidth\":0,\"ticks\":\"\"}}}],\"carpet\":[{\"aaxis\":{\"endlinecolor\":\"#2a3f5f\",\"gridcolor\":\"white\",\"linecolor\":\"white\",\"minorgridcolor\":\"white\",\"startlinecolor\":\"#2a3f5f\"},\"baxis\":{\"endlinecolor\":\"#2a3f5f\",\"gridcolor\":\"white\",\"linecolor\":\"white\",\"minorgridcolor\":\"white\",\"startlinecolor\":\"#2a3f5f\"},\"type\":\"carpet\"}],\"table\":[{\"cells\":{\"fill\":{\"color\":\"#EBF0F8\"},\"line\":{\"color\":\"white\"}},\"header\":{\"fill\":{\"color\":\"#C8D4E3\"},\"line\":{\"color\":\"white\"}},\"type\":\"table\"}],\"barpolar\":[{\"marker\":{\"line\":{\"color\":\"#E5ECF6\",\"width\":0.5},\"pattern\":{\"fillmode\":\"overlay\",\"size\":10,\"solidity\":0.2}},\"type\":\"barpolar\"}],\"pie\":[{\"automargin\":true,\"type\":\"pie\"}]},\"layout\":{\"autotypenumbers\":\"strict\",\"colorway\":[\"#636efa\",\"#EF553B\",\"#00cc96\",\"#ab63fa\",\"#FFA15A\",\"#19d3f3\",\"#FF6692\",\"#B6E880\",\"#FF97FF\",\"#FECB52\"],\"font\":{\"color\":\"#2a3f5f\"},\"hovermode\":\"closest\",\"hoverlabel\":{\"align\":\"left\"},\"paper_bgcolor\":\"white\",\"plot_bgcolor\":\"#E5ECF6\",\"polar\":{\"bgcolor\":\"#E5ECF6\",\"angularaxis\":{\"gridcolor\":\"white\",\"linecolor\":\"white\",\"ticks\":\"\"},\"radialaxis\":{\"gridcolor\":\"white\",\"linecolor\":\"white\",\"ticks\":\"\"}},\"ternary\":{\"bgcolor\":\"#E5ECF6\",\"aaxis\":{\"gridcolor\":\"white\",\"linecolor\":\"white\",\"ticks\":\"\"},\"baxis\":{\"gridcolor\":\"white\",\"linecolor\":\"white\",\"ticks\":\"\"},\"caxis\":{\"gridcolor\":\"white\",\"linecolor\":\"white\",\"ticks\":\"\"}},\"coloraxis\":{\"colorbar\":{\"outlinewidth\":0,\"ticks\":\"\"}},\"colorscale\":{\"sequential\":[[0.0,\"#0d0887\"],[0.1111111111111111,\"#46039f\"],[0.2222222222222222,\"#7201a8\"],[0.3333333333333333,\"#9c179e\"],[0.4444444444444444,\"#bd3786\"],[0.5555555555555556,\"#d8576b\"],[0.6666666666666666,\"#ed7953\"],[0.7777777777777778,\"#fb9f3a\"],[0.8888888888888888,\"#fdca26\"],[1.0,\"#f0f921\"]],\"sequentialminus\":[[0.0,\"#0d0887\"],[0.1111111111111111,\"#46039f\"],[0.2222222222222222,\"#7201a8\"],[0.3333333333333333,\"#9c179e\"],[0.4444444444444444,\"#bd3786\"],[0.5555555555555556,\"#d8576b\"],[0.6666666666666666,\"#ed7953\"],[0.7777777777777778,\"#fb9f3a\"],[0.8888888888888888,\"#fdca26\"],[1.0,\"#f0f921\"]],\"diverging\":[[0,\"#8e0152\"],[0.1,\"#c51b7d\"],[0.2,\"#de77ae\"],[0.3,\"#f1b6da\"],[0.4,\"#fde0ef\"],[0.5,\"#f7f7f7\"],[0.6,\"#e6f5d0\"],[0.7,\"#b8e186\"],[0.8,\"#7fbc41\"],[0.9,\"#4d9221\"],[1,\"#276419\"]]},\"xaxis\":{\"gridcolor\":\"white\",\"linecolor\":\"white\",\"ticks\":\"\",\"title\":{\"standoff\":15},\"zerolinecolor\":\"white\",\"automargin\":true,\"zerolinewidth\":2},\"yaxis\":{\"gridcolor\":\"white\",\"linecolor\":\"white\",\"ticks\":\"\",\"title\":{\"standoff\":15},\"zerolinecolor\":\"white\",\"automargin\":true,\"zerolinewidth\":2},\"scene\":{\"xaxis\":{\"backgroundcolor\":\"#E5ECF6\",\"gridcolor\":\"white\",\"linecolor\":\"white\",\"showbackground\":true,\"ticks\":\"\",\"zerolinecolor\":\"white\",\"gridwidth\":2},\"yaxis\":{\"backgroundcolor\":\"#E5ECF6\",\"gridcolor\":\"white\",\"linecolor\":\"white\",\"showbackground\":true,\"ticks\":\"\",\"zerolinecolor\":\"white\",\"gridwidth\":2},\"zaxis\":{\"backgroundcolor\":\"#E5ECF6\",\"gridcolor\":\"white\",\"linecolor\":\"white\",\"showbackground\":true,\"ticks\":\"\",\"zerolinecolor\":\"white\",\"gridwidth\":2}},\"shapedefaults\":{\"line\":{\"color\":\"#2a3f5f\"}},\"annotationdefaults\":{\"arrowcolor\":\"#2a3f5f\",\"arrowhead\":0,\"arrowwidth\":1},\"geo\":{\"bgcolor\":\"white\",\"landcolor\":\"#E5ECF6\",\"subunitcolor\":\"white\",\"showland\":true,\"showlakes\":true,\"lakecolor\":\"white\"},\"title\":{\"x\":0.05},\"mapbox\":{\"style\":\"light\"}}},\"xaxis\":{\"anchor\":\"y\",\"domain\":[0.0,1.0],\"title\":{\"text\":\"Rec\\u00eancia em grupos de 20 dias\"}},\"yaxis\":{\"anchor\":\"x\",\"domain\":[0.0,1.0],\"title\":{\"text\":\"N\\u00famero de clientes\"}},\"legend\":{\"tracegroupgap\":0},\"title\":{\"text\":\"Rec\\u00eancia dos clientes em dias\",\"x\":0.5},\"barmode\":\"relative\"},                        {\"displaylogo\": false, \"responsive\": true}                    ).then(function(){\n",
       "                            \n",
       "var gd = document.getElementById('0406f1bf-573f-4ae0-a0ca-cd35b6419b34');\n",
       "var x = new MutationObserver(function (mutations, observer) {{\n",
       "        var display = window.getComputedStyle(gd).display;\n",
       "        if (!display || display === 'none') {{\n",
       "            console.log([gd, 'removed!']);\n",
       "            Plotly.purge(gd);\n",
       "            observer.disconnect();\n",
       "        }}\n",
       "}});\n",
       "\n",
       "// Listen for the removal of the full notebook cells\n",
       "var notebookContainer = gd.closest('#notebook-container');\n",
       "if (notebookContainer) {{\n",
       "    x.observe(notebookContainer, {childList: true});\n",
       "}}\n",
       "\n",
       "// Listen for the clearing of the current output cell\n",
       "var outputEl = gd.closest('.output');\n",
       "if (outputEl) {{\n",
       "    x.observe(outputEl, {childList: true});\n",
       "}}\n",
       "\n",
       "                        })                };                });            </script>        </div>"
      ]
     },
     "metadata": {},
     "output_type": "display_data"
    }
   ],
   "source": [
    "hist_fig = px.histogram(dados_clientes, \n",
    "                        x=\"Recencia\", \n",
    "                        title=\"Recência dos clientes em dias\"                      \n",
    ")\n",
    "\n",
    "hist_fig.update_layout(title_x=0.5, \n",
    "                       xaxis_title=\"Recência em grupos de 20 dias\", \n",
    "                       yaxis_title=\"Número de clientes\"\n",
    ")\n",
    "\n",
    "hist_fig.show(config={'displaylogo': False})"
   ]
  },
  {
   "cell_type": "markdown",
   "id": "efed8644",
   "metadata": {},
   "source": [
    "No passo seguinte, irei aplicar o agrupamento K-means para atribuir uma pontuação de recência. No entanto, precisamos saber quantos clusters para usar o algoritmo K-means. Aplicaremos o método Elbow para determinar quantos clusters precisaremos. O método Elbow simplesmente informa o número de cluster ideal para a inércia ideal. "
   ]
  },
  {
   "cell_type": "code",
   "execution_count": 89,
   "id": "3512ad02",
   "metadata": {},
   "outputs": [
    {
     "data": {
      "application/vnd.plotly.v1+json": {
       "config": {
        "displaylogo": false,
        "plotlyServerURL": "https://plot.ly"
       },
       "data": [
        {
         "hovertemplate": "x=%{x}<br>y=%{y}<extra></extra>",
         "legendgroup": "",
         "line": {
          "color": "#636efa",
          "dash": "solid"
         },
         "marker": {
          "symbol": "circle"
         },
         "mode": "lines",
         "name": "",
         "orientation": "v",
         "showlegend": false,
         "type": "scatter",
         "x": [
          1,
          2,
          3,
          4,
          5,
          6,
          7,
          8,
          9
         ],
         "xaxis": "x",
         "y": [
          58299735.97385616,
          17176230.731991995,
          7703873.897839752,
          4471890.689859022,
          2671117.646664171,
          1625553.368400137,
          1198696.3669330003,
          829415.8216544352,
          638751.6745967529
         ],
         "yaxis": "y"
        }
       ],
       "layout": {
        "legend": {
         "tracegroupgap": 0
        },
        "margin": {
         "t": 60
        },
        "template": {
         "data": {
          "bar": [
           {
            "error_x": {
             "color": "#f2f5fa"
            },
            "error_y": {
             "color": "#f2f5fa"
            },
            "marker": {
             "line": {
              "color": "rgb(17,17,17)",
              "width": 0.5
             },
             "pattern": {
              "fillmode": "overlay",
              "size": 10,
              "solidity": 0.2
             }
            },
            "type": "bar"
           }
          ],
          "barpolar": [
           {
            "marker": {
             "line": {
              "color": "rgb(17,17,17)",
              "width": 0.5
             },
             "pattern": {
              "fillmode": "overlay",
              "size": 10,
              "solidity": 0.2
             }
            },
            "type": "barpolar"
           }
          ],
          "carpet": [
           {
            "aaxis": {
             "endlinecolor": "#A2B1C6",
             "gridcolor": "#506784",
             "linecolor": "#506784",
             "minorgridcolor": "#506784",
             "startlinecolor": "#A2B1C6"
            },
            "baxis": {
             "endlinecolor": "#A2B1C6",
             "gridcolor": "#506784",
             "linecolor": "#506784",
             "minorgridcolor": "#506784",
             "startlinecolor": "#A2B1C6"
            },
            "type": "carpet"
           }
          ],
          "choropleth": [
           {
            "colorbar": {
             "outlinewidth": 0,
             "ticks": ""
            },
            "type": "choropleth"
           }
          ],
          "contour": [
           {
            "colorbar": {
             "outlinewidth": 0,
             "ticks": ""
            },
            "colorscale": [
             [
              0,
              "#0d0887"
             ],
             [
              0.1111111111111111,
              "#46039f"
             ],
             [
              0.2222222222222222,
              "#7201a8"
             ],
             [
              0.3333333333333333,
              "#9c179e"
             ],
             [
              0.4444444444444444,
              "#bd3786"
             ],
             [
              0.5555555555555556,
              "#d8576b"
             ],
             [
              0.6666666666666666,
              "#ed7953"
             ],
             [
              0.7777777777777778,
              "#fb9f3a"
             ],
             [
              0.8888888888888888,
              "#fdca26"
             ],
             [
              1,
              "#f0f921"
             ]
            ],
            "type": "contour"
           }
          ],
          "contourcarpet": [
           {
            "colorbar": {
             "outlinewidth": 0,
             "ticks": ""
            },
            "type": "contourcarpet"
           }
          ],
          "heatmap": [
           {
            "colorbar": {
             "outlinewidth": 0,
             "ticks": ""
            },
            "colorscale": [
             [
              0,
              "#0d0887"
             ],
             [
              0.1111111111111111,
              "#46039f"
             ],
             [
              0.2222222222222222,
              "#7201a8"
             ],
             [
              0.3333333333333333,
              "#9c179e"
             ],
             [
              0.4444444444444444,
              "#bd3786"
             ],
             [
              0.5555555555555556,
              "#d8576b"
             ],
             [
              0.6666666666666666,
              "#ed7953"
             ],
             [
              0.7777777777777778,
              "#fb9f3a"
             ],
             [
              0.8888888888888888,
              "#fdca26"
             ],
             [
              1,
              "#f0f921"
             ]
            ],
            "type": "heatmap"
           }
          ],
          "heatmapgl": [
           {
            "colorbar": {
             "outlinewidth": 0,
             "ticks": ""
            },
            "colorscale": [
             [
              0,
              "#0d0887"
             ],
             [
              0.1111111111111111,
              "#46039f"
             ],
             [
              0.2222222222222222,
              "#7201a8"
             ],
             [
              0.3333333333333333,
              "#9c179e"
             ],
             [
              0.4444444444444444,
              "#bd3786"
             ],
             [
              0.5555555555555556,
              "#d8576b"
             ],
             [
              0.6666666666666666,
              "#ed7953"
             ],
             [
              0.7777777777777778,
              "#fb9f3a"
             ],
             [
              0.8888888888888888,
              "#fdca26"
             ],
             [
              1,
              "#f0f921"
             ]
            ],
            "type": "heatmapgl"
           }
          ],
          "histogram": [
           {
            "marker": {
             "pattern": {
              "fillmode": "overlay",
              "size": 10,
              "solidity": 0.2
             }
            },
            "type": "histogram"
           }
          ],
          "histogram2d": [
           {
            "colorbar": {
             "outlinewidth": 0,
             "ticks": ""
            },
            "colorscale": [
             [
              0,
              "#0d0887"
             ],
             [
              0.1111111111111111,
              "#46039f"
             ],
             [
              0.2222222222222222,
              "#7201a8"
             ],
             [
              0.3333333333333333,
              "#9c179e"
             ],
             [
              0.4444444444444444,
              "#bd3786"
             ],
             [
              0.5555555555555556,
              "#d8576b"
             ],
             [
              0.6666666666666666,
              "#ed7953"
             ],
             [
              0.7777777777777778,
              "#fb9f3a"
             ],
             [
              0.8888888888888888,
              "#fdca26"
             ],
             [
              1,
              "#f0f921"
             ]
            ],
            "type": "histogram2d"
           }
          ],
          "histogram2dcontour": [
           {
            "colorbar": {
             "outlinewidth": 0,
             "ticks": ""
            },
            "colorscale": [
             [
              0,
              "#0d0887"
             ],
             [
              0.1111111111111111,
              "#46039f"
             ],
             [
              0.2222222222222222,
              "#7201a8"
             ],
             [
              0.3333333333333333,
              "#9c179e"
             ],
             [
              0.4444444444444444,
              "#bd3786"
             ],
             [
              0.5555555555555556,
              "#d8576b"
             ],
             [
              0.6666666666666666,
              "#ed7953"
             ],
             [
              0.7777777777777778,
              "#fb9f3a"
             ],
             [
              0.8888888888888888,
              "#fdca26"
             ],
             [
              1,
              "#f0f921"
             ]
            ],
            "type": "histogram2dcontour"
           }
          ],
          "mesh3d": [
           {
            "colorbar": {
             "outlinewidth": 0,
             "ticks": ""
            },
            "type": "mesh3d"
           }
          ],
          "parcoords": [
           {
            "line": {
             "colorbar": {
              "outlinewidth": 0,
              "ticks": ""
             }
            },
            "type": "parcoords"
           }
          ],
          "pie": [
           {
            "automargin": true,
            "type": "pie"
           }
          ],
          "scatter": [
           {
            "marker": {
             "line": {
              "color": "#283442"
             }
            },
            "type": "scatter"
           }
          ],
          "scatter3d": [
           {
            "line": {
             "colorbar": {
              "outlinewidth": 0,
              "ticks": ""
             }
            },
            "marker": {
             "colorbar": {
              "outlinewidth": 0,
              "ticks": ""
             }
            },
            "type": "scatter3d"
           }
          ],
          "scattercarpet": [
           {
            "marker": {
             "colorbar": {
              "outlinewidth": 0,
              "ticks": ""
             }
            },
            "type": "scattercarpet"
           }
          ],
          "scattergeo": [
           {
            "marker": {
             "colorbar": {
              "outlinewidth": 0,
              "ticks": ""
             }
            },
            "type": "scattergeo"
           }
          ],
          "scattergl": [
           {
            "marker": {
             "line": {
              "color": "#283442"
             }
            },
            "type": "scattergl"
           }
          ],
          "scattermapbox": [
           {
            "marker": {
             "colorbar": {
              "outlinewidth": 0,
              "ticks": ""
             }
            },
            "type": "scattermapbox"
           }
          ],
          "scatterpolar": [
           {
            "marker": {
             "colorbar": {
              "outlinewidth": 0,
              "ticks": ""
             }
            },
            "type": "scatterpolar"
           }
          ],
          "scatterpolargl": [
           {
            "marker": {
             "colorbar": {
              "outlinewidth": 0,
              "ticks": ""
             }
            },
            "type": "scatterpolargl"
           }
          ],
          "scatterternary": [
           {
            "marker": {
             "colorbar": {
              "outlinewidth": 0,
              "ticks": ""
             }
            },
            "type": "scatterternary"
           }
          ],
          "surface": [
           {
            "colorbar": {
             "outlinewidth": 0,
             "ticks": ""
            },
            "colorscale": [
             [
              0,
              "#0d0887"
             ],
             [
              0.1111111111111111,
              "#46039f"
             ],
             [
              0.2222222222222222,
              "#7201a8"
             ],
             [
              0.3333333333333333,
              "#9c179e"
             ],
             [
              0.4444444444444444,
              "#bd3786"
             ],
             [
              0.5555555555555556,
              "#d8576b"
             ],
             [
              0.6666666666666666,
              "#ed7953"
             ],
             [
              0.7777777777777778,
              "#fb9f3a"
             ],
             [
              0.8888888888888888,
              "#fdca26"
             ],
             [
              1,
              "#f0f921"
             ]
            ],
            "type": "surface"
           }
          ],
          "table": [
           {
            "cells": {
             "fill": {
              "color": "#506784"
             },
             "line": {
              "color": "rgb(17,17,17)"
             }
            },
            "header": {
             "fill": {
              "color": "#2a3f5f"
             },
             "line": {
              "color": "rgb(17,17,17)"
             }
            },
            "type": "table"
           }
          ]
         },
         "layout": {
          "annotationdefaults": {
           "arrowcolor": "#f2f5fa",
           "arrowhead": 0,
           "arrowwidth": 1
          },
          "autotypenumbers": "strict",
          "coloraxis": {
           "colorbar": {
            "outlinewidth": 0,
            "ticks": ""
           }
          },
          "colorscale": {
           "diverging": [
            [
             0,
             "#8e0152"
            ],
            [
             0.1,
             "#c51b7d"
            ],
            [
             0.2,
             "#de77ae"
            ],
            [
             0.3,
             "#f1b6da"
            ],
            [
             0.4,
             "#fde0ef"
            ],
            [
             0.5,
             "#f7f7f7"
            ],
            [
             0.6,
             "#e6f5d0"
            ],
            [
             0.7,
             "#b8e186"
            ],
            [
             0.8,
             "#7fbc41"
            ],
            [
             0.9,
             "#4d9221"
            ],
            [
             1,
             "#276419"
            ]
           ],
           "sequential": [
            [
             0,
             "#0d0887"
            ],
            [
             0.1111111111111111,
             "#46039f"
            ],
            [
             0.2222222222222222,
             "#7201a8"
            ],
            [
             0.3333333333333333,
             "#9c179e"
            ],
            [
             0.4444444444444444,
             "#bd3786"
            ],
            [
             0.5555555555555556,
             "#d8576b"
            ],
            [
             0.6666666666666666,
             "#ed7953"
            ],
            [
             0.7777777777777778,
             "#fb9f3a"
            ],
            [
             0.8888888888888888,
             "#fdca26"
            ],
            [
             1,
             "#f0f921"
            ]
           ],
           "sequentialminus": [
            [
             0,
             "#0d0887"
            ],
            [
             0.1111111111111111,
             "#46039f"
            ],
            [
             0.2222222222222222,
             "#7201a8"
            ],
            [
             0.3333333333333333,
             "#9c179e"
            ],
            [
             0.4444444444444444,
             "#bd3786"
            ],
            [
             0.5555555555555556,
             "#d8576b"
            ],
            [
             0.6666666666666666,
             "#ed7953"
            ],
            [
             0.7777777777777778,
             "#fb9f3a"
            ],
            [
             0.8888888888888888,
             "#fdca26"
            ],
            [
             1,
             "#f0f921"
            ]
           ]
          },
          "colorway": [
           "#636efa",
           "#EF553B",
           "#00cc96",
           "#ab63fa",
           "#FFA15A",
           "#19d3f3",
           "#FF6692",
           "#B6E880",
           "#FF97FF",
           "#FECB52"
          ],
          "font": {
           "color": "#f2f5fa"
          },
          "geo": {
           "bgcolor": "rgb(17,17,17)",
           "lakecolor": "rgb(17,17,17)",
           "landcolor": "rgb(17,17,17)",
           "showlakes": true,
           "showland": true,
           "subunitcolor": "#506784"
          },
          "hoverlabel": {
           "align": "left"
          },
          "hovermode": "closest",
          "mapbox": {
           "style": "dark"
          },
          "paper_bgcolor": "rgb(17,17,17)",
          "plot_bgcolor": "rgb(17,17,17)",
          "polar": {
           "angularaxis": {
            "gridcolor": "#506784",
            "linecolor": "#506784",
            "ticks": ""
           },
           "bgcolor": "rgb(17,17,17)",
           "radialaxis": {
            "gridcolor": "#506784",
            "linecolor": "#506784",
            "ticks": ""
           }
          },
          "scene": {
           "xaxis": {
            "backgroundcolor": "rgb(17,17,17)",
            "gridcolor": "#506784",
            "gridwidth": 2,
            "linecolor": "#506784",
            "showbackground": true,
            "ticks": "",
            "zerolinecolor": "#C8D4E3"
           },
           "yaxis": {
            "backgroundcolor": "rgb(17,17,17)",
            "gridcolor": "#506784",
            "gridwidth": 2,
            "linecolor": "#506784",
            "showbackground": true,
            "ticks": "",
            "zerolinecolor": "#C8D4E3"
           },
           "zaxis": {
            "backgroundcolor": "rgb(17,17,17)",
            "gridcolor": "#506784",
            "gridwidth": 2,
            "linecolor": "#506784",
            "showbackground": true,
            "ticks": "",
            "zerolinecolor": "#C8D4E3"
           }
          },
          "shapedefaults": {
           "line": {
            "color": "#f2f5fa"
           }
          },
          "sliderdefaults": {
           "bgcolor": "#C8D4E3",
           "bordercolor": "rgb(17,17,17)",
           "borderwidth": 1,
           "tickwidth": 0
          },
          "ternary": {
           "aaxis": {
            "gridcolor": "#506784",
            "linecolor": "#506784",
            "ticks": ""
           },
           "baxis": {
            "gridcolor": "#506784",
            "linecolor": "#506784",
            "ticks": ""
           },
           "bgcolor": "rgb(17,17,17)",
           "caxis": {
            "gridcolor": "#506784",
            "linecolor": "#506784",
            "ticks": ""
           }
          },
          "title": {
           "x": 0.05
          },
          "updatemenudefaults": {
           "bgcolor": "#506784",
           "borderwidth": 0
          },
          "xaxis": {
           "automargin": true,
           "gridcolor": "#283442",
           "linecolor": "#506784",
           "ticks": "",
           "title": {
            "standoff": 15
           },
           "zerolinecolor": "#283442",
           "zerolinewidth": 2
          },
          "yaxis": {
           "automargin": true,
           "gridcolor": "#283442",
           "linecolor": "#506784",
           "ticks": "",
           "title": {
            "standoff": 15
           },
           "zerolinecolor": "#283442",
           "zerolinewidth": 2
          }
         }
        },
        "title": {
         "x": 0
        },
        "xaxis": {
         "anchor": "y",
         "domain": [
          0,
          1
         ],
         "title": {
          "text": "Número de cluster"
         }
        },
        "yaxis": {
         "anchor": "x",
         "domain": [
          0,
          1
         ],
         "title": {
          "text": ""
         }
        }
       }
      },
      "text/html": [
       "<div>                            <div id=\"cb37481e-1119-4a78-873b-b8703eed3ce5\" class=\"plotly-graph-div\" style=\"height:525px; width:100%;\"></div>            <script type=\"text/javascript\">                require([\"plotly\"], function(Plotly) {                    window.PLOTLYENV=window.PLOTLYENV || {};                                    if (document.getElementById(\"cb37481e-1119-4a78-873b-b8703eed3ce5\")) {                    Plotly.newPlot(                        \"cb37481e-1119-4a78-873b-b8703eed3ce5\",                        [{\"hovertemplate\":\"x=%{x}<br>y=%{y}<extra></extra>\",\"legendgroup\":\"\",\"line\":{\"color\":\"#636efa\",\"dash\":\"solid\"},\"marker\":{\"symbol\":\"circle\"},\"mode\":\"lines\",\"name\":\"\",\"orientation\":\"v\",\"showlegend\":false,\"x\":[1,2,3,4,5,6,7,8,9],\"xaxis\":\"x\",\"y\":[58299735.97385616,17176230.731991995,7703873.897839752,4471890.689859022,2671117.646664171,1625553.368400137,1198696.3669330003,829415.8216544352,638751.6745967529],\"yaxis\":\"y\",\"type\":\"scatter\"}],                        {\"template\":{\"data\":{\"barpolar\":[{\"marker\":{\"line\":{\"color\":\"rgb(17,17,17)\",\"width\":0.5},\"pattern\":{\"fillmode\":\"overlay\",\"size\":10,\"solidity\":0.2}},\"type\":\"barpolar\"}],\"bar\":[{\"error_x\":{\"color\":\"#f2f5fa\"},\"error_y\":{\"color\":\"#f2f5fa\"},\"marker\":{\"line\":{\"color\":\"rgb(17,17,17)\",\"width\":0.5},\"pattern\":{\"fillmode\":\"overlay\",\"size\":10,\"solidity\":0.2}},\"type\":\"bar\"}],\"carpet\":[{\"aaxis\":{\"endlinecolor\":\"#A2B1C6\",\"gridcolor\":\"#506784\",\"linecolor\":\"#506784\",\"minorgridcolor\":\"#506784\",\"startlinecolor\":\"#A2B1C6\"},\"baxis\":{\"endlinecolor\":\"#A2B1C6\",\"gridcolor\":\"#506784\",\"linecolor\":\"#506784\",\"minorgridcolor\":\"#506784\",\"startlinecolor\":\"#A2B1C6\"},\"type\":\"carpet\"}],\"choropleth\":[{\"colorbar\":{\"outlinewidth\":0,\"ticks\":\"\"},\"type\":\"choropleth\"}],\"contourcarpet\":[{\"colorbar\":{\"outlinewidth\":0,\"ticks\":\"\"},\"type\":\"contourcarpet\"}],\"contour\":[{\"colorbar\":{\"outlinewidth\":0,\"ticks\":\"\"},\"colorscale\":[[0.0,\"#0d0887\"],[0.1111111111111111,\"#46039f\"],[0.2222222222222222,\"#7201a8\"],[0.3333333333333333,\"#9c179e\"],[0.4444444444444444,\"#bd3786\"],[0.5555555555555556,\"#d8576b\"],[0.6666666666666666,\"#ed7953\"],[0.7777777777777778,\"#fb9f3a\"],[0.8888888888888888,\"#fdca26\"],[1.0,\"#f0f921\"]],\"type\":\"contour\"}],\"heatmapgl\":[{\"colorbar\":{\"outlinewidth\":0,\"ticks\":\"\"},\"colorscale\":[[0.0,\"#0d0887\"],[0.1111111111111111,\"#46039f\"],[0.2222222222222222,\"#7201a8\"],[0.3333333333333333,\"#9c179e\"],[0.4444444444444444,\"#bd3786\"],[0.5555555555555556,\"#d8576b\"],[0.6666666666666666,\"#ed7953\"],[0.7777777777777778,\"#fb9f3a\"],[0.8888888888888888,\"#fdca26\"],[1.0,\"#f0f921\"]],\"type\":\"heatmapgl\"}],\"heatmap\":[{\"colorbar\":{\"outlinewidth\":0,\"ticks\":\"\"},\"colorscale\":[[0.0,\"#0d0887\"],[0.1111111111111111,\"#46039f\"],[0.2222222222222222,\"#7201a8\"],[0.3333333333333333,\"#9c179e\"],[0.4444444444444444,\"#bd3786\"],[0.5555555555555556,\"#d8576b\"],[0.6666666666666666,\"#ed7953\"],[0.7777777777777778,\"#fb9f3a\"],[0.8888888888888888,\"#fdca26\"],[1.0,\"#f0f921\"]],\"type\":\"heatmap\"}],\"histogram2dcontour\":[{\"colorbar\":{\"outlinewidth\":0,\"ticks\":\"\"},\"colorscale\":[[0.0,\"#0d0887\"],[0.1111111111111111,\"#46039f\"],[0.2222222222222222,\"#7201a8\"],[0.3333333333333333,\"#9c179e\"],[0.4444444444444444,\"#bd3786\"],[0.5555555555555556,\"#d8576b\"],[0.6666666666666666,\"#ed7953\"],[0.7777777777777778,\"#fb9f3a\"],[0.8888888888888888,\"#fdca26\"],[1.0,\"#f0f921\"]],\"type\":\"histogram2dcontour\"}],\"histogram2d\":[{\"colorbar\":{\"outlinewidth\":0,\"ticks\":\"\"},\"colorscale\":[[0.0,\"#0d0887\"],[0.1111111111111111,\"#46039f\"],[0.2222222222222222,\"#7201a8\"],[0.3333333333333333,\"#9c179e\"],[0.4444444444444444,\"#bd3786\"],[0.5555555555555556,\"#d8576b\"],[0.6666666666666666,\"#ed7953\"],[0.7777777777777778,\"#fb9f3a\"],[0.8888888888888888,\"#fdca26\"],[1.0,\"#f0f921\"]],\"type\":\"histogram2d\"}],\"histogram\":[{\"marker\":{\"pattern\":{\"fillmode\":\"overlay\",\"size\":10,\"solidity\":0.2}},\"type\":\"histogram\"}],\"mesh3d\":[{\"colorbar\":{\"outlinewidth\":0,\"ticks\":\"\"},\"type\":\"mesh3d\"}],\"parcoords\":[{\"line\":{\"colorbar\":{\"outlinewidth\":0,\"ticks\":\"\"}},\"type\":\"parcoords\"}],\"pie\":[{\"automargin\":true,\"type\":\"pie\"}],\"scatter3d\":[{\"line\":{\"colorbar\":{\"outlinewidth\":0,\"ticks\":\"\"}},\"marker\":{\"colorbar\":{\"outlinewidth\":0,\"ticks\":\"\"}},\"type\":\"scatter3d\"}],\"scattercarpet\":[{\"marker\":{\"colorbar\":{\"outlinewidth\":0,\"ticks\":\"\"}},\"type\":\"scattercarpet\"}],\"scattergeo\":[{\"marker\":{\"colorbar\":{\"outlinewidth\":0,\"ticks\":\"\"}},\"type\":\"scattergeo\"}],\"scattergl\":[{\"marker\":{\"line\":{\"color\":\"#283442\"}},\"type\":\"scattergl\"}],\"scattermapbox\":[{\"marker\":{\"colorbar\":{\"outlinewidth\":0,\"ticks\":\"\"}},\"type\":\"scattermapbox\"}],\"scatterpolargl\":[{\"marker\":{\"colorbar\":{\"outlinewidth\":0,\"ticks\":\"\"}},\"type\":\"scatterpolargl\"}],\"scatterpolar\":[{\"marker\":{\"colorbar\":{\"outlinewidth\":0,\"ticks\":\"\"}},\"type\":\"scatterpolar\"}],\"scatter\":[{\"marker\":{\"line\":{\"color\":\"#283442\"}},\"type\":\"scatter\"}],\"scatterternary\":[{\"marker\":{\"colorbar\":{\"outlinewidth\":0,\"ticks\":\"\"}},\"type\":\"scatterternary\"}],\"surface\":[{\"colorbar\":{\"outlinewidth\":0,\"ticks\":\"\"},\"colorscale\":[[0.0,\"#0d0887\"],[0.1111111111111111,\"#46039f\"],[0.2222222222222222,\"#7201a8\"],[0.3333333333333333,\"#9c179e\"],[0.4444444444444444,\"#bd3786\"],[0.5555555555555556,\"#d8576b\"],[0.6666666666666666,\"#ed7953\"],[0.7777777777777778,\"#fb9f3a\"],[0.8888888888888888,\"#fdca26\"],[1.0,\"#f0f921\"]],\"type\":\"surface\"}],\"table\":[{\"cells\":{\"fill\":{\"color\":\"#506784\"},\"line\":{\"color\":\"rgb(17,17,17)\"}},\"header\":{\"fill\":{\"color\":\"#2a3f5f\"},\"line\":{\"color\":\"rgb(17,17,17)\"}},\"type\":\"table\"}]},\"layout\":{\"annotationdefaults\":{\"arrowcolor\":\"#f2f5fa\",\"arrowhead\":0,\"arrowwidth\":1},\"autotypenumbers\":\"strict\",\"coloraxis\":{\"colorbar\":{\"outlinewidth\":0,\"ticks\":\"\"}},\"colorscale\":{\"diverging\":[[0,\"#8e0152\"],[0.1,\"#c51b7d\"],[0.2,\"#de77ae\"],[0.3,\"#f1b6da\"],[0.4,\"#fde0ef\"],[0.5,\"#f7f7f7\"],[0.6,\"#e6f5d0\"],[0.7,\"#b8e186\"],[0.8,\"#7fbc41\"],[0.9,\"#4d9221\"],[1,\"#276419\"]],\"sequential\":[[0.0,\"#0d0887\"],[0.1111111111111111,\"#46039f\"],[0.2222222222222222,\"#7201a8\"],[0.3333333333333333,\"#9c179e\"],[0.4444444444444444,\"#bd3786\"],[0.5555555555555556,\"#d8576b\"],[0.6666666666666666,\"#ed7953\"],[0.7777777777777778,\"#fb9f3a\"],[0.8888888888888888,\"#fdca26\"],[1.0,\"#f0f921\"]],\"sequentialminus\":[[0.0,\"#0d0887\"],[0.1111111111111111,\"#46039f\"],[0.2222222222222222,\"#7201a8\"],[0.3333333333333333,\"#9c179e\"],[0.4444444444444444,\"#bd3786\"],[0.5555555555555556,\"#d8576b\"],[0.6666666666666666,\"#ed7953\"],[0.7777777777777778,\"#fb9f3a\"],[0.8888888888888888,\"#fdca26\"],[1.0,\"#f0f921\"]]},\"colorway\":[\"#636efa\",\"#EF553B\",\"#00cc96\",\"#ab63fa\",\"#FFA15A\",\"#19d3f3\",\"#FF6692\",\"#B6E880\",\"#FF97FF\",\"#FECB52\"],\"font\":{\"color\":\"#f2f5fa\"},\"geo\":{\"bgcolor\":\"rgb(17,17,17)\",\"lakecolor\":\"rgb(17,17,17)\",\"landcolor\":\"rgb(17,17,17)\",\"showlakes\":true,\"showland\":true,\"subunitcolor\":\"#506784\"},\"hoverlabel\":{\"align\":\"left\"},\"hovermode\":\"closest\",\"mapbox\":{\"style\":\"dark\"},\"paper_bgcolor\":\"rgb(17,17,17)\",\"plot_bgcolor\":\"rgb(17,17,17)\",\"polar\":{\"angularaxis\":{\"gridcolor\":\"#506784\",\"linecolor\":\"#506784\",\"ticks\":\"\"},\"bgcolor\":\"rgb(17,17,17)\",\"radialaxis\":{\"gridcolor\":\"#506784\",\"linecolor\":\"#506784\",\"ticks\":\"\"}},\"scene\":{\"xaxis\":{\"backgroundcolor\":\"rgb(17,17,17)\",\"gridcolor\":\"#506784\",\"gridwidth\":2,\"linecolor\":\"#506784\",\"showbackground\":true,\"ticks\":\"\",\"zerolinecolor\":\"#C8D4E3\"},\"yaxis\":{\"backgroundcolor\":\"rgb(17,17,17)\",\"gridcolor\":\"#506784\",\"gridwidth\":2,\"linecolor\":\"#506784\",\"showbackground\":true,\"ticks\":\"\",\"zerolinecolor\":\"#C8D4E3\"},\"zaxis\":{\"backgroundcolor\":\"rgb(17,17,17)\",\"gridcolor\":\"#506784\",\"gridwidth\":2,\"linecolor\":\"#506784\",\"showbackground\":true,\"ticks\":\"\",\"zerolinecolor\":\"#C8D4E3\"}},\"shapedefaults\":{\"line\":{\"color\":\"#f2f5fa\"}},\"sliderdefaults\":{\"bgcolor\":\"#C8D4E3\",\"bordercolor\":\"rgb(17,17,17)\",\"borderwidth\":1,\"tickwidth\":0},\"ternary\":{\"aaxis\":{\"gridcolor\":\"#506784\",\"linecolor\":\"#506784\",\"ticks\":\"\"},\"baxis\":{\"gridcolor\":\"#506784\",\"linecolor\":\"#506784\",\"ticks\":\"\"},\"bgcolor\":\"rgb(17,17,17)\",\"caxis\":{\"gridcolor\":\"#506784\",\"linecolor\":\"#506784\",\"ticks\":\"\"}},\"title\":{\"x\":0.05},\"updatemenudefaults\":{\"bgcolor\":\"#506784\",\"borderwidth\":0},\"xaxis\":{\"automargin\":true,\"gridcolor\":\"#283442\",\"linecolor\":\"#506784\",\"ticks\":\"\",\"title\":{\"standoff\":15},\"zerolinecolor\":\"#283442\",\"zerolinewidth\":2},\"yaxis\":{\"automargin\":true,\"gridcolor\":\"#283442\",\"linecolor\":\"#506784\",\"ticks\":\"\",\"title\":{\"standoff\":15},\"zerolinecolor\":\"#283442\",\"zerolinewidth\":2}}},\"xaxis\":{\"anchor\":\"y\",\"domain\":[0.0,1.0],\"title\":{\"text\":\"N\\u00famero de cluster\"}},\"yaxis\":{\"anchor\":\"x\",\"domain\":[0.0,1.0],\"title\":{\"text\":\"\"}},\"legend\":{\"tracegroupgap\":0},\"margin\":{\"t\":60},\"title\":{\"x\":0}},                        {\"displaylogo\": false, \"responsive\": true}                    ).then(function(){\n",
       "                            \n",
       "var gd = document.getElementById('cb37481e-1119-4a78-873b-b8703eed3ce5');\n",
       "var x = new MutationObserver(function (mutations, observer) {{\n",
       "        var display = window.getComputedStyle(gd).display;\n",
       "        if (!display || display === 'none') {{\n",
       "            console.log([gd, 'removed!']);\n",
       "            Plotly.purge(gd);\n",
       "            observer.disconnect();\n",
       "        }}\n",
       "}});\n",
       "\n",
       "// Listen for the removal of the full notebook cells\n",
       "var notebookContainer = gd.closest('#notebook-container');\n",
       "if (notebookContainer) {{\n",
       "    x.observe(notebookContainer, {childList: true});\n",
       "}}\n",
       "\n",
       "// Listen for the clearing of the current output cell\n",
       "var outputEl = gd.closest('.output');\n",
       "if (outputEl) {{\n",
       "    x.observe(outputEl, {childList: true});\n",
       "}}\n",
       "\n",
       "                        })                };                });            </script>        </div>"
      ]
     },
     "metadata": {},
     "output_type": "display_data"
    }
   ],
   "source": [
    "my_dict = {}\n",
    "cliente_recencia = dados_clientes[['Recencia']]\n",
    "\n",
    "for idx in range(1, 10):\n",
    "    kmeans = KMeans(n_clusters=idx, max_iter=1000).fit(cliente_recencia)\n",
    "    cliente_recencia['clusters'] = kmeans.labels_\n",
    "    my_dict[idx] = kmeans.inertia_\n",
    "    \n",
    "line_fig = px.line(x=list(my_dict.keys()), \n",
    "                   y=list(my_dict.values()), \n",
    "                   template=\"plotly_dark\"\n",
    "                  )\n",
    "\n",
    "line_fig.update_layout(title_x=0, \n",
    "                       xaxis_title=\"Número de cluster\", \n",
    "                       yaxis_title=\"\"\n",
    "                      )\n",
    "\n",
    "line_fig.show(config={'displaylogo': False})"
   ]
  },
  {
   "cell_type": "code",
   "execution_count": 90,
   "id": "5b7a14cc",
   "metadata": {},
   "outputs": [
    {
     "data": {
      "text/html": [
       "<div>\n",
       "<style scoped>\n",
       "    .dataframe tbody tr th:only-of-type {\n",
       "        vertical-align: middle;\n",
       "    }\n",
       "\n",
       "    .dataframe tbody tr th {\n",
       "        vertical-align: top;\n",
       "    }\n",
       "\n",
       "    .dataframe thead th {\n",
       "        text-align: right;\n",
       "    }\n",
       "</style>\n",
       "<table border=\"1\" class=\"dataframe\">\n",
       "  <thead>\n",
       "    <tr style=\"text-align: right;\">\n",
       "      <th></th>\n",
       "      <th>ID_Cliente</th>\n",
       "      <th>ProximoDiaCompra</th>\n",
       "      <th>Recencia</th>\n",
       "      <th>RecenciaCluster</th>\n",
       "    </tr>\n",
       "  </thead>\n",
       "  <tbody>\n",
       "    <tr>\n",
       "      <th>0</th>\n",
       "      <td>12429082030</td>\n",
       "      <td>9999.0</td>\n",
       "      <td>490</td>\n",
       "      <td>2</td>\n",
       "    </tr>\n",
       "    <tr>\n",
       "      <th>1</th>\n",
       "      <td>12793619292</td>\n",
       "      <td>9999.0</td>\n",
       "      <td>100</td>\n",
       "      <td>0</td>\n",
       "    </tr>\n",
       "    <tr>\n",
       "      <th>2</th>\n",
       "      <td>1</td>\n",
       "      <td>9999.0</td>\n",
       "      <td>491</td>\n",
       "      <td>2</td>\n",
       "    </tr>\n",
       "    <tr>\n",
       "      <th>3</th>\n",
       "      <td>2</td>\n",
       "      <td>9999.0</td>\n",
       "      <td>492</td>\n",
       "      <td>2</td>\n",
       "    </tr>\n",
       "    <tr>\n",
       "      <th>4</th>\n",
       "      <td>12732289533</td>\n",
       "      <td>27.0</td>\n",
       "      <td>13</td>\n",
       "      <td>3</td>\n",
       "    </tr>\n",
       "  </tbody>\n",
       "</table>\n",
       "</div>"
      ],
      "text/plain": [
       "    ID_Cliente  ProximoDiaCompra  Recencia  RecenciaCluster\n",
       "0  12429082030            9999.0       490                2\n",
       "1  12793619292            9999.0       100                0\n",
       "2            1            9999.0       491                2\n",
       "3            2            9999.0       492                2\n",
       "4  12732289533              27.0        13                3"
      ]
     },
     "execution_count": 90,
     "metadata": {},
     "output_type": "execute_result"
    }
   ],
   "source": [
    "numero_de_clusters = 4\n",
    "kmeans = KMeans(n_clusters=numero_de_clusters)\n",
    "kmeans.fit(dados_clientes[['Recencia']])\n",
    "dados_clientes['RecenciaCluster'] = kmeans.predict(dados_clientes[['Recencia']])\n",
    "dados_clientes.head()"
   ]
  },
  {
   "cell_type": "code",
   "execution_count": 91,
   "id": "14c8f53b",
   "metadata": {},
   "outputs": [],
   "source": [
    "def order_cluster(df, target_field_name, cluster_field_name, ascending):\n",
    "    \"\"\"\n",
    "    INPUT:\n",
    "        - df                  - pandas DataFrame\n",
    "        - target_field_name   - str - A column in the pandas DataFrame df\n",
    "        - cluster_field_name  - str - Expected to be a column in the pandas DataFrame df\n",
    "        - ascending           - Boolean\n",
    "        \n",
    "    OUTPUT:\n",
    "        - df_final            - pandas DataFrame with target_field_name and cluster_field_name as columns\n",
    "    \n",
    "    \"\"\"\n",
    "    # Add the string \"new_\" to cluster_field_name\n",
    "    new_cluster_field_name = \"new_\" + cluster_field_name\n",
    "    \n",
    "    # Create a new dataframe by grouping the input dataframe by cluster_field_name and extract target_field_name \n",
    "    # and find the mean\n",
    "    df_new = df.groupby(cluster_field_name)[target_field_name].mean().reset_index()\n",
    "    \n",
    "    # Sort the new dataframe df_new, by target_field_name in descending order\n",
    "    df_new = df_new.sort_values(by=target_field_name, ascending=ascending).reset_index(drop=True)\n",
    "    \n",
    "    # Create a new column in df_new with column name index and assign it values to df_new.index\n",
    "    df_new[\"index\"] = df_new.index\n",
    "    \n",
    "    # Create a new dataframe by merging input dataframe df and part of the columns of df_new based on \n",
    "    # cluster_field_name\n",
    "    df_final = pd.merge(df, df_new[[cluster_field_name, \"index\"]], on=cluster_field_name)\n",
    "    \n",
    "    # Update the dataframe df_final by deleting the column cluster_field_name\n",
    "    df_final = df_final.drop([cluster_field_name], axis=1)\n",
    "    \n",
    "    # Rename the column index to cluster_field_name\n",
    "    df_final = df_final.rename(columns={\"index\": cluster_field_name})\n",
    "    \n",
    "    return df_final\n"
   ]
  },
  {
   "cell_type": "code",
   "execution_count": 92,
   "id": "544497c5",
   "metadata": {},
   "outputs": [
    {
     "data": {
      "text/html": [
       "<div>\n",
       "<style scoped>\n",
       "    .dataframe tbody tr th:only-of-type {\n",
       "        vertical-align: middle;\n",
       "    }\n",
       "\n",
       "    .dataframe tbody tr th {\n",
       "        vertical-align: top;\n",
       "    }\n",
       "\n",
       "    .dataframe thead th {\n",
       "        text-align: right;\n",
       "    }\n",
       "</style>\n",
       "<table border=\"1\" class=\"dataframe\">\n",
       "  <thead>\n",
       "    <tr style=\"text-align: right;\">\n",
       "      <th></th>\n",
       "      <th>ID_Cliente</th>\n",
       "      <th>ProximoDiaCompra</th>\n",
       "      <th>Recencia</th>\n",
       "      <th>RecenciaCluster</th>\n",
       "    </tr>\n",
       "  </thead>\n",
       "  <tbody>\n",
       "    <tr>\n",
       "      <th>0</th>\n",
       "      <td>12429082030</td>\n",
       "      <td>9999.0</td>\n",
       "      <td>490</td>\n",
       "      <td>0</td>\n",
       "    </tr>\n",
       "    <tr>\n",
       "      <th>1</th>\n",
       "      <td>1</td>\n",
       "      <td>9999.0</td>\n",
       "      <td>491</td>\n",
       "      <td>0</td>\n",
       "    </tr>\n",
       "    <tr>\n",
       "      <th>2</th>\n",
       "      <td>2</td>\n",
       "      <td>9999.0</td>\n",
       "      <td>492</td>\n",
       "      <td>0</td>\n",
       "    </tr>\n",
       "    <tr>\n",
       "      <th>3</th>\n",
       "      <td>12628027616</td>\n",
       "      <td>9999.0</td>\n",
       "      <td>500</td>\n",
       "      <td>0</td>\n",
       "    </tr>\n",
       "    <tr>\n",
       "      <th>4</th>\n",
       "      <td>3</td>\n",
       "      <td>9999.0</td>\n",
       "      <td>501</td>\n",
       "      <td>0</td>\n",
       "    </tr>\n",
       "  </tbody>\n",
       "</table>\n",
       "</div>"
      ],
      "text/plain": [
       "    ID_Cliente  ProximoDiaCompra  Recencia  RecenciaCluster\n",
       "0  12429082030            9999.0       490                0\n",
       "1            1            9999.0       491                0\n",
       "2            2            9999.0       492                0\n",
       "3  12628027616            9999.0       500                0\n",
       "4            3            9999.0       501                0"
      ]
     },
     "execution_count": 92,
     "metadata": {},
     "output_type": "execute_result"
    }
   ],
   "source": [
    "dados_clientes = order_cluster(dados_clientes, 'Recencia', 'RecenciaCluster', False)\n",
    "dados_clientes.head()"
   ]
  },
  {
   "cell_type": "code",
   "execution_count": 93,
   "id": "020405fb",
   "metadata": {},
   "outputs": [
    {
     "data": {
      "text/html": [
       "<div>\n",
       "<style scoped>\n",
       "    .dataframe tbody tr th:only-of-type {\n",
       "        vertical-align: middle;\n",
       "    }\n",
       "\n",
       "    .dataframe tbody tr th {\n",
       "        vertical-align: top;\n",
       "    }\n",
       "\n",
       "    .dataframe thead th {\n",
       "        text-align: right;\n",
       "    }\n",
       "</style>\n",
       "<table border=\"1\" class=\"dataframe\">\n",
       "  <thead>\n",
       "    <tr style=\"text-align: right;\">\n",
       "      <th></th>\n",
       "      <th>count</th>\n",
       "      <th>mean</th>\n",
       "      <th>std</th>\n",
       "      <th>min</th>\n",
       "      <th>25%</th>\n",
       "      <th>50%</th>\n",
       "      <th>75%</th>\n",
       "      <th>max</th>\n",
       "    </tr>\n",
       "    <tr>\n",
       "      <th>RecenciaCluster</th>\n",
       "      <th></th>\n",
       "      <th></th>\n",
       "      <th></th>\n",
       "      <th></th>\n",
       "      <th></th>\n",
       "      <th></th>\n",
       "      <th></th>\n",
       "      <th></th>\n",
       "    </tr>\n",
       "  </thead>\n",
       "  <tbody>\n",
       "    <tr>\n",
       "      <th>0</th>\n",
       "      <td>143.0</td>\n",
       "      <td>591.657343</td>\n",
       "      <td>90.296078</td>\n",
       "      <td>455.0</td>\n",
       "      <td>507.0</td>\n",
       "      <td>613.0</td>\n",
       "      <td>672.0</td>\n",
       "      <td>772.0</td>\n",
       "    </tr>\n",
       "    <tr>\n",
       "      <th>1</th>\n",
       "      <td>509.0</td>\n",
       "      <td>315.532417</td>\n",
       "      <td>52.813942</td>\n",
       "      <td>226.0</td>\n",
       "      <td>280.0</td>\n",
       "      <td>290.0</td>\n",
       "      <td>346.0</td>\n",
       "      <td>452.0</td>\n",
       "    </tr>\n",
       "    <tr>\n",
       "      <th>2</th>\n",
       "      <td>832.0</td>\n",
       "      <td>134.960337</td>\n",
       "      <td>39.770819</td>\n",
       "      <td>87.0</td>\n",
       "      <td>102.0</td>\n",
       "      <td>121.0</td>\n",
       "      <td>163.0</td>\n",
       "      <td>225.0</td>\n",
       "    </tr>\n",
       "    <tr>\n",
       "      <th>3</th>\n",
       "      <td>964.0</td>\n",
       "      <td>37.987552</td>\n",
       "      <td>24.593515</td>\n",
       "      <td>0.0</td>\n",
       "      <td>14.0</td>\n",
       "      <td>41.5</td>\n",
       "      <td>57.0</td>\n",
       "      <td>86.0</td>\n",
       "    </tr>\n",
       "  </tbody>\n",
       "</table>\n",
       "</div>"
      ],
      "text/plain": [
       "                 count        mean        std    min    25%    50%    75%  \\\n",
       "RecenciaCluster                                                             \n",
       "0                143.0  591.657343  90.296078  455.0  507.0  613.0  672.0   \n",
       "1                509.0  315.532417  52.813942  226.0  280.0  290.0  346.0   \n",
       "2                832.0  134.960337  39.770819   87.0  102.0  121.0  163.0   \n",
       "3                964.0   37.987552  24.593515    0.0   14.0   41.5   57.0   \n",
       "\n",
       "                   max  \n",
       "RecenciaCluster         \n",
       "0                772.0  \n",
       "1                452.0  \n",
       "2                225.0  \n",
       "3                 86.0  "
      ]
     },
     "execution_count": 93,
     "metadata": {},
     "output_type": "execute_result"
    }
   ],
   "source": [
    "#Imprima características do cluster\n",
    "dados_clientes.groupby('RecenciaCluster')['Recencia'].describe()"
   ]
  },
  {
   "cell_type": "markdown",
   "id": "5cf18c84",
   "metadata": {},
   "source": [
    "Observe acima que 3 cobre os clientes mais recentes, enquanto 0 tem os clientes mais inativos. "
   ]
  },
  {
   "cell_type": "markdown",
   "id": "81827fc5",
   "metadata": {},
   "source": [
    "**Frequência**"
   ]
  },
  {
   "cell_type": "markdown",
   "id": "7dc5e1d3",
   "metadata": {},
   "source": [
    "Em seguida,encontraremos o comportamento de compra dos clientes com base no número de vezes que compram na loja \n",
    "online. Ou seja, o número total de pedidos de cada cliente."
   ]
  },
  {
   "cell_type": "code",
   "execution_count": 94,
   "id": "23786414",
   "metadata": {},
   "outputs": [
    {
     "data": {
      "text/html": [
       "<div>\n",
       "<style scoped>\n",
       "    .dataframe tbody tr th:only-of-type {\n",
       "        vertical-align: middle;\n",
       "    }\n",
       "\n",
       "    .dataframe tbody tr th {\n",
       "        vertical-align: top;\n",
       "    }\n",
       "\n",
       "    .dataframe thead th {\n",
       "        text-align: right;\n",
       "    }\n",
       "</style>\n",
       "<table border=\"1\" class=\"dataframe\">\n",
       "  <thead>\n",
       "    <tr style=\"text-align: right;\">\n",
       "      <th></th>\n",
       "      <th>ID_Cliente</th>\n",
       "      <th>Frequencia</th>\n",
       "    </tr>\n",
       "  </thead>\n",
       "  <tbody>\n",
       "    <tr>\n",
       "      <th>0</th>\n",
       "      <td>1</td>\n",
       "      <td>1</td>\n",
       "    </tr>\n",
       "    <tr>\n",
       "      <th>1</th>\n",
       "      <td>2</td>\n",
       "      <td>2</td>\n",
       "    </tr>\n",
       "    <tr>\n",
       "      <th>2</th>\n",
       "      <td>3</td>\n",
       "      <td>1</td>\n",
       "    </tr>\n",
       "    <tr>\n",
       "      <th>3</th>\n",
       "      <td>4</td>\n",
       "      <td>2</td>\n",
       "    </tr>\n",
       "    <tr>\n",
       "      <th>4</th>\n",
       "      <td>5</td>\n",
       "      <td>1</td>\n",
       "    </tr>\n",
       "    <tr>\n",
       "      <th>...</th>\n",
       "      <td>...</td>\n",
       "      <td>...</td>\n",
       "    </tr>\n",
       "    <tr>\n",
       "      <th>3778</th>\n",
       "      <td>15990633555</td>\n",
       "      <td>2</td>\n",
       "    </tr>\n",
       "    <tr>\n",
       "      <th>3779</th>\n",
       "      <td>15990637791</td>\n",
       "      <td>2</td>\n",
       "    </tr>\n",
       "    <tr>\n",
       "      <th>3780</th>\n",
       "      <td>15990645865</td>\n",
       "      <td>2</td>\n",
       "    </tr>\n",
       "    <tr>\n",
       "      <th>3781</th>\n",
       "      <td>15990665892</td>\n",
       "      <td>1</td>\n",
       "    </tr>\n",
       "    <tr>\n",
       "      <th>3782</th>\n",
       "      <td>15990672946</td>\n",
       "      <td>2</td>\n",
       "    </tr>\n",
       "  </tbody>\n",
       "</table>\n",
       "<p>3783 rows × 2 columns</p>\n",
       "</div>"
      ],
      "text/plain": [
       "       ID_Cliente  Frequencia\n",
       "0               1           1\n",
       "1               2           2\n",
       "2               3           1\n",
       "3               4           2\n",
       "4               5           1\n",
       "...           ...         ...\n",
       "3778  15990633555           2\n",
       "3779  15990637791           2\n",
       "3780  15990645865           2\n",
       "3781  15990665892           1\n",
       "3782  15990672946           2\n",
       "\n",
       "[3783 rows x 2 columns]"
      ]
     },
     "execution_count": 94,
     "metadata": {},
     "output_type": "execute_result"
    }
   ],
   "source": [
    "#Obtém contagens de pedidos para cada usuário e criar um dataframe com esse conteúdo\n",
    "cliente_frequencia = base_compras.groupby('ID_Cliente').Data.count().reset_index()\n",
    "cliente_frequencia.columns = ['ID_Cliente','Frequencia']\n",
    "cliente_frequencia"
   ]
  },
  {
   "cell_type": "code",
   "execution_count": 95,
   "id": "a4cb76f7",
   "metadata": {
    "scrolled": true
   },
   "outputs": [
    {
     "data": {
      "text/html": [
       "<div>\n",
       "<style scoped>\n",
       "    .dataframe tbody tr th:only-of-type {\n",
       "        vertical-align: middle;\n",
       "    }\n",
       "\n",
       "    .dataframe tbody tr th {\n",
       "        vertical-align: top;\n",
       "    }\n",
       "\n",
       "    .dataframe thead th {\n",
       "        text-align: right;\n",
       "    }\n",
       "</style>\n",
       "<table border=\"1\" class=\"dataframe\">\n",
       "  <thead>\n",
       "    <tr style=\"text-align: right;\">\n",
       "      <th></th>\n",
       "      <th>ID_Cliente</th>\n",
       "      <th>ProximoDiaCompra</th>\n",
       "      <th>Recencia</th>\n",
       "      <th>RecenciaCluster</th>\n",
       "      <th>Frequencia</th>\n",
       "    </tr>\n",
       "  </thead>\n",
       "  <tbody>\n",
       "    <tr>\n",
       "      <th>0</th>\n",
       "      <td>12429082030</td>\n",
       "      <td>9999.0</td>\n",
       "      <td>490</td>\n",
       "      <td>0</td>\n",
       "      <td>6</td>\n",
       "    </tr>\n",
       "    <tr>\n",
       "      <th>1</th>\n",
       "      <td>1</td>\n",
       "      <td>9999.0</td>\n",
       "      <td>491</td>\n",
       "      <td>0</td>\n",
       "      <td>1</td>\n",
       "    </tr>\n",
       "    <tr>\n",
       "      <th>2</th>\n",
       "      <td>2</td>\n",
       "      <td>9999.0</td>\n",
       "      <td>492</td>\n",
       "      <td>0</td>\n",
       "      <td>2</td>\n",
       "    </tr>\n",
       "    <tr>\n",
       "      <th>3</th>\n",
       "      <td>12628027616</td>\n",
       "      <td>9999.0</td>\n",
       "      <td>500</td>\n",
       "      <td>0</td>\n",
       "      <td>1</td>\n",
       "    </tr>\n",
       "    <tr>\n",
       "      <th>4</th>\n",
       "      <td>3</td>\n",
       "      <td>9999.0</td>\n",
       "      <td>501</td>\n",
       "      <td>0</td>\n",
       "      <td>1</td>\n",
       "    </tr>\n",
       "  </tbody>\n",
       "</table>\n",
       "</div>"
      ],
      "text/plain": [
       "    ID_Cliente  ProximoDiaCompra  Recencia  RecenciaCluster  Frequencia\n",
       "0  12429082030            9999.0       490                0           6\n",
       "1            1            9999.0       491                0           1\n",
       "2            2            9999.0       492                0           2\n",
       "3  12628027616            9999.0       500                0           1\n",
       "4            3            9999.0       501                0           1"
      ]
     },
     "execution_count": 95,
     "metadata": {},
     "output_type": "execute_result"
    }
   ],
   "source": [
    "#Adiciono esses dados ao nosso dados_clientes principal\n",
    "dados_clientes = pd.merge(dados_clientes, cliente_frequencia, on='ID_Cliente')\n",
    "dados_clientes.head()"
   ]
  },
  {
   "cell_type": "code",
   "execution_count": 96,
   "id": "607f0aa2",
   "metadata": {
    "scrolled": true
   },
   "outputs": [
    {
     "data": {
      "text/html": [
       "<div>\n",
       "<style scoped>\n",
       "    .dataframe tbody tr th:only-of-type {\n",
       "        vertical-align: middle;\n",
       "    }\n",
       "\n",
       "    .dataframe tbody tr th {\n",
       "        vertical-align: top;\n",
       "    }\n",
       "\n",
       "    .dataframe thead th {\n",
       "        text-align: right;\n",
       "    }\n",
       "</style>\n",
       "<table border=\"1\" class=\"dataframe\">\n",
       "  <thead>\n",
       "    <tr style=\"text-align: right;\">\n",
       "      <th></th>\n",
       "      <th>Frequencia</th>\n",
       "    </tr>\n",
       "  </thead>\n",
       "  <tbody>\n",
       "    <tr>\n",
       "      <th>count</th>\n",
       "      <td>2448.000000</td>\n",
       "    </tr>\n",
       "    <tr>\n",
       "      <th>mean</th>\n",
       "      <td>5.534722</td>\n",
       "    </tr>\n",
       "    <tr>\n",
       "      <th>std</th>\n",
       "      <td>6.507141</td>\n",
       "    </tr>\n",
       "    <tr>\n",
       "      <th>min</th>\n",
       "      <td>1.000000</td>\n",
       "    </tr>\n",
       "    <tr>\n",
       "      <th>25%</th>\n",
       "      <td>2.000000</td>\n",
       "    </tr>\n",
       "    <tr>\n",
       "      <th>50%</th>\n",
       "      <td>3.000000</td>\n",
       "    </tr>\n",
       "    <tr>\n",
       "      <th>75%</th>\n",
       "      <td>7.000000</td>\n",
       "    </tr>\n",
       "    <tr>\n",
       "      <th>max</th>\n",
       "      <td>86.000000</td>\n",
       "    </tr>\n",
       "  </tbody>\n",
       "</table>\n",
       "</div>"
      ],
      "text/plain": [
       "        Frequencia\n",
       "count  2448.000000\n",
       "mean      5.534722\n",
       "std       6.507141\n",
       "min       1.000000\n",
       "25%       2.000000\n",
       "50%       3.000000\n",
       "75%       7.000000\n",
       "max      86.000000"
      ]
     },
     "execution_count": 96,
     "metadata": {},
     "output_type": "execute_result"
    }
   ],
   "source": [
    "pd.DataFrame(dados_clientes.Frequencia.describe())"
   ]
  },
  {
   "cell_type": "code",
   "execution_count": 97,
   "id": "f48fe81b",
   "metadata": {},
   "outputs": [],
   "source": [
    "kmeans = KMeans(n_clusters=numero_de_clusters)\n",
    "kmeans.fit(dados_clientes[['Frequencia']])\n",
    "dados_clientes['FrequenciaCluster'] = kmeans.predict(dados_clientes[['Frequencia']])"
   ]
  },
  {
   "cell_type": "code",
   "execution_count": 98,
   "id": "e19bf5df",
   "metadata": {},
   "outputs": [
    {
     "data": {
      "text/html": [
       "<div>\n",
       "<style scoped>\n",
       "    .dataframe tbody tr th:only-of-type {\n",
       "        vertical-align: middle;\n",
       "    }\n",
       "\n",
       "    .dataframe tbody tr th {\n",
       "        vertical-align: top;\n",
       "    }\n",
       "\n",
       "    .dataframe thead th {\n",
       "        text-align: right;\n",
       "    }\n",
       "</style>\n",
       "<table border=\"1\" class=\"dataframe\">\n",
       "  <thead>\n",
       "    <tr style=\"text-align: right;\">\n",
       "      <th></th>\n",
       "      <th>ID_Cliente</th>\n",
       "      <th>ProximoDiaCompra</th>\n",
       "      <th>Recencia</th>\n",
       "      <th>RecenciaCluster</th>\n",
       "      <th>Frequencia</th>\n",
       "      <th>FrequenciaCluster</th>\n",
       "    </tr>\n",
       "  </thead>\n",
       "  <tbody>\n",
       "    <tr>\n",
       "      <th>0</th>\n",
       "      <td>12429082030</td>\n",
       "      <td>9999.0</td>\n",
       "      <td>490</td>\n",
       "      <td>0</td>\n",
       "      <td>6</td>\n",
       "      <td>2</td>\n",
       "    </tr>\n",
       "    <tr>\n",
       "      <th>1</th>\n",
       "      <td>12443818670</td>\n",
       "      <td>9999.0</td>\n",
       "      <td>473</td>\n",
       "      <td>0</td>\n",
       "      <td>6</td>\n",
       "      <td>2</td>\n",
       "    </tr>\n",
       "    <tr>\n",
       "      <th>2</th>\n",
       "      <td>12429451836</td>\n",
       "      <td>9999.0</td>\n",
       "      <td>485</td>\n",
       "      <td>0</td>\n",
       "      <td>5</td>\n",
       "      <td>2</td>\n",
       "    </tr>\n",
       "    <tr>\n",
       "      <th>3</th>\n",
       "      <td>12478497882</td>\n",
       "      <td>567.0</td>\n",
       "      <td>511</td>\n",
       "      <td>0</td>\n",
       "      <td>7</td>\n",
       "      <td>2</td>\n",
       "    </tr>\n",
       "    <tr>\n",
       "      <th>4</th>\n",
       "      <td>12528879531</td>\n",
       "      <td>576.0</td>\n",
       "      <td>507</td>\n",
       "      <td>0</td>\n",
       "      <td>5</td>\n",
       "      <td>2</td>\n",
       "    </tr>\n",
       "  </tbody>\n",
       "</table>\n",
       "</div>"
      ],
      "text/plain": [
       "    ID_Cliente  ProximoDiaCompra  Recencia  RecenciaCluster  Frequencia  \\\n",
       "0  12429082030            9999.0       490                0           6   \n",
       "1  12443818670            9999.0       473                0           6   \n",
       "2  12429451836            9999.0       485                0           5   \n",
       "3  12478497882             567.0       511                0           7   \n",
       "4  12528879531             576.0       507                0           5   \n",
       "\n",
       "   FrequenciaCluster  \n",
       "0                  2  \n",
       "1                  2  \n",
       "2                  2  \n",
       "3                  2  \n",
       "4                  2  "
      ]
     },
     "execution_count": 98,
     "metadata": {},
     "output_type": "execute_result"
    }
   ],
   "source": [
    "dados_clientes = order_cluster(dados_clientes, 'Frequencia', 'FrequenciaCluster', False)\n",
    "dados_clientes.head()"
   ]
  },
  {
   "cell_type": "code",
   "execution_count": 99,
   "id": "d539558c",
   "metadata": {},
   "outputs": [
    {
     "data": {
      "text/html": [
       "<div>\n",
       "<style scoped>\n",
       "    .dataframe tbody tr th:only-of-type {\n",
       "        vertical-align: middle;\n",
       "    }\n",
       "\n",
       "    .dataframe tbody tr th {\n",
       "        vertical-align: top;\n",
       "    }\n",
       "\n",
       "    .dataframe thead th {\n",
       "        text-align: right;\n",
       "    }\n",
       "</style>\n",
       "<table border=\"1\" class=\"dataframe\">\n",
       "  <thead>\n",
       "    <tr style=\"text-align: right;\">\n",
       "      <th></th>\n",
       "      <th>count</th>\n",
       "      <th>mean</th>\n",
       "      <th>std</th>\n",
       "      <th>min</th>\n",
       "      <th>25%</th>\n",
       "      <th>50%</th>\n",
       "      <th>75%</th>\n",
       "      <th>max</th>\n",
       "    </tr>\n",
       "    <tr>\n",
       "      <th>FrequenciaCluster</th>\n",
       "      <th></th>\n",
       "      <th></th>\n",
       "      <th></th>\n",
       "      <th></th>\n",
       "      <th></th>\n",
       "      <th></th>\n",
       "      <th></th>\n",
       "      <th></th>\n",
       "    </tr>\n",
       "  </thead>\n",
       "  <tbody>\n",
       "    <tr>\n",
       "      <th>0</th>\n",
       "      <td>55.0</td>\n",
       "      <td>33.727273</td>\n",
       "      <td>10.124145</td>\n",
       "      <td>26.0</td>\n",
       "      <td>27.0</td>\n",
       "      <td>31.0</td>\n",
       "      <td>36.5</td>\n",
       "      <td>86.0</td>\n",
       "    </tr>\n",
       "    <tr>\n",
       "      <th>1</th>\n",
       "      <td>194.0</td>\n",
       "      <td>16.989691</td>\n",
       "      <td>3.315827</td>\n",
       "      <td>13.0</td>\n",
       "      <td>14.0</td>\n",
       "      <td>16.0</td>\n",
       "      <td>19.0</td>\n",
       "      <td>25.0</td>\n",
       "    </tr>\n",
       "    <tr>\n",
       "      <th>2</th>\n",
       "      <td>680.0</td>\n",
       "      <td>7.751471</td>\n",
       "      <td>2.229471</td>\n",
       "      <td>5.0</td>\n",
       "      <td>6.0</td>\n",
       "      <td>7.0</td>\n",
       "      <td>9.0</td>\n",
       "      <td>12.0</td>\n",
       "    </tr>\n",
       "    <tr>\n",
       "      <th>3</th>\n",
       "      <td>1519.0</td>\n",
       "      <td>2.058591</td>\n",
       "      <td>1.062533</td>\n",
       "      <td>1.0</td>\n",
       "      <td>1.0</td>\n",
       "      <td>2.0</td>\n",
       "      <td>3.0</td>\n",
       "      <td>4.0</td>\n",
       "    </tr>\n",
       "  </tbody>\n",
       "</table>\n",
       "</div>"
      ],
      "text/plain": [
       "                    count       mean        std   min   25%   50%   75%   max\n",
       "FrequenciaCluster                                                            \n",
       "0                    55.0  33.727273  10.124145  26.0  27.0  31.0  36.5  86.0\n",
       "1                   194.0  16.989691   3.315827  13.0  14.0  16.0  19.0  25.0\n",
       "2                   680.0   7.751471   2.229471   5.0   6.0   7.0   9.0  12.0\n",
       "3                  1519.0   2.058591   1.062533   1.0   1.0   2.0   3.0   4.0"
      ]
     },
     "execution_count": 99,
     "metadata": {},
     "output_type": "execute_result"
    }
   ],
   "source": [
    "# Ver detalhes de cada FrequenciaCluster\n",
    "dados_clientes.groupby('FrequenciaCluster')['Frequencia'].describe()"
   ]
  },
  {
   "cell_type": "markdown",
   "id": "ce4b9c0e",
   "metadata": {},
   "source": [
    "Como foi o caso da Recência, maior número de frequência significa melhores clientes"
   ]
  },
  {
   "cell_type": "markdown",
   "id": "b43e87c3",
   "metadata": {},
   "source": [
    "**Receita**"
   ]
  },
  {
   "cell_type": "code",
   "execution_count": 100,
   "id": "a10b11df",
   "metadata": {},
   "outputs": [],
   "source": [
    "cliente_pedidos_total = base_compras.groupby(by=['ID_Cliente', 'ID_Pedido']).Total_do_Pedido.mean().reset_index()\n",
    "cliente_receita = cliente_pedidos_total.groupby('ID_Cliente').Total_do_Pedido.sum().reset_index()"
   ]
  },
  {
   "cell_type": "code",
   "execution_count": 101,
   "id": "1b1ab924",
   "metadata": {},
   "outputs": [
    {
     "data": {
      "text/html": [
       "<div>\n",
       "<style scoped>\n",
       "    .dataframe tbody tr th:only-of-type {\n",
       "        vertical-align: middle;\n",
       "    }\n",
       "\n",
       "    .dataframe tbody tr th {\n",
       "        vertical-align: top;\n",
       "    }\n",
       "\n",
       "    .dataframe thead th {\n",
       "        text-align: right;\n",
       "    }\n",
       "</style>\n",
       "<table border=\"1\" class=\"dataframe\">\n",
       "  <thead>\n",
       "    <tr style=\"text-align: right;\">\n",
       "      <th></th>\n",
       "      <th>ID_Cliente</th>\n",
       "      <th>ProximoDiaCompra</th>\n",
       "      <th>Recencia</th>\n",
       "      <th>RecenciaCluster</th>\n",
       "      <th>Frequencia</th>\n",
       "      <th>FrequenciaCluster</th>\n",
       "      <th>Total_do_Pedido</th>\n",
       "    </tr>\n",
       "  </thead>\n",
       "  <tbody>\n",
       "    <tr>\n",
       "      <th>0</th>\n",
       "      <td>12429082030</td>\n",
       "      <td>9999.0</td>\n",
       "      <td>490</td>\n",
       "      <td>0</td>\n",
       "      <td>6</td>\n",
       "      <td>2</td>\n",
       "      <td>623.40</td>\n",
       "    </tr>\n",
       "    <tr>\n",
       "      <th>1</th>\n",
       "      <td>12443818670</td>\n",
       "      <td>9999.0</td>\n",
       "      <td>473</td>\n",
       "      <td>0</td>\n",
       "      <td>6</td>\n",
       "      <td>2</td>\n",
       "      <td>727.73</td>\n",
       "    </tr>\n",
       "    <tr>\n",
       "      <th>2</th>\n",
       "      <td>12429451836</td>\n",
       "      <td>9999.0</td>\n",
       "      <td>485</td>\n",
       "      <td>0</td>\n",
       "      <td>5</td>\n",
       "      <td>2</td>\n",
       "      <td>386.14</td>\n",
       "    </tr>\n",
       "    <tr>\n",
       "      <th>3</th>\n",
       "      <td>12478497882</td>\n",
       "      <td>567.0</td>\n",
       "      <td>511</td>\n",
       "      <td>0</td>\n",
       "      <td>7</td>\n",
       "      <td>2</td>\n",
       "      <td>958.50</td>\n",
       "    </tr>\n",
       "    <tr>\n",
       "      <th>4</th>\n",
       "      <td>12528879531</td>\n",
       "      <td>576.0</td>\n",
       "      <td>507</td>\n",
       "      <td>0</td>\n",
       "      <td>5</td>\n",
       "      <td>2</td>\n",
       "      <td>569.90</td>\n",
       "    </tr>\n",
       "  </tbody>\n",
       "</table>\n",
       "</div>"
      ],
      "text/plain": [
       "    ID_Cliente  ProximoDiaCompra  Recencia  RecenciaCluster  Frequencia  \\\n",
       "0  12429082030            9999.0       490                0           6   \n",
       "1  12443818670            9999.0       473                0           6   \n",
       "2  12429451836            9999.0       485                0           5   \n",
       "3  12478497882             567.0       511                0           7   \n",
       "4  12528879531             576.0       507                0           5   \n",
       "\n",
       "   FrequenciaCluster  Total_do_Pedido  \n",
       "0                  2           623.40  \n",
       "1                  2           727.73  \n",
       "2                  2           386.14  \n",
       "3                  2           958.50  \n",
       "4                  2           569.90  "
      ]
     },
     "execution_count": 101,
     "metadata": {},
     "output_type": "execute_result"
    }
   ],
   "source": [
    "# Mescle-o com o nosso dados_clientes\n",
    "dados_clientes = pd.merge(dados_clientes, cliente_receita, on='ID_Cliente')\n",
    "dados_clientes.head()"
   ]
  },
  {
   "cell_type": "code",
   "execution_count": 102,
   "id": "1c7e76eb",
   "metadata": {},
   "outputs": [],
   "source": [
    "# Aplicando agrupamento\n",
    "kmeans = KMeans(n_clusters=numero_de_clusters)\n",
    "kmeans.fit(dados_clientes[['Total_do_Pedido']])\n",
    "dados_clientes['TotalPedidoCluster'] = kmeans.predict(dados_clientes[['Total_do_Pedido']])"
   ]
  },
  {
   "cell_type": "code",
   "execution_count": 103,
   "id": "69d54a18",
   "metadata": {},
   "outputs": [
    {
     "data": {
      "text/html": [
       "<div>\n",
       "<style scoped>\n",
       "    .dataframe tbody tr th:only-of-type {\n",
       "        vertical-align: middle;\n",
       "    }\n",
       "\n",
       "    .dataframe tbody tr th {\n",
       "        vertical-align: top;\n",
       "    }\n",
       "\n",
       "    .dataframe thead th {\n",
       "        text-align: right;\n",
       "    }\n",
       "</style>\n",
       "<table border=\"1\" class=\"dataframe\">\n",
       "  <thead>\n",
       "    <tr style=\"text-align: right;\">\n",
       "      <th></th>\n",
       "      <th>ID_Cliente</th>\n",
       "      <th>ProximoDiaCompra</th>\n",
       "      <th>Recencia</th>\n",
       "      <th>RecenciaCluster</th>\n",
       "      <th>Frequencia</th>\n",
       "      <th>FrequenciaCluster</th>\n",
       "      <th>Total_do_Pedido</th>\n",
       "      <th>TotalPedidoCluster</th>\n",
       "    </tr>\n",
       "  </thead>\n",
       "  <tbody>\n",
       "    <tr>\n",
       "      <th>0</th>\n",
       "      <td>12429082030</td>\n",
       "      <td>9999.0</td>\n",
       "      <td>490</td>\n",
       "      <td>0</td>\n",
       "      <td>6</td>\n",
       "      <td>2</td>\n",
       "      <td>623.40</td>\n",
       "      <td>0</td>\n",
       "    </tr>\n",
       "    <tr>\n",
       "      <th>1</th>\n",
       "      <td>12429451836</td>\n",
       "      <td>9999.0</td>\n",
       "      <td>485</td>\n",
       "      <td>0</td>\n",
       "      <td>5</td>\n",
       "      <td>2</td>\n",
       "      <td>386.14</td>\n",
       "      <td>0</td>\n",
       "    </tr>\n",
       "    <tr>\n",
       "      <th>2</th>\n",
       "      <td>12528879531</td>\n",
       "      <td>576.0</td>\n",
       "      <td>507</td>\n",
       "      <td>0</td>\n",
       "      <td>5</td>\n",
       "      <td>2</td>\n",
       "      <td>569.90</td>\n",
       "      <td>0</td>\n",
       "    </tr>\n",
       "    <tr>\n",
       "      <th>3</th>\n",
       "      <td>12920724665</td>\n",
       "      <td>564.0</td>\n",
       "      <td>479</td>\n",
       "      <td>0</td>\n",
       "      <td>6</td>\n",
       "      <td>2</td>\n",
       "      <td>638.30</td>\n",
       "      <td>0</td>\n",
       "    </tr>\n",
       "    <tr>\n",
       "      <th>4</th>\n",
       "      <td>13148663300</td>\n",
       "      <td>482.0</td>\n",
       "      <td>468</td>\n",
       "      <td>0</td>\n",
       "      <td>6</td>\n",
       "      <td>2</td>\n",
       "      <td>588.83</td>\n",
       "      <td>0</td>\n",
       "    </tr>\n",
       "  </tbody>\n",
       "</table>\n",
       "</div>"
      ],
      "text/plain": [
       "    ID_Cliente  ProximoDiaCompra  Recencia  RecenciaCluster  Frequencia  \\\n",
       "0  12429082030            9999.0       490                0           6   \n",
       "1  12429451836            9999.0       485                0           5   \n",
       "2  12528879531             576.0       507                0           5   \n",
       "3  12920724665             564.0       479                0           6   \n",
       "4  13148663300             482.0       468                0           6   \n",
       "\n",
       "   FrequenciaCluster  Total_do_Pedido  TotalPedidoCluster  \n",
       "0                  2           623.40                   0  \n",
       "1                  2           386.14                   0  \n",
       "2                  2           569.90                   0  \n",
       "3                  2           638.30                   0  \n",
       "4                  2           588.83                   0  "
      ]
     },
     "execution_count": 103,
     "metadata": {},
     "output_type": "execute_result"
    }
   ],
   "source": [
    "# Ordenando os números do cluster\n",
    "dados_clientes = order_cluster(dados_clientes, 'Total_do_Pedido', 'TotalPedidoCluster', True)\n",
    "dados_clientes.head()"
   ]
  },
  {
   "cell_type": "code",
   "execution_count": 104,
   "id": "9a715423",
   "metadata": {},
   "outputs": [
    {
     "data": {
      "text/html": [
       "<div>\n",
       "<style scoped>\n",
       "    .dataframe tbody tr th:only-of-type {\n",
       "        vertical-align: middle;\n",
       "    }\n",
       "\n",
       "    .dataframe tbody tr th {\n",
       "        vertical-align: top;\n",
       "    }\n",
       "\n",
       "    .dataframe thead th {\n",
       "        text-align: right;\n",
       "    }\n",
       "</style>\n",
       "<table border=\"1\" class=\"dataframe\">\n",
       "  <thead>\n",
       "    <tr style=\"text-align: right;\">\n",
       "      <th></th>\n",
       "      <th>count</th>\n",
       "      <th>mean</th>\n",
       "      <th>std</th>\n",
       "      <th>min</th>\n",
       "      <th>25%</th>\n",
       "      <th>50%</th>\n",
       "      <th>75%</th>\n",
       "      <th>max</th>\n",
       "    </tr>\n",
       "    <tr>\n",
       "      <th>TotalPedidoCluster</th>\n",
       "      <th></th>\n",
       "      <th></th>\n",
       "      <th></th>\n",
       "      <th></th>\n",
       "      <th></th>\n",
       "      <th></th>\n",
       "      <th></th>\n",
       "      <th></th>\n",
       "    </tr>\n",
       "  </thead>\n",
       "  <tbody>\n",
       "    <tr>\n",
       "      <th>0</th>\n",
       "      <td>1721.0</td>\n",
       "      <td>274.236729</td>\n",
       "      <td>165.961921</td>\n",
       "      <td>0.0</td>\n",
       "      <td>119.01</td>\n",
       "      <td>238.00</td>\n",
       "      <td>376.00</td>\n",
       "      <td>672.00</td>\n",
       "    </tr>\n",
       "    <tr>\n",
       "      <th>1</th>\n",
       "      <td>573.0</td>\n",
       "      <td>1070.700489</td>\n",
       "      <td>305.723094</td>\n",
       "      <td>675.0</td>\n",
       "      <td>803.00</td>\n",
       "      <td>1013.89</td>\n",
       "      <td>1300.88</td>\n",
       "      <td>1785.95</td>\n",
       "    </tr>\n",
       "    <tr>\n",
       "      <th>2</th>\n",
       "      <td>129.0</td>\n",
       "      <td>2510.312946</td>\n",
       "      <td>507.539641</td>\n",
       "      <td>1797.0</td>\n",
       "      <td>2098.00</td>\n",
       "      <td>2370.41</td>\n",
       "      <td>2894.24</td>\n",
       "      <td>3892.70</td>\n",
       "    </tr>\n",
       "    <tr>\n",
       "      <th>3</th>\n",
       "      <td>25.0</td>\n",
       "      <td>5340.499600</td>\n",
       "      <td>1466.003006</td>\n",
       "      <td>4124.0</td>\n",
       "      <td>4559.20</td>\n",
       "      <td>4998.00</td>\n",
       "      <td>5405.80</td>\n",
       "      <td>11313.90</td>\n",
       "    </tr>\n",
       "  </tbody>\n",
       "</table>\n",
       "</div>"
      ],
      "text/plain": [
       "                     count         mean          std     min      25%  \\\n",
       "TotalPedidoCluster                                                      \n",
       "0                   1721.0   274.236729   165.961921     0.0   119.01   \n",
       "1                    573.0  1070.700489   305.723094   675.0   803.00   \n",
       "2                    129.0  2510.312946   507.539641  1797.0  2098.00   \n",
       "3                     25.0  5340.499600  1466.003006  4124.0  4559.20   \n",
       "\n",
       "                        50%      75%       max  \n",
       "TotalPedidoCluster                              \n",
       "0                    238.00   376.00    672.00  \n",
       "1                   1013.89  1300.88   1785.95  \n",
       "2                   2370.41  2894.24   3892.70  \n",
       "3                   4998.00  5405.80  11313.90  "
      ]
     },
     "execution_count": 104,
     "metadata": {},
     "output_type": "execute_result"
    }
   ],
   "source": [
    "# Mostrarndo detalhes do dataframe\n",
    "dados_clientes.groupby('TotalPedidoCluster')['Total_do_Pedido'].describe()"
   ]
  },
  {
   "cell_type": "markdown",
   "id": "1d1e703e",
   "metadata": {},
   "source": [
    "**Pontuação Geral**  \n",
    "Agora iremos finalmente somar os recursos do cluster"
   ]
  },
  {
   "cell_type": "code",
   "execution_count": 105,
   "id": "467501c8",
   "metadata": {
    "scrolled": true
   },
   "outputs": [
    {
     "data": {
      "text/html": [
       "<div>\n",
       "<style scoped>\n",
       "    .dataframe tbody tr th:only-of-type {\n",
       "        vertical-align: middle;\n",
       "    }\n",
       "\n",
       "    .dataframe tbody tr th {\n",
       "        vertical-align: top;\n",
       "    }\n",
       "\n",
       "    .dataframe thead th {\n",
       "        text-align: right;\n",
       "    }\n",
       "</style>\n",
       "<table border=\"1\" class=\"dataframe\">\n",
       "  <thead>\n",
       "    <tr style=\"text-align: right;\">\n",
       "      <th></th>\n",
       "      <th>Recencia</th>\n",
       "      <th>Frequencia</th>\n",
       "      <th>Total_do_Pedido</th>\n",
       "    </tr>\n",
       "    <tr>\n",
       "      <th>PontuacaoGeral</th>\n",
       "      <th></th>\n",
       "      <th></th>\n",
       "      <th></th>\n",
       "    </tr>\n",
       "  </thead>\n",
       "  <tbody>\n",
       "    <tr>\n",
       "      <th>2</th>\n",
       "      <td>420.166667</td>\n",
       "      <td>10.333333</td>\n",
       "      <td>467.761667</td>\n",
       "    </tr>\n",
       "    <tr>\n",
       "      <th>3</th>\n",
       "      <td>510.402062</td>\n",
       "      <td>3.778351</td>\n",
       "      <td>363.955876</td>\n",
       "    </tr>\n",
       "    <tr>\n",
       "      <th>4</th>\n",
       "      <td>276.728723</td>\n",
       "      <td>3.992908</td>\n",
       "      <td>430.624858</td>\n",
       "    </tr>\n",
       "    <tr>\n",
       "      <th>5</th>\n",
       "      <td>117.842225</td>\n",
       "      <td>5.793417</td>\n",
       "      <td>642.819342</td>\n",
       "    </tr>\n",
       "    <tr>\n",
       "      <th>6</th>\n",
       "      <td>40.469773</td>\n",
       "      <td>6.730479</td>\n",
       "      <td>812.174244</td>\n",
       "    </tr>\n",
       "    <tr>\n",
       "      <th>7</th>\n",
       "      <td>61.555556</td>\n",
       "      <td>6.000000</td>\n",
       "      <td>1704.336667</td>\n",
       "    </tr>\n",
       "  </tbody>\n",
       "</table>\n",
       "</div>"
      ],
      "text/plain": [
       "                  Recencia  Frequencia  Total_do_Pedido\n",
       "PontuacaoGeral                                         \n",
       "2               420.166667   10.333333       467.761667\n",
       "3               510.402062    3.778351       363.955876\n",
       "4               276.728723    3.992908       430.624858\n",
       "5               117.842225    5.793417       642.819342\n",
       "6                40.469773    6.730479       812.174244\n",
       "7                61.555556    6.000000      1704.336667"
      ]
     },
     "execution_count": 105,
     "metadata": {},
     "output_type": "execute_result"
    }
   ],
   "source": [
    "# Calcule a pontuação geral e use mean() para ver os detalhes\n",
    "dados_clientes['PontuacaoGeral'] = dados_clientes['RecenciaCluster'] + dados_clientes['FrequenciaCluster'] + dados_clientes['TotalPedidoCluster']\n",
    "dados_clientes.groupby('PontuacaoGeral')['Recencia', 'Frequencia', 'Total_do_Pedido'].mean()"
   ]
  },
  {
   "cell_type": "markdown",
   "id": "4874acb8",
   "metadata": {},
   "source": [
    "A pontuação acima nos mostra claramente que os clientes com pontuação"
   ]
  },
  {
   "cell_type": "code",
   "execution_count": 106,
   "id": "4a934836",
   "metadata": {},
   "outputs": [],
   "source": [
    "dados_clientes['Segmento'] = 'Baixo-Valor'\n",
    "dados_clientes.loc[dados_clientes['PontuacaoGeral'] > 4, 'Segmento'] = \"Valor-Médio\"\n",
    "dados_clientes.loc[dados_clientes['PontuacaoGeral'] > 6, 'Segmento'] = 'Valor-Alto'"
   ]
  },
  {
   "cell_type": "code",
   "execution_count": 107,
   "id": "4d2e9d2d",
   "metadata": {},
   "outputs": [
    {
     "data": {
      "text/html": [
       "<div>\n",
       "<style scoped>\n",
       "    .dataframe tbody tr th:only-of-type {\n",
       "        vertical-align: middle;\n",
       "    }\n",
       "\n",
       "    .dataframe tbody tr th {\n",
       "        vertical-align: top;\n",
       "    }\n",
       "\n",
       "    .dataframe thead th {\n",
       "        text-align: right;\n",
       "    }\n",
       "</style>\n",
       "<table border=\"1\" class=\"dataframe\">\n",
       "  <thead>\n",
       "    <tr style=\"text-align: right;\">\n",
       "      <th></th>\n",
       "      <th>ID_Cliente</th>\n",
       "      <th>ProximoDiaCompra</th>\n",
       "      <th>Recencia</th>\n",
       "      <th>RecenciaCluster</th>\n",
       "      <th>Frequencia</th>\n",
       "      <th>FrequenciaCluster</th>\n",
       "      <th>Total_do_Pedido</th>\n",
       "      <th>TotalPedidoCluster</th>\n",
       "      <th>PontuacaoGeral</th>\n",
       "      <th>Segmento</th>\n",
       "    </tr>\n",
       "  </thead>\n",
       "  <tbody>\n",
       "    <tr>\n",
       "      <th>0</th>\n",
       "      <td>12429082030</td>\n",
       "      <td>9999.0</td>\n",
       "      <td>490</td>\n",
       "      <td>0</td>\n",
       "      <td>6</td>\n",
       "      <td>2</td>\n",
       "      <td>623.40</td>\n",
       "      <td>0</td>\n",
       "      <td>2</td>\n",
       "      <td>Baixo-Valor</td>\n",
       "    </tr>\n",
       "    <tr>\n",
       "      <th>1</th>\n",
       "      <td>12429451836</td>\n",
       "      <td>9999.0</td>\n",
       "      <td>485</td>\n",
       "      <td>0</td>\n",
       "      <td>5</td>\n",
       "      <td>2</td>\n",
       "      <td>386.14</td>\n",
       "      <td>0</td>\n",
       "      <td>2</td>\n",
       "      <td>Baixo-Valor</td>\n",
       "    </tr>\n",
       "    <tr>\n",
       "      <th>2</th>\n",
       "      <td>12528879531</td>\n",
       "      <td>576.0</td>\n",
       "      <td>507</td>\n",
       "      <td>0</td>\n",
       "      <td>5</td>\n",
       "      <td>2</td>\n",
       "      <td>569.90</td>\n",
       "      <td>0</td>\n",
       "      <td>2</td>\n",
       "      <td>Baixo-Valor</td>\n",
       "    </tr>\n",
       "    <tr>\n",
       "      <th>3</th>\n",
       "      <td>12920724665</td>\n",
       "      <td>564.0</td>\n",
       "      <td>479</td>\n",
       "      <td>0</td>\n",
       "      <td>6</td>\n",
       "      <td>2</td>\n",
       "      <td>638.30</td>\n",
       "      <td>0</td>\n",
       "      <td>2</td>\n",
       "      <td>Baixo-Valor</td>\n",
       "    </tr>\n",
       "    <tr>\n",
       "      <th>4</th>\n",
       "      <td>13148663300</td>\n",
       "      <td>482.0</td>\n",
       "      <td>468</td>\n",
       "      <td>0</td>\n",
       "      <td>6</td>\n",
       "      <td>2</td>\n",
       "      <td>588.83</td>\n",
       "      <td>0</td>\n",
       "      <td>2</td>\n",
       "      <td>Baixo-Valor</td>\n",
       "    </tr>\n",
       "  </tbody>\n",
       "</table>\n",
       "</div>"
      ],
      "text/plain": [
       "    ID_Cliente  ProximoDiaCompra  Recencia  RecenciaCluster  Frequencia  \\\n",
       "0  12429082030            9999.0       490                0           6   \n",
       "1  12429451836            9999.0       485                0           5   \n",
       "2  12528879531             576.0       507                0           5   \n",
       "3  12920724665             564.0       479                0           6   \n",
       "4  13148663300             482.0       468                0           6   \n",
       "\n",
       "   FrequenciaCluster  Total_do_Pedido  TotalPedidoCluster  PontuacaoGeral  \\\n",
       "0                  2           623.40                   0               2   \n",
       "1                  2           386.14                   0               2   \n",
       "2                  2           569.90                   0               2   \n",
       "3                  2           638.30                   0               2   \n",
       "4                  2           588.83                   0               2   \n",
       "\n",
       "      Segmento  \n",
       "0  Baixo-Valor  \n",
       "1  Baixo-Valor  \n",
       "2  Baixo-Valor  \n",
       "3  Baixo-Valor  \n",
       "4  Baixo-Valor  "
      ]
     },
     "execution_count": 107,
     "metadata": {},
     "output_type": "execute_result"
    }
   ],
   "source": [
    "dados_clientes.head()"
   ]
  },
  {
   "cell_type": "markdown",
   "id": "3f69d19a",
   "metadata": {},
   "source": [
    "Agora irei criar uma cópia do dataframe dados_clientes e aplicar o método **get_dummies** a ele para converter todas as colunas categóricas de Segmento em variáveis indicadoras.\n"
   ]
  },
  {
   "cell_type": "code",
   "execution_count": 108,
   "id": "7c4e5cea",
   "metadata": {},
   "outputs": [
    {
     "data": {
      "text/html": [
       "<div>\n",
       "<style scoped>\n",
       "    .dataframe tbody tr th:only-of-type {\n",
       "        vertical-align: middle;\n",
       "    }\n",
       "\n",
       "    .dataframe tbody tr th {\n",
       "        vertical-align: top;\n",
       "    }\n",
       "\n",
       "    .dataframe thead th {\n",
       "        text-align: right;\n",
       "    }\n",
       "</style>\n",
       "<table border=\"1\" class=\"dataframe\">\n",
       "  <thead>\n",
       "    <tr style=\"text-align: right;\">\n",
       "      <th></th>\n",
       "      <th>ID_Cliente</th>\n",
       "      <th>ProximoDiaCompra</th>\n",
       "      <th>Recencia</th>\n",
       "      <th>RecenciaCluster</th>\n",
       "      <th>Frequencia</th>\n",
       "      <th>FrequenciaCluster</th>\n",
       "      <th>Total_do_Pedido</th>\n",
       "      <th>TotalPedidoCluster</th>\n",
       "      <th>PontuacaoGeral</th>\n",
       "      <th>Segmento_Baixo-Valor</th>\n",
       "      <th>Segmento_Valor-Alto</th>\n",
       "      <th>Segmento_Valor-Médio</th>\n",
       "    </tr>\n",
       "  </thead>\n",
       "  <tbody>\n",
       "    <tr>\n",
       "      <th>0</th>\n",
       "      <td>12429082030</td>\n",
       "      <td>9999.0</td>\n",
       "      <td>490</td>\n",
       "      <td>0</td>\n",
       "      <td>6</td>\n",
       "      <td>2</td>\n",
       "      <td>623.40</td>\n",
       "      <td>0</td>\n",
       "      <td>2</td>\n",
       "      <td>1</td>\n",
       "      <td>0</td>\n",
       "      <td>0</td>\n",
       "    </tr>\n",
       "    <tr>\n",
       "      <th>1</th>\n",
       "      <td>12429451836</td>\n",
       "      <td>9999.0</td>\n",
       "      <td>485</td>\n",
       "      <td>0</td>\n",
       "      <td>5</td>\n",
       "      <td>2</td>\n",
       "      <td>386.14</td>\n",
       "      <td>0</td>\n",
       "      <td>2</td>\n",
       "      <td>1</td>\n",
       "      <td>0</td>\n",
       "      <td>0</td>\n",
       "    </tr>\n",
       "    <tr>\n",
       "      <th>2</th>\n",
       "      <td>12528879531</td>\n",
       "      <td>576.0</td>\n",
       "      <td>507</td>\n",
       "      <td>0</td>\n",
       "      <td>5</td>\n",
       "      <td>2</td>\n",
       "      <td>569.90</td>\n",
       "      <td>0</td>\n",
       "      <td>2</td>\n",
       "      <td>1</td>\n",
       "      <td>0</td>\n",
       "      <td>0</td>\n",
       "    </tr>\n",
       "    <tr>\n",
       "      <th>3</th>\n",
       "      <td>12920724665</td>\n",
       "      <td>564.0</td>\n",
       "      <td>479</td>\n",
       "      <td>0</td>\n",
       "      <td>6</td>\n",
       "      <td>2</td>\n",
       "      <td>638.30</td>\n",
       "      <td>0</td>\n",
       "      <td>2</td>\n",
       "      <td>1</td>\n",
       "      <td>0</td>\n",
       "      <td>0</td>\n",
       "    </tr>\n",
       "    <tr>\n",
       "      <th>4</th>\n",
       "      <td>13148663300</td>\n",
       "      <td>482.0</td>\n",
       "      <td>468</td>\n",
       "      <td>0</td>\n",
       "      <td>6</td>\n",
       "      <td>2</td>\n",
       "      <td>588.83</td>\n",
       "      <td>0</td>\n",
       "      <td>2</td>\n",
       "      <td>1</td>\n",
       "      <td>0</td>\n",
       "      <td>0</td>\n",
       "    </tr>\n",
       "  </tbody>\n",
       "</table>\n",
       "</div>"
      ],
      "text/plain": [
       "    ID_Cliente  ProximoDiaCompra  Recencia  RecenciaCluster  Frequencia  \\\n",
       "0  12429082030            9999.0       490                0           6   \n",
       "1  12429451836            9999.0       485                0           5   \n",
       "2  12528879531             576.0       507                0           5   \n",
       "3  12920724665             564.0       479                0           6   \n",
       "4  13148663300             482.0       468                0           6   \n",
       "\n",
       "   FrequenciaCluster  Total_do_Pedido  TotalPedidoCluster  PontuacaoGeral  \\\n",
       "0                  2           623.40                   0               2   \n",
       "1                  2           386.14                   0               2   \n",
       "2                  2           569.90                   0               2   \n",
       "3                  2           638.30                   0               2   \n",
       "4                  2           588.83                   0               2   \n",
       "\n",
       "   Segmento_Baixo-Valor  Segmento_Valor-Alto  Segmento_Valor-Médio  \n",
       "0                     1                    0                     0  \n",
       "1                     1                    0                     0  \n",
       "2                     1                    0                     0  \n",
       "3                     1                    0                     0  \n",
       "4                     1                    0                     0  "
      ]
     },
     "execution_count": 108,
     "metadata": {},
     "output_type": "execute_result"
    }
   ],
   "source": [
    "# Cria dados_clientes_class como uma cópia de dados_clientes antes de aplicar get_dummies\n",
    "dados_clientes_class = dados_clientes.copy()\n",
    "dados_clientes_class = pd.get_dummies(dados_clientes_class)\n",
    "dados_clientes_class.head()"
   ]
  },
  {
   "cell_type": "markdown",
   "id": "c6b1f999",
   "metadata": {},
   "source": [
    "Como nosso objetivo é estimar se um cliente fará uma compra nas próximas duas semanas, criaremos uma nova coluna NextPurchaseDayRange com valores como 1 ou 0 definidos da seguinte forma:\n",
    "    \n",
    "   * Se o valor for 1, então indica que o cliente vai comprar algo nas próximas 2 semanas, ou seja, 14 dias a partir da última compra.   \n",
    "   \n",
    "   * O valor 0 indica que o cliente comprará algo em mais de 14 dias a partir de sua última compra.\n"
   ]
  },
  {
   "cell_type": "code",
   "execution_count": 126,
   "id": "9a53ae61",
   "metadata": {
    "scrolled": true
   },
   "outputs": [
    {
     "data": {
      "text/html": [
       "<div>\n",
       "<style scoped>\n",
       "    .dataframe tbody tr th:only-of-type {\n",
       "        vertical-align: middle;\n",
       "    }\n",
       "\n",
       "    .dataframe tbody tr th {\n",
       "        vertical-align: top;\n",
       "    }\n",
       "\n",
       "    .dataframe thead th {\n",
       "        text-align: right;\n",
       "    }\n",
       "</style>\n",
       "<table border=\"1\" class=\"dataframe\">\n",
       "  <thead>\n",
       "    <tr style=\"text-align: right;\">\n",
       "      <th></th>\n",
       "      <th>ID_Cliente</th>\n",
       "      <th>ProximoDiaCompra</th>\n",
       "      <th>Recencia</th>\n",
       "      <th>RecenciaCluster</th>\n",
       "      <th>Frequencia</th>\n",
       "      <th>FrequenciaCluster</th>\n",
       "      <th>Total_do_Pedido</th>\n",
       "      <th>TotalPedidoCluster</th>\n",
       "      <th>PontuacaoGeral</th>\n",
       "      <th>Segmento_Baixo-Valor</th>\n",
       "      <th>Segmento_Valor-Alto</th>\n",
       "      <th>Segmento_Valor-Médio</th>\n",
       "      <th>NextPurchaseDayRange</th>\n",
       "    </tr>\n",
       "  </thead>\n",
       "  <tbody>\n",
       "    <tr>\n",
       "      <th>0</th>\n",
       "      <td>12429082030</td>\n",
       "      <td>9999.0</td>\n",
       "      <td>490</td>\n",
       "      <td>0</td>\n",
       "      <td>6</td>\n",
       "      <td>2</td>\n",
       "      <td>623.40</td>\n",
       "      <td>0</td>\n",
       "      <td>2</td>\n",
       "      <td>1</td>\n",
       "      <td>0</td>\n",
       "      <td>0</td>\n",
       "      <td>0</td>\n",
       "    </tr>\n",
       "    <tr>\n",
       "      <th>1</th>\n",
       "      <td>12429451836</td>\n",
       "      <td>9999.0</td>\n",
       "      <td>485</td>\n",
       "      <td>0</td>\n",
       "      <td>5</td>\n",
       "      <td>2</td>\n",
       "      <td>386.14</td>\n",
       "      <td>0</td>\n",
       "      <td>2</td>\n",
       "      <td>1</td>\n",
       "      <td>0</td>\n",
       "      <td>0</td>\n",
       "      <td>0</td>\n",
       "    </tr>\n",
       "    <tr>\n",
       "      <th>2</th>\n",
       "      <td>12528879531</td>\n",
       "      <td>576.0</td>\n",
       "      <td>507</td>\n",
       "      <td>0</td>\n",
       "      <td>5</td>\n",
       "      <td>2</td>\n",
       "      <td>569.90</td>\n",
       "      <td>0</td>\n",
       "      <td>2</td>\n",
       "      <td>1</td>\n",
       "      <td>0</td>\n",
       "      <td>0</td>\n",
       "      <td>0</td>\n",
       "    </tr>\n",
       "    <tr>\n",
       "      <th>3</th>\n",
       "      <td>12920724665</td>\n",
       "      <td>564.0</td>\n",
       "      <td>479</td>\n",
       "      <td>0</td>\n",
       "      <td>6</td>\n",
       "      <td>2</td>\n",
       "      <td>638.30</td>\n",
       "      <td>0</td>\n",
       "      <td>2</td>\n",
       "      <td>1</td>\n",
       "      <td>0</td>\n",
       "      <td>0</td>\n",
       "      <td>0</td>\n",
       "    </tr>\n",
       "    <tr>\n",
       "      <th>4</th>\n",
       "      <td>13148663300</td>\n",
       "      <td>482.0</td>\n",
       "      <td>468</td>\n",
       "      <td>0</td>\n",
       "      <td>6</td>\n",
       "      <td>2</td>\n",
       "      <td>588.83</td>\n",
       "      <td>0</td>\n",
       "      <td>2</td>\n",
       "      <td>1</td>\n",
       "      <td>0</td>\n",
       "      <td>0</td>\n",
       "      <td>0</td>\n",
       "    </tr>\n",
       "  </tbody>\n",
       "</table>\n",
       "</div>"
      ],
      "text/plain": [
       "    ID_Cliente  ProximoDiaCompra  Recencia  RecenciaCluster  Frequencia  \\\n",
       "0  12429082030            9999.0       490                0           6   \n",
       "1  12429451836            9999.0       485                0           5   \n",
       "2  12528879531             576.0       507                0           5   \n",
       "3  12920724665             564.0       479                0           6   \n",
       "4  13148663300             482.0       468                0           6   \n",
       "\n",
       "   FrequenciaCluster  Total_do_Pedido  TotalPedidoCluster  PontuacaoGeral  \\\n",
       "0                  2           623.40                   0               2   \n",
       "1                  2           386.14                   0               2   \n",
       "2                  2           569.90                   0               2   \n",
       "3                  2           638.30                   0               2   \n",
       "4                  2           588.83                   0               2   \n",
       "\n",
       "   Segmento_Baixo-Valor  Segmento_Valor-Alto  Segmento_Valor-Médio  \\\n",
       "0                     1                    0                     0   \n",
       "1                     1                    0                     0   \n",
       "2                     1                    0                     0   \n",
       "3                     1                    0                     0   \n",
       "4                     1                    0                     0   \n",
       "\n",
       "   NextPurchaseDayRange  \n",
       "0                     0  \n",
       "1                     0  \n",
       "2                     0  \n",
       "3                     0  \n",
       "4                     0  "
      ]
     },
     "execution_count": 126,
     "metadata": {},
     "output_type": "execute_result"
    }
   ],
   "source": [
    "dados_clientes_class['NextPurchaseDayRange'] = 1 # Menos de 14 dias\n",
    "dados_clientes_class.loc[dados_clientes_class.ProximoDiaCompra > 14, 'NextPurchaseDayRange'] = 0 # maior de 14 dias\n",
    "dados_clientes_class.head()"
   ]
  },
  {
   "cell_type": "markdown",
   "id": "0232eb35",
   "metadata": {},
   "source": [
    "Finalmente nesta seção, vamos ver a correlação entre nossos recursos e rótulo. Podemos conseguir isso aplicando o método corr ao dataframe dados_clientes_class."
   ]
  },
  {
   "cell_type": "code",
   "execution_count": 135,
   "id": "3f923c89",
   "metadata": {},
   "outputs": [
    {
     "data": {
      "text/html": [
       "<div>\n",
       "<style scoped>\n",
       "    .dataframe tbody tr th:only-of-type {\n",
       "        vertical-align: middle;\n",
       "    }\n",
       "\n",
       "    .dataframe tbody tr th {\n",
       "        vertical-align: top;\n",
       "    }\n",
       "\n",
       "    .dataframe thead th {\n",
       "        text-align: right;\n",
       "    }\n",
       "</style>\n",
       "<table border=\"1\" class=\"dataframe\">\n",
       "  <thead>\n",
       "    <tr style=\"text-align: right;\">\n",
       "      <th></th>\n",
       "      <th>MinCorrelationCoeff</th>\n",
       "      <th>MaxCorrelationCoeff</th>\n",
       "    </tr>\n",
       "  </thead>\n",
       "  <tbody>\n",
       "    <tr>\n",
       "      <th>ID_Cliente</th>\n",
       "      <td>-0.706256</td>\n",
       "      <td>0.551922</td>\n",
       "    </tr>\n",
       "    <tr>\n",
       "      <th>ProximoDiaCompra</th>\n",
       "      <td>-0.503995</td>\n",
       "      <td>0.531723</td>\n",
       "    </tr>\n",
       "    <tr>\n",
       "      <th>Recencia</th>\n",
       "      <td>-0.930607</td>\n",
       "      <td>0.769024</td>\n",
       "    </tr>\n",
       "    <tr>\n",
       "      <th>RecenciaCluster</th>\n",
       "      <td>-0.930607</td>\n",
       "      <td>0.916696</td>\n",
       "    </tr>\n",
       "    <tr>\n",
       "      <th>Frequencia</th>\n",
       "      <td>-0.903294</td>\n",
       "      <td>0.937441</td>\n",
       "    </tr>\n",
       "    <tr>\n",
       "      <th>FrequenciaCluster</th>\n",
       "      <td>-0.903294</td>\n",
       "      <td>0.531723</td>\n",
       "    </tr>\n",
       "    <tr>\n",
       "      <th>Total_do_Pedido</th>\n",
       "      <td>-0.838168</td>\n",
       "      <td>0.937441</td>\n",
       "    </tr>\n",
       "    <tr>\n",
       "      <th>TotalPedidoCluster</th>\n",
       "      <td>-0.855183</td>\n",
       "      <td>0.892710</td>\n",
       "    </tr>\n",
       "    <tr>\n",
       "      <th>PontuacaoGeral</th>\n",
       "      <td>-0.853556</td>\n",
       "      <td>0.916696</td>\n",
       "    </tr>\n",
       "    <tr>\n",
       "      <th>Segmento_Baixo-Valor</th>\n",
       "      <td>-0.991501</td>\n",
       "      <td>0.769024</td>\n",
       "    </tr>\n",
       "    <tr>\n",
       "      <th>Segmento_Valor-Alto</th>\n",
       "      <td>-0.089420</td>\n",
       "      <td>0.131879</td>\n",
       "    </tr>\n",
       "    <tr>\n",
       "      <th>Segmento_Valor-Médio</th>\n",
       "      <td>-0.991501</td>\n",
       "      <td>0.833677</td>\n",
       "    </tr>\n",
       "    <tr>\n",
       "      <th>NextPurchaseDayRange</th>\n",
       "      <td>-0.141653</td>\n",
       "      <td>0.231941</td>\n",
       "    </tr>\n",
       "  </tbody>\n",
       "</table>\n",
       "</div>"
      ],
      "text/plain": [
       "                      MinCorrelationCoeff  MaxCorrelationCoeff\n",
       "ID_Cliente                      -0.706256             0.551922\n",
       "ProximoDiaCompra                -0.503995             0.531723\n",
       "Recencia                        -0.930607             0.769024\n",
       "RecenciaCluster                 -0.930607             0.916696\n",
       "Frequencia                      -0.903294             0.937441\n",
       "FrequenciaCluster               -0.903294             0.531723\n",
       "Total_do_Pedido                 -0.838168             0.937441\n",
       "TotalPedidoCluster              -0.855183             0.892710\n",
       "PontuacaoGeral                  -0.853556             0.916696\n",
       "Segmento_Baixo-Valor            -0.991501             0.769024\n",
       "Segmento_Valor-Alto             -0.089420             0.131879\n",
       "Segmento_Valor-Médio            -0.991501             0.833677\n",
       "NextPurchaseDayRange            -0.141653             0.231941"
      ]
     },
     "execution_count": 135,
     "metadata": {},
     "output_type": "execute_result"
    }
   ],
   "source": [
    "corr_matriz = dados_clientes_class[dados_clientes_class.columns].corr()\n",
    "corr_df = pd.DataFrame(corr_matriz.min())\n",
    "corr_df.columns = ['MinCorrelationCoeff']\n",
    "corr_df['MaxCorrelationCoeff'] = corr_matriz[corr_matriz < 1].max()\n",
    "corr_df"
   ]
  },
  {
   "cell_type": "markdown",
   "id": "ba4732f7",
   "metadata": {},
   "source": [
    "Na saída acima, observamos que a Total_do_Pedido e Frequencia tem a maior correlação positiva de 0,94, e com Segmento_Baixo-Valor e Segmento_Valor-Médio tem a maior correlação negativa de -0,99.\n",
    "\n",
    "Podemos obter uma boa visualização da matriz de coeficientes abaixo."
   ]
  },
  {
   "cell_type": "code",
   "execution_count": 136,
   "id": "e63a7917",
   "metadata": {
    "collapsed": true
   },
   "outputs": [
    {
     "data": {
      "image/png": "[encoded data removed]",
      "text/plain": [
       "<Figure size 4000x3000 with 2 Axes>"
      ]
     },
     "metadata": {},
     "output_type": "display_data"
    }
   ],
   "source": [
    "plt.figure(figsize = (40, 30))\n",
    "sns.heatmap(corr_matriz, annot = True, linewidths=0.2, fmt=\".2f\");"
   ]
  },
  {
   "cell_type": "markdown",
   "id": "81c06bcd",
   "metadata": {},
   "source": [
    "### Construindo modelo de aprendizado de máquina"
   ]
  },
  {
   "cell_type": "code",
   "execution_count": 137,
   "id": "12bdb075",
   "metadata": {},
   "outputs": [
    {
     "data": {
      "text/html": [
       "<div>\n",
       "<style scoped>\n",
       "    .dataframe tbody tr th:only-of-type {\n",
       "        vertical-align: middle;\n",
       "    }\n",
       "\n",
       "    .dataframe tbody tr th {\n",
       "        vertical-align: top;\n",
       "    }\n",
       "\n",
       "    .dataframe thead th {\n",
       "        text-align: right;\n",
       "    }\n",
       "</style>\n",
       "<table border=\"1\" class=\"dataframe\">\n",
       "  <thead>\n",
       "    <tr style=\"text-align: right;\">\n",
       "      <th></th>\n",
       "      <th>ID_Cliente</th>\n",
       "      <th>Recencia</th>\n",
       "      <th>RecenciaCluster</th>\n",
       "      <th>Frequencia</th>\n",
       "      <th>FrequenciaCluster</th>\n",
       "      <th>Total_do_Pedido</th>\n",
       "      <th>TotalPedidoCluster</th>\n",
       "      <th>PontuacaoGeral</th>\n",
       "      <th>Segmento_Baixo-Valor</th>\n",
       "      <th>Segmento_Valor-Alto</th>\n",
       "      <th>Segmento_Valor-Médio</th>\n",
       "      <th>NextPurchaseDayRange</th>\n",
       "    </tr>\n",
       "  </thead>\n",
       "  <tbody>\n",
       "    <tr>\n",
       "      <th>0</th>\n",
       "      <td>12429082030</td>\n",
       "      <td>490</td>\n",
       "      <td>0</td>\n",
       "      <td>6</td>\n",
       "      <td>2</td>\n",
       "      <td>623.40</td>\n",
       "      <td>0</td>\n",
       "      <td>2</td>\n",
       "      <td>1</td>\n",
       "      <td>0</td>\n",
       "      <td>0</td>\n",
       "      <td>0</td>\n",
       "    </tr>\n",
       "    <tr>\n",
       "      <th>1</th>\n",
       "      <td>12429451836</td>\n",
       "      <td>485</td>\n",
       "      <td>0</td>\n",
       "      <td>5</td>\n",
       "      <td>2</td>\n",
       "      <td>386.14</td>\n",
       "      <td>0</td>\n",
       "      <td>2</td>\n",
       "      <td>1</td>\n",
       "      <td>0</td>\n",
       "      <td>0</td>\n",
       "      <td>0</td>\n",
       "    </tr>\n",
       "    <tr>\n",
       "      <th>2</th>\n",
       "      <td>12528879531</td>\n",
       "      <td>507</td>\n",
       "      <td>0</td>\n",
       "      <td>5</td>\n",
       "      <td>2</td>\n",
       "      <td>569.90</td>\n",
       "      <td>0</td>\n",
       "      <td>2</td>\n",
       "      <td>1</td>\n",
       "      <td>0</td>\n",
       "      <td>0</td>\n",
       "      <td>0</td>\n",
       "    </tr>\n",
       "    <tr>\n",
       "      <th>3</th>\n",
       "      <td>12920724665</td>\n",
       "      <td>479</td>\n",
       "      <td>0</td>\n",
       "      <td>6</td>\n",
       "      <td>2</td>\n",
       "      <td>638.30</td>\n",
       "      <td>0</td>\n",
       "      <td>2</td>\n",
       "      <td>1</td>\n",
       "      <td>0</td>\n",
       "      <td>0</td>\n",
       "      <td>0</td>\n",
       "    </tr>\n",
       "    <tr>\n",
       "      <th>4</th>\n",
       "      <td>13148663300</td>\n",
       "      <td>468</td>\n",
       "      <td>0</td>\n",
       "      <td>6</td>\n",
       "      <td>2</td>\n",
       "      <td>588.83</td>\n",
       "      <td>0</td>\n",
       "      <td>2</td>\n",
       "      <td>1</td>\n",
       "      <td>0</td>\n",
       "      <td>0</td>\n",
       "      <td>0</td>\n",
       "    </tr>\n",
       "    <tr>\n",
       "      <th>...</th>\n",
       "      <td>...</td>\n",
       "      <td>...</td>\n",
       "      <td>...</td>\n",
       "      <td>...</td>\n",
       "      <td>...</td>\n",
       "      <td>...</td>\n",
       "      <td>...</td>\n",
       "      <td>...</td>\n",
       "      <td>...</td>\n",
       "      <td>...</td>\n",
       "      <td>...</td>\n",
       "      <td>...</td>\n",
       "    </tr>\n",
       "    <tr>\n",
       "      <th>2443</th>\n",
       "      <td>15662353010</td>\n",
       "      <td>1</td>\n",
       "      <td>3</td>\n",
       "      <td>41</td>\n",
       "      <td>0</td>\n",
       "      <td>4559.20</td>\n",
       "      <td>3</td>\n",
       "      <td>6</td>\n",
       "      <td>0</td>\n",
       "      <td>0</td>\n",
       "      <td>1</td>\n",
       "      <td>0</td>\n",
       "    </tr>\n",
       "    <tr>\n",
       "      <th>2444</th>\n",
       "      <td>15692298038</td>\n",
       "      <td>1</td>\n",
       "      <td>3</td>\n",
       "      <td>35</td>\n",
       "      <td>0</td>\n",
       "      <td>5370.00</td>\n",
       "      <td>3</td>\n",
       "      <td>6</td>\n",
       "      <td>0</td>\n",
       "      <td>0</td>\n",
       "      <td>1</td>\n",
       "      <td>0</td>\n",
       "    </tr>\n",
       "    <tr>\n",
       "      <th>2445</th>\n",
       "      <td>15758948769</td>\n",
       "      <td>0</td>\n",
       "      <td>3</td>\n",
       "      <td>29</td>\n",
       "      <td>0</td>\n",
       "      <td>4124.00</td>\n",
       "      <td>3</td>\n",
       "      <td>6</td>\n",
       "      <td>0</td>\n",
       "      <td>0</td>\n",
       "      <td>1</td>\n",
       "      <td>1</td>\n",
       "    </tr>\n",
       "    <tr>\n",
       "      <th>2446</th>\n",
       "      <td>15762013256</td>\n",
       "      <td>11</td>\n",
       "      <td>3</td>\n",
       "      <td>27</td>\n",
       "      <td>0</td>\n",
       "      <td>4230.41</td>\n",
       "      <td>3</td>\n",
       "      <td>6</td>\n",
       "      <td>0</td>\n",
       "      <td>0</td>\n",
       "      <td>1</td>\n",
       "      <td>0</td>\n",
       "    </tr>\n",
       "    <tr>\n",
       "      <th>2447</th>\n",
       "      <td>15788478852</td>\n",
       "      <td>25</td>\n",
       "      <td>3</td>\n",
       "      <td>33</td>\n",
       "      <td>0</td>\n",
       "      <td>4763.99</td>\n",
       "      <td>3</td>\n",
       "      <td>6</td>\n",
       "      <td>0</td>\n",
       "      <td>0</td>\n",
       "      <td>1</td>\n",
       "      <td>0</td>\n",
       "    </tr>\n",
       "  </tbody>\n",
       "</table>\n",
       "<p>2448 rows × 12 columns</p>\n",
       "</div>"
      ],
      "text/plain": [
       "       ID_Cliente  Recencia  RecenciaCluster  Frequencia  FrequenciaCluster  \\\n",
       "0     12429082030       490                0           6                  2   \n",
       "1     12429451836       485                0           5                  2   \n",
       "2     12528879531       507                0           5                  2   \n",
       "3     12920724665       479                0           6                  2   \n",
       "4     13148663300       468                0           6                  2   \n",
       "...           ...       ...              ...         ...                ...   \n",
       "2443  15662353010         1                3          41                  0   \n",
       "2444  15692298038         1                3          35                  0   \n",
       "2445  15758948769         0                3          29                  0   \n",
       "2446  15762013256        11                3          27                  0   \n",
       "2447  15788478852        25                3          33                  0   \n",
       "\n",
       "      Total_do_Pedido  TotalPedidoCluster  PontuacaoGeral  \\\n",
       "0              623.40                   0               2   \n",
       "1              386.14                   0               2   \n",
       "2              569.90                   0               2   \n",
       "3              638.30                   0               2   \n",
       "4              588.83                   0               2   \n",
       "...               ...                 ...             ...   \n",
       "2443          4559.20                   3               6   \n",
       "2444          5370.00                   3               6   \n",
       "2445          4124.00                   3               6   \n",
       "2446          4230.41                   3               6   \n",
       "2447          4763.99                   3               6   \n",
       "\n",
       "      Segmento_Baixo-Valor  Segmento_Valor-Alto  Segmento_Valor-Médio  \\\n",
       "0                        1                    0                     0   \n",
       "1                        1                    0                     0   \n",
       "2                        1                    0                     0   \n",
       "3                        1                    0                     0   \n",
       "4                        1                    0                     0   \n",
       "...                    ...                  ...                   ...   \n",
       "2443                     0                    0                     1   \n",
       "2444                     0                    0                     1   \n",
       "2445                     0                    0                     1   \n",
       "2446                     0                    0                     1   \n",
       "2447                     0                    0                     1   \n",
       "\n",
       "      NextPurchaseDayRange  \n",
       "0                        0  \n",
       "1                        0  \n",
       "2                        0  \n",
       "3                        0  \n",
       "4                        0  \n",
       "...                    ...  \n",
       "2443                     0  \n",
       "2444                     0  \n",
       "2445                     1  \n",
       "2446                     0  \n",
       "2447                     0  \n",
       "\n",
       "[2448 rows x 12 columns]"
      ]
     },
     "execution_count": 137,
     "metadata": {},
     "output_type": "execute_result"
    }
   ],
   "source": [
    "dados_clientes_class = dados_clientes_class.drop('ProximoDiaCompra', axis=1)\n",
    "dados_clientes_class"
   ]
  },
  {
   "cell_type": "code",
   "execution_count": null,
   "id": "dbd17c96",
   "metadata": {},
   "outputs": [],
   "source": []
  }
 ],
 "metadata": {
  "kernelspec": {
   "display_name": "Python 3 (ipykernel)",
   "language": "python",
   "name": "python3"
  },
  "language_info": {
   "codemirror_mode": {
    "name": "ipython",
    "version": 3
   },
   "file_extension": ".py",
   "mimetype": "text/x-python",
   "name": "python",
   "nbconvert_exporter": "python",
   "pygments_lexer": "ipython3",
   "version": "3.9.16"
  }
 },
 "nbformat": 4,
 "nbformat_minor": 5
}
