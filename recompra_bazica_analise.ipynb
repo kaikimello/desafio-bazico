{
 "cells": [
  {
   "cell_type": "markdown",
   "id": "543d124c",
   "metadata": {},
   "source": [
    "# Recompra Bázica"
   ]
  },
  {
   "cell_type": "code",
   "execution_count": 227,
   "id": "f039df9f",
   "metadata": {},
   "outputs": [],
   "source": [
    "import pandas as pd \n",
    "import numpy as np\n",
    "import matplotlib.pyplot as plt \n",
    "import seaborn as sns \n",
    "import plotly.express as px\n",
    "\n",
    "\n",
    "# Evitar exibir Warnings\n",
    "# import warnings\n",
    "# warnings.filterwarnings(\"ignore\")\n"
   ]
  },
  {
   "cell_type": "markdown",
   "id": "d0b837cb",
   "metadata": {},
   "source": [
    "## Base de dados"
   ]
  },
  {
   "cell_type": "code",
   "execution_count": 228,
   "id": "835b4128",
   "metadata": {},
   "outputs": [],
   "source": [
    "base_compras = pd.read_csv('data-set/vendas_de_produtos.csv', dtype={'ID_Cliente': 'Int64', 'ID_Produto': 'Int64'}, parse_dates=[\"Data\"])"
   ]
  },
  {
   "cell_type": "code",
   "execution_count": 229,
   "id": "d1757ddb",
   "metadata": {},
   "outputs": [],
   "source": [
    "base_clientes = pd.read_csv('data-set/clientes.csv', dtype={'ID_Cliente': 'Int64'})"
   ]
  },
  {
   "cell_type": "markdown",
   "id": "53509c7c",
   "metadata": {},
   "source": [
    "### Exploração dos dados "
   ]
  },
  {
   "cell_type": "code",
   "execution_count": 230,
   "id": "55a9cc0c",
   "metadata": {},
   "outputs": [
    {
     "data": {
      "text/html": [
       "<div>\n",
       "<style scoped>\n",
       "    .dataframe tbody tr th:only-of-type {\n",
       "        vertical-align: middle;\n",
       "    }\n",
       "\n",
       "    .dataframe tbody tr th {\n",
       "        vertical-align: top;\n",
       "    }\n",
       "\n",
       "    .dataframe thead th {\n",
       "        text-align: right;\n",
       "    }\n",
       "</style>\n",
       "<table border=\"1\" class=\"dataframe\">\n",
       "  <thead>\n",
       "    <tr style=\"text-align: right;\">\n",
       "      <th></th>\n",
       "      <th>ID_Cliente</th>\n",
       "      <th>Data</th>\n",
       "      <th>ID_Produto</th>\n",
       "      <th>Descrição_Produto</th>\n",
       "      <th>Quantidade</th>\n",
       "      <th>Preço_Unitário</th>\n",
       "      <th>ID_Pedido</th>\n",
       "      <th>Desconto</th>\n",
       "      <th>Frete</th>\n",
       "      <th>Total_do_Pedido</th>\n",
       "    </tr>\n",
       "  </thead>\n",
       "  <tbody>\n",
       "    <tr>\n",
       "      <th>0</th>\n",
       "      <td>12429082030</td>\n",
       "      <td>2021-05-27</td>\n",
       "      <td>14</td>\n",
       "      <td>Bázica Gola C - Air - Azul Marinho - M</td>\n",
       "      <td>1</td>\n",
       "      <td>109.0</td>\n",
       "      <td>1000000401</td>\n",
       "      <td>0.0</td>\n",
       "      <td>4.90</td>\n",
       "      <td>113.90</td>\n",
       "    </tr>\n",
       "    <tr>\n",
       "      <th>1</th>\n",
       "      <td>12793619292</td>\n",
       "      <td>2021-05-27</td>\n",
       "      <td>&lt;NA&gt;</td>\n",
       "      <td>Bázica Gola C - Powerful - Preto - P</td>\n",
       "      <td>1</td>\n",
       "      <td>109.0</td>\n",
       "      <td>1000000400</td>\n",
       "      <td>0.0</td>\n",
       "      <td>4.90</td>\n",
       "      <td>113.90</td>\n",
       "    </tr>\n",
       "    <tr>\n",
       "      <th>2</th>\n",
       "      <td>1</td>\n",
       "      <td>2021-05-27</td>\n",
       "      <td>&lt;NA&gt;</td>\n",
       "      <td>Bázica Gola C - Powerful - Preto - M</td>\n",
       "      <td>1</td>\n",
       "      <td>109.0</td>\n",
       "      <td>1000000399</td>\n",
       "      <td>0.0</td>\n",
       "      <td>4.90</td>\n",
       "      <td>113.90</td>\n",
       "    </tr>\n",
       "    <tr>\n",
       "      <th>3</th>\n",
       "      <td>2</td>\n",
       "      <td>2021-05-26</td>\n",
       "      <td>&lt;NA&gt;</td>\n",
       "      <td>Bázica Gola C - Powerful - Preto - M</td>\n",
       "      <td>2</td>\n",
       "      <td>109.0</td>\n",
       "      <td>1000000398</td>\n",
       "      <td>0.0</td>\n",
       "      <td>4.90</td>\n",
       "      <td>301.90</td>\n",
       "    </tr>\n",
       "    <tr>\n",
       "      <th>4</th>\n",
       "      <td>2</td>\n",
       "      <td>2021-05-26</td>\n",
       "      <td>&lt;NA&gt;</td>\n",
       "      <td>Bázica Gola C - Powerful - Branco - M</td>\n",
       "      <td>1</td>\n",
       "      <td>109.0</td>\n",
       "      <td>1000000398</td>\n",
       "      <td>0.0</td>\n",
       "      <td>4.90</td>\n",
       "      <td>301.90</td>\n",
       "    </tr>\n",
       "    <tr>\n",
       "      <th>...</th>\n",
       "      <td>...</td>\n",
       "      <td>...</td>\n",
       "      <td>...</td>\n",
       "      <td>...</td>\n",
       "      <td>...</td>\n",
       "      <td>...</td>\n",
       "      <td>...</td>\n",
       "      <td>...</td>\n",
       "      <td>...</td>\n",
       "      <td>...</td>\n",
       "    </tr>\n",
       "    <tr>\n",
       "      <th>17023</th>\n",
       "      <td>15990665892</td>\n",
       "      <td>2022-12-31</td>\n",
       "      <td>2</td>\n",
       "      <td>Bázica Gola C - Preta - Powerful - M</td>\n",
       "      <td>1</td>\n",
       "      <td>119.0</td>\n",
       "      <td>9017</td>\n",
       "      <td>0.0</td>\n",
       "      <td>21.19</td>\n",
       "      <td>140.19</td>\n",
       "    </tr>\n",
       "    <tr>\n",
       "      <th>17024</th>\n",
       "      <td>15896646324</td>\n",
       "      <td>2022-12-31</td>\n",
       "      <td>192</td>\n",
       "      <td>Bázica Vibe - Azul Cobalto - Viscose - M</td>\n",
       "      <td>1</td>\n",
       "      <td>223.0</td>\n",
       "      <td>9018</td>\n",
       "      <td>0.0</td>\n",
       "      <td>0.00</td>\n",
       "      <td>223.00</td>\n",
       "    </tr>\n",
       "    <tr>\n",
       "      <th>17025</th>\n",
       "      <td>12268398905</td>\n",
       "      <td>2022-12-31</td>\n",
       "      <td>211</td>\n",
       "      <td>Bázica Lord - Branca - Pima - GG</td>\n",
       "      <td>1</td>\n",
       "      <td>247.0</td>\n",
       "      <td>9019</td>\n",
       "      <td>0.0</td>\n",
       "      <td>0.00</td>\n",
       "      <td>247.00</td>\n",
       "    </tr>\n",
       "    <tr>\n",
       "      <th>17026</th>\n",
       "      <td>15990672946</td>\n",
       "      <td>2022-12-31</td>\n",
       "      <td>461</td>\n",
       "      <td>Bázica Long - Ocean - Air - G</td>\n",
       "      <td>1</td>\n",
       "      <td>119.0</td>\n",
       "      <td>9020</td>\n",
       "      <td>23.8</td>\n",
       "      <td>0.00</td>\n",
       "      <td>214.20</td>\n",
       "    </tr>\n",
       "    <tr>\n",
       "      <th>17027</th>\n",
       "      <td>15990672946</td>\n",
       "      <td>2022-12-31</td>\n",
       "      <td>454</td>\n",
       "      <td>Bázica Long - Berry - Powerful - G</td>\n",
       "      <td>1</td>\n",
       "      <td>119.0</td>\n",
       "      <td>9020</td>\n",
       "      <td>23.8</td>\n",
       "      <td>0.00</td>\n",
       "      <td>214.20</td>\n",
       "    </tr>\n",
       "  </tbody>\n",
       "</table>\n",
       "<p>17028 rows × 10 columns</p>\n",
       "</div>"
      ],
      "text/plain": [
       "        ID_Cliente       Data  ID_Produto  \\\n",
       "0      12429082030 2021-05-27          14   \n",
       "1      12793619292 2021-05-27        <NA>   \n",
       "2                1 2021-05-27        <NA>   \n",
       "3                2 2021-05-26        <NA>   \n",
       "4                2 2021-05-26        <NA>   \n",
       "...            ...        ...         ...   \n",
       "17023  15990665892 2022-12-31           2   \n",
       "17024  15896646324 2022-12-31         192   \n",
       "17025  12268398905 2022-12-31         211   \n",
       "17026  15990672946 2022-12-31         461   \n",
       "17027  15990672946 2022-12-31         454   \n",
       "\n",
       "                              Descrição_Produto  Quantidade  Preço_Unitário  \\\n",
       "0        Bázica Gola C - Air - Azul Marinho - M           1           109.0   \n",
       "1          Bázica Gola C - Powerful - Preto - P           1           109.0   \n",
       "2          Bázica Gola C - Powerful - Preto - M           1           109.0   \n",
       "3          Bázica Gola C - Powerful - Preto - M           2           109.0   \n",
       "4         Bázica Gola C - Powerful - Branco - M           1           109.0   \n",
       "...                                         ...         ...             ...   \n",
       "17023      Bázica Gola C - Preta - Powerful - M           1           119.0   \n",
       "17024  Bázica Vibe - Azul Cobalto - Viscose - M           1           223.0   \n",
       "17025          Bázica Lord - Branca - Pima - GG           1           247.0   \n",
       "17026             Bázica Long - Ocean - Air - G           1           119.0   \n",
       "17027        Bázica Long - Berry - Powerful - G           1           119.0   \n",
       "\n",
       "        ID_Pedido  Desconto  Frete  Total_do_Pedido  \n",
       "0      1000000401       0.0   4.90           113.90  \n",
       "1      1000000400       0.0   4.90           113.90  \n",
       "2      1000000399       0.0   4.90           113.90  \n",
       "3      1000000398       0.0   4.90           301.90  \n",
       "4      1000000398       0.0   4.90           301.90  \n",
       "...           ...       ...    ...              ...  \n",
       "17023        9017       0.0  21.19           140.19  \n",
       "17024        9018       0.0   0.00           223.00  \n",
       "17025        9019       0.0   0.00           247.00  \n",
       "17026        9020      23.8   0.00           214.20  \n",
       "17027        9020      23.8   0.00           214.20  \n",
       "\n",
       "[17028 rows x 10 columns]"
      ]
     },
     "execution_count": 230,
     "metadata": {},
     "output_type": "execute_result"
    }
   ],
   "source": [
    "base_compras"
   ]
  },
  {
   "cell_type": "markdown",
   "id": "2abebee5",
   "metadata": {},
   "source": [
    "**Verificando Informações da Base de Dados**"
   ]
  },
  {
   "cell_type": "code",
   "execution_count": 231,
   "id": "3bd97ea3",
   "metadata": {},
   "outputs": [
    {
     "name": "stdout",
     "output_type": "stream",
     "text": [
      "<class 'pandas.core.frame.DataFrame'>\n",
      "RangeIndex: 17028 entries, 0 to 17027\n",
      "Data columns (total 10 columns):\n",
      " #   Column             Non-Null Count  Dtype         \n",
      "---  ------             --------------  -----         \n",
      " 0   ID_Cliente         17026 non-null  Int64         \n",
      " 1   Data               17028 non-null  datetime64[ns]\n",
      " 2   ID_Produto         16625 non-null  Int64         \n",
      " 3   Descrição_Produto  17028 non-null  object        \n",
      " 4   Quantidade         17028 non-null  int64         \n",
      " 5   Preço_Unitário     16804 non-null  float64       \n",
      " 6   ID_Pedido          17028 non-null  int64         \n",
      " 7   Desconto           16984 non-null  float64       \n",
      " 8   Frete              17028 non-null  float64       \n",
      " 9   Total_do_Pedido    17028 non-null  float64       \n",
      "dtypes: Int64(2), datetime64[ns](1), float64(4), int64(2), object(1)\n",
      "memory usage: 1.3+ MB\n"
     ]
    }
   ],
   "source": [
    "base_compras.info()"
   ]
  },
  {
   "cell_type": "markdown",
   "id": "fd250f1b",
   "metadata": {},
   "source": [
    "**Verificando a soma de dados ausentes em cada coluna**"
   ]
  },
  {
   "cell_type": "code",
   "execution_count": 232,
   "id": "2dc5aa49",
   "metadata": {},
   "outputs": [
    {
     "data": {
      "text/plain": [
       "ID_Cliente             2\n",
       "Data                   0\n",
       "ID_Produto           403\n",
       "Descrição_Produto      0\n",
       "Quantidade             0\n",
       "Preço_Unitário       224\n",
       "ID_Pedido              0\n",
       "Desconto              44\n",
       "Frete                  0\n",
       "Total_do_Pedido        0\n",
       "dtype: int64"
      ]
     },
     "execution_count": 232,
     "metadata": {},
     "output_type": "execute_result"
    }
   ],
   "source": [
    "base_compras.isnull().sum()"
   ]
  },
  {
   "cell_type": "code",
   "execution_count": 233,
   "id": "a3705727",
   "metadata": {},
   "outputs": [
    {
     "data": {
      "text/plain": [
       "0.01"
      ]
     },
     "execution_count": 233,
     "metadata": {},
     "output_type": "execute_result"
    }
   ],
   "source": [
    "np.round(base_compras.isnull().sum()['ID_Cliente']/ base_compras.shape[0] * 100, 2)"
   ]
  },
  {
   "cell_type": "markdown",
   "id": "9a3c9ba8",
   "metadata": {},
   "source": [
    "Como é percebido, existem dois pedidos com id de cliente nulos que equivalem a $0.01$%, então irei analisar se existem outros pedidos de venda com o mesmo código do pedido para subtituir o ID de cliente nulo desses pedidos,  caso contrário irei optar por remover esses dados devido que a quantidade pedidos não irá influenciar tanto no resultado final."
   ]
  },
  {
   "cell_type": "markdown",
   "id": "17da00bd",
   "metadata": {},
   "source": [
    "**Verificando os ID de Clientes Nulos**"
   ]
  },
  {
   "cell_type": "code",
   "execution_count": 234,
   "id": "2c96f6c8",
   "metadata": {},
   "outputs": [
    {
     "data": {
      "text/html": [
       "<div>\n",
       "<style scoped>\n",
       "    .dataframe tbody tr th:only-of-type {\n",
       "        vertical-align: middle;\n",
       "    }\n",
       "\n",
       "    .dataframe tbody tr th {\n",
       "        vertical-align: top;\n",
       "    }\n",
       "\n",
       "    .dataframe thead th {\n",
       "        text-align: right;\n",
       "    }\n",
       "</style>\n",
       "<table border=\"1\" class=\"dataframe\">\n",
       "  <thead>\n",
       "    <tr style=\"text-align: right;\">\n",
       "      <th></th>\n",
       "      <th>ID_Cliente</th>\n",
       "      <th>Data</th>\n",
       "      <th>ID_Produto</th>\n",
       "      <th>Descrição_Produto</th>\n",
       "      <th>Quantidade</th>\n",
       "      <th>Preço_Unitário</th>\n",
       "      <th>ID_Pedido</th>\n",
       "      <th>Desconto</th>\n",
       "      <th>Frete</th>\n",
       "      <th>Total_do_Pedido</th>\n",
       "    </tr>\n",
       "  </thead>\n",
       "  <tbody>\n",
       "    <tr>\n",
       "      <th>483</th>\n",
       "      <td>&lt;NA&gt;</td>\n",
       "      <td>2020-09-10</td>\n",
       "      <td>&lt;NA&gt;</td>\n",
       "      <td>Bázica Gola C - Powerful - Branco - G</td>\n",
       "      <td>1</td>\n",
       "      <td>NaN</td>\n",
       "      <td>1000000044</td>\n",
       "      <td>0.0</td>\n",
       "      <td>0.0</td>\n",
       "      <td>109.0</td>\n",
       "    </tr>\n",
       "    <tr>\n",
       "      <th>485</th>\n",
       "      <td>&lt;NA&gt;</td>\n",
       "      <td>2020-08-30</td>\n",
       "      <td>&lt;NA&gt;</td>\n",
       "      <td>Bázica Gola C - Powerful - Preto - GG</td>\n",
       "      <td>1</td>\n",
       "      <td>NaN</td>\n",
       "      <td>1000000039</td>\n",
       "      <td>0.0</td>\n",
       "      <td>0.0</td>\n",
       "      <td>197.0</td>\n",
       "    </tr>\n",
       "  </tbody>\n",
       "</table>\n",
       "</div>"
      ],
      "text/plain": [
       "     ID_Cliente       Data  ID_Produto                      Descrição_Produto  \\\n",
       "483        <NA> 2020-09-10        <NA>  Bázica Gola C - Powerful - Branco - G   \n",
       "485        <NA> 2020-08-30        <NA>  Bázica Gola C - Powerful - Preto - GG   \n",
       "\n",
       "     Quantidade  Preço_Unitário   ID_Pedido  Desconto  Frete  Total_do_Pedido  \n",
       "483           1             NaN  1000000044       0.0    0.0            109.0  \n",
       "485           1             NaN  1000000039       0.0    0.0            197.0  "
      ]
     },
     "execution_count": 234,
     "metadata": {},
     "output_type": "execute_result"
    }
   ],
   "source": [
    "base_compras[base_compras['ID_Cliente'].isnull()]"
   ]
  },
  {
   "cell_type": "markdown",
   "id": "dd16bf22",
   "metadata": {},
   "source": [
    "**Verificando se existem outra venda com número de pedido igual**"
   ]
  },
  {
   "cell_type": "code",
   "execution_count": 235,
   "id": "4db3aba2",
   "metadata": {},
   "outputs": [
    {
     "data": {
      "text/html": [
       "<div>\n",
       "<style scoped>\n",
       "    .dataframe tbody tr th:only-of-type {\n",
       "        vertical-align: middle;\n",
       "    }\n",
       "\n",
       "    .dataframe tbody tr th {\n",
       "        vertical-align: top;\n",
       "    }\n",
       "\n",
       "    .dataframe thead th {\n",
       "        text-align: right;\n",
       "    }\n",
       "</style>\n",
       "<table border=\"1\" class=\"dataframe\">\n",
       "  <thead>\n",
       "    <tr style=\"text-align: right;\">\n",
       "      <th></th>\n",
       "      <th>ID_Cliente</th>\n",
       "      <th>Data</th>\n",
       "      <th>ID_Produto</th>\n",
       "      <th>Descrição_Produto</th>\n",
       "      <th>Quantidade</th>\n",
       "      <th>Preço_Unitário</th>\n",
       "      <th>ID_Pedido</th>\n",
       "      <th>Desconto</th>\n",
       "      <th>Frete</th>\n",
       "      <th>Total_do_Pedido</th>\n",
       "    </tr>\n",
       "  </thead>\n",
       "  <tbody>\n",
       "    <tr>\n",
       "      <th>483</th>\n",
       "      <td>&lt;NA&gt;</td>\n",
       "      <td>2020-09-10</td>\n",
       "      <td>&lt;NA&gt;</td>\n",
       "      <td>Bázica Gola C - Powerful - Branco - G</td>\n",
       "      <td>1</td>\n",
       "      <td>NaN</td>\n",
       "      <td>1000000044</td>\n",
       "      <td>0.0</td>\n",
       "      <td>0.0</td>\n",
       "      <td>109.0</td>\n",
       "    </tr>\n",
       "  </tbody>\n",
       "</table>\n",
       "</div>"
      ],
      "text/plain": [
       "     ID_Cliente       Data  ID_Produto                      Descrição_Produto  \\\n",
       "483        <NA> 2020-09-10        <NA>  Bázica Gola C - Powerful - Branco - G   \n",
       "\n",
       "     Quantidade  Preço_Unitário   ID_Pedido  Desconto  Frete  Total_do_Pedido  \n",
       "483           1             NaN  1000000044       0.0    0.0            109.0  "
      ]
     },
     "execution_count": 235,
     "metadata": {},
     "output_type": "execute_result"
    }
   ],
   "source": [
    "base_compras[base_compras['ID_Pedido'] == 1000000044]"
   ]
  },
  {
   "cell_type": "code",
   "execution_count": 236,
   "id": "7aa93383",
   "metadata": {},
   "outputs": [
    {
     "data": {
      "text/html": [
       "<div>\n",
       "<style scoped>\n",
       "    .dataframe tbody tr th:only-of-type {\n",
       "        vertical-align: middle;\n",
       "    }\n",
       "\n",
       "    .dataframe tbody tr th {\n",
       "        vertical-align: top;\n",
       "    }\n",
       "\n",
       "    .dataframe thead th {\n",
       "        text-align: right;\n",
       "    }\n",
       "</style>\n",
       "<table border=\"1\" class=\"dataframe\">\n",
       "  <thead>\n",
       "    <tr style=\"text-align: right;\">\n",
       "      <th></th>\n",
       "      <th>ID_Cliente</th>\n",
       "      <th>Data</th>\n",
       "      <th>ID_Produto</th>\n",
       "      <th>Descrição_Produto</th>\n",
       "      <th>Quantidade</th>\n",
       "      <th>Preço_Unitário</th>\n",
       "      <th>ID_Pedido</th>\n",
       "      <th>Desconto</th>\n",
       "      <th>Frete</th>\n",
       "      <th>Total_do_Pedido</th>\n",
       "    </tr>\n",
       "  </thead>\n",
       "  <tbody>\n",
       "    <tr>\n",
       "      <th>485</th>\n",
       "      <td>&lt;NA&gt;</td>\n",
       "      <td>2020-08-30</td>\n",
       "      <td>&lt;NA&gt;</td>\n",
       "      <td>Bázica Gola C - Powerful - Preto - GG</td>\n",
       "      <td>1</td>\n",
       "      <td>NaN</td>\n",
       "      <td>1000000039</td>\n",
       "      <td>0.0</td>\n",
       "      <td>0.0</td>\n",
       "      <td>197.0</td>\n",
       "    </tr>\n",
       "  </tbody>\n",
       "</table>\n",
       "</div>"
      ],
      "text/plain": [
       "     ID_Cliente       Data  ID_Produto                      Descrição_Produto  \\\n",
       "485        <NA> 2020-08-30        <NA>  Bázica Gola C - Powerful - Preto - GG   \n",
       "\n",
       "     Quantidade  Preço_Unitário   ID_Pedido  Desconto  Frete  Total_do_Pedido  \n",
       "485           1             NaN  1000000039       0.0    0.0            197.0  "
      ]
     },
     "execution_count": 236,
     "metadata": {},
     "output_type": "execute_result"
    }
   ],
   "source": [
    "base_compras[base_compras['ID_Pedido'] == 1000000039]"
   ]
  },
  {
   "cell_type": "markdown",
   "id": "08645e76",
   "metadata": {},
   "source": [
    "**Como não existe outra venda com mesmo código de pedido essas linhas serão removidas**  "
   ]
  },
  {
   "cell_type": "code",
   "execution_count": 237,
   "id": "ff39d770",
   "metadata": {
    "scrolled": false
   },
   "outputs": [
    {
     "name": "stdout",
     "output_type": "stream",
     "text": [
      "<class 'pandas.core.frame.DataFrame'>\n",
      "Int64Index: 17026 entries, 0 to 17027\n",
      "Data columns (total 10 columns):\n",
      " #   Column             Non-Null Count  Dtype         \n",
      "---  ------             --------------  -----         \n",
      " 0   ID_Cliente         17026 non-null  Int64         \n",
      " 1   Data               17026 non-null  datetime64[ns]\n",
      " 2   ID_Produto         16625 non-null  Int64         \n",
      " 3   Descrição_Produto  17026 non-null  object        \n",
      " 4   Quantidade         17026 non-null  int64         \n",
      " 5   Preço_Unitário     16804 non-null  float64       \n",
      " 6   ID_Pedido          17026 non-null  int64         \n",
      " 7   Desconto           16982 non-null  float64       \n",
      " 8   Frete              17026 non-null  float64       \n",
      " 9   Total_do_Pedido    17026 non-null  float64       \n",
      "dtypes: Int64(2), datetime64[ns](1), float64(4), int64(2), object(1)\n",
      "memory usage: 1.5+ MB\n"
     ]
    }
   ],
   "source": [
    "base_compras = base_compras.dropna(subset=['ID_Cliente'])\n",
    "base_compras.info()"
   ]
  },
  {
   "cell_type": "markdown",
   "id": "d75eca58",
   "metadata": {},
   "source": [
    "**Verificando os dtypes das colunas**"
   ]
  },
  {
   "cell_type": "code",
   "execution_count": 238,
   "id": "d9032b90",
   "metadata": {
    "scrolled": true
   },
   "outputs": [
    {
     "data": {
      "text/plain": [
       "ID_Cliente                    Int64\n",
       "Data                 datetime64[ns]\n",
       "ID_Produto                    Int64\n",
       "Descrição_Produto            object\n",
       "Quantidade                    int64\n",
       "Preço_Unitário              float64\n",
       "ID_Pedido                     int64\n",
       "Desconto                    float64\n",
       "Frete                       float64\n",
       "Total_do_Pedido             float64\n",
       "dtype: object"
      ]
     },
     "execution_count": 238,
     "metadata": {},
     "output_type": "execute_result"
    }
   ],
   "source": [
    "base_compras.dtypes"
   ]
  },
  {
   "cell_type": "markdown",
   "id": "4adac572",
   "metadata": {},
   "source": [
    "**Informações sobre as datas**"
   ]
  },
  {
   "cell_type": "code",
   "execution_count": 239,
   "id": "3553b33f",
   "metadata": {
    "scrolled": true
   },
   "outputs": [
    {
     "data": {
      "text/html": [
       "<div>\n",
       "<style scoped>\n",
       "    .dataframe tbody tr th:only-of-type {\n",
       "        vertical-align: middle;\n",
       "    }\n",
       "\n",
       "    .dataframe tbody tr th {\n",
       "        vertical-align: top;\n",
       "    }\n",
       "\n",
       "    .dataframe thead th {\n",
       "        text-align: right;\n",
       "    }\n",
       "</style>\n",
       "<table border=\"1\" class=\"dataframe\">\n",
       "  <thead>\n",
       "    <tr style=\"text-align: right;\">\n",
       "      <th></th>\n",
       "      <th>ID_Cliente</th>\n",
       "      <th>Data</th>\n",
       "      <th>ID_Produto</th>\n",
       "      <th>Descrição_Produto</th>\n",
       "      <th>Quantidade</th>\n",
       "      <th>Preço_Unitário</th>\n",
       "      <th>ID_Pedido</th>\n",
       "      <th>Desconto</th>\n",
       "      <th>Frete</th>\n",
       "      <th>Total_do_Pedido</th>\n",
       "    </tr>\n",
       "  </thead>\n",
       "  <tbody>\n",
       "    <tr>\n",
       "      <th>0</th>\n",
       "      <td>12429082030</td>\n",
       "      <td>2021-05-27</td>\n",
       "      <td>14</td>\n",
       "      <td>Bázica Gola C - Air - Azul Marinho - M</td>\n",
       "      <td>1</td>\n",
       "      <td>109.0</td>\n",
       "      <td>1000000401</td>\n",
       "      <td>0.0</td>\n",
       "      <td>4.9</td>\n",
       "      <td>113.9</td>\n",
       "    </tr>\n",
       "    <tr>\n",
       "      <th>1</th>\n",
       "      <td>12793619292</td>\n",
       "      <td>2021-05-27</td>\n",
       "      <td>&lt;NA&gt;</td>\n",
       "      <td>Bázica Gola C - Powerful - Preto - P</td>\n",
       "      <td>1</td>\n",
       "      <td>109.0</td>\n",
       "      <td>1000000400</td>\n",
       "      <td>0.0</td>\n",
       "      <td>4.9</td>\n",
       "      <td>113.9</td>\n",
       "    </tr>\n",
       "    <tr>\n",
       "      <th>2</th>\n",
       "      <td>1</td>\n",
       "      <td>2021-05-27</td>\n",
       "      <td>&lt;NA&gt;</td>\n",
       "      <td>Bázica Gola C - Powerful - Preto - M</td>\n",
       "      <td>1</td>\n",
       "      <td>109.0</td>\n",
       "      <td>1000000399</td>\n",
       "      <td>0.0</td>\n",
       "      <td>4.9</td>\n",
       "      <td>113.9</td>\n",
       "    </tr>\n",
       "    <tr>\n",
       "      <th>3</th>\n",
       "      <td>2</td>\n",
       "      <td>2021-05-26</td>\n",
       "      <td>&lt;NA&gt;</td>\n",
       "      <td>Bázica Gola C - Powerful - Preto - M</td>\n",
       "      <td>2</td>\n",
       "      <td>109.0</td>\n",
       "      <td>1000000398</td>\n",
       "      <td>0.0</td>\n",
       "      <td>4.9</td>\n",
       "      <td>301.9</td>\n",
       "    </tr>\n",
       "    <tr>\n",
       "      <th>4</th>\n",
       "      <td>2</td>\n",
       "      <td>2021-05-26</td>\n",
       "      <td>&lt;NA&gt;</td>\n",
       "      <td>Bázica Gola C - Powerful - Branco - M</td>\n",
       "      <td>1</td>\n",
       "      <td>109.0</td>\n",
       "      <td>1000000398</td>\n",
       "      <td>0.0</td>\n",
       "      <td>4.9</td>\n",
       "      <td>301.9</td>\n",
       "    </tr>\n",
       "  </tbody>\n",
       "</table>\n",
       "</div>"
      ],
      "text/plain": [
       "    ID_Cliente       Data  ID_Produto                       Descrição_Produto  \\\n",
       "0  12429082030 2021-05-27          14  Bázica Gola C - Air - Azul Marinho - M   \n",
       "1  12793619292 2021-05-27        <NA>    Bázica Gola C - Powerful - Preto - P   \n",
       "2            1 2021-05-27        <NA>    Bázica Gola C - Powerful - Preto - M   \n",
       "3            2 2021-05-26        <NA>    Bázica Gola C - Powerful - Preto - M   \n",
       "4            2 2021-05-26        <NA>   Bázica Gola C - Powerful - Branco - M   \n",
       "\n",
       "   Quantidade  Preço_Unitário   ID_Pedido  Desconto  Frete  Total_do_Pedido  \n",
       "0           1           109.0  1000000401       0.0    4.9            113.9  \n",
       "1           1           109.0  1000000400       0.0    4.9            113.9  \n",
       "2           1           109.0  1000000399       0.0    4.9            113.9  \n",
       "3           2           109.0  1000000398       0.0    4.9            301.9  \n",
       "4           1           109.0  1000000398       0.0    4.9            301.9  "
      ]
     },
     "execution_count": 239,
     "metadata": {},
     "output_type": "execute_result"
    }
   ],
   "source": [
    "base_compras.head()"
   ]
  },
  {
   "cell_type": "code",
   "execution_count": 240,
   "id": "fcfb838e",
   "metadata": {},
   "outputs": [
    {
     "name": "stderr",
     "output_type": "stream",
     "text": [
      "C:\\Users\\Kaiki\\AppData\\Local\\Temp\\ipykernel_1288\\1134688599.py:1: FutureWarning: Treating datetime data as categorical rather than numeric in `.describe` is deprecated and will be removed in a future version of pandas. Specify `datetime_is_numeric=True` to silence this warning and adopt the future behavior now.\n",
      "  pd.DataFrame(base_compras.Data.describe())\n"
     ]
    },
    {
     "data": {
      "text/html": [
       "<div>\n",
       "<style scoped>\n",
       "    .dataframe tbody tr th:only-of-type {\n",
       "        vertical-align: middle;\n",
       "    }\n",
       "\n",
       "    .dataframe tbody tr th {\n",
       "        vertical-align: top;\n",
       "    }\n",
       "\n",
       "    .dataframe thead th {\n",
       "        text-align: right;\n",
       "    }\n",
       "</style>\n",
       "<table border=\"1\" class=\"dataframe\">\n",
       "  <thead>\n",
       "    <tr style=\"text-align: right;\">\n",
       "      <th></th>\n",
       "      <th>Data</th>\n",
       "    </tr>\n",
       "  </thead>\n",
       "  <tbody>\n",
       "    <tr>\n",
       "      <th>count</th>\n",
       "      <td>17026</td>\n",
       "    </tr>\n",
       "    <tr>\n",
       "      <th>unique</th>\n",
       "      <td>636</td>\n",
       "    </tr>\n",
       "    <tr>\n",
       "      <th>top</th>\n",
       "      <td>2022-10-14 00:00:00</td>\n",
       "    </tr>\n",
       "    <tr>\n",
       "      <th>freq</th>\n",
       "      <td>484</td>\n",
       "    </tr>\n",
       "    <tr>\n",
       "      <th>first</th>\n",
       "      <td>2020-08-19 00:00:00</td>\n",
       "    </tr>\n",
       "    <tr>\n",
       "      <th>last</th>\n",
       "      <td>2022-12-31 00:00:00</td>\n",
       "    </tr>\n",
       "  </tbody>\n",
       "</table>\n",
       "</div>"
      ],
      "text/plain": [
       "                       Data\n",
       "count                 17026\n",
       "unique                  636\n",
       "top     2022-10-14 00:00:00\n",
       "freq                    484\n",
       "first   2020-08-19 00:00:00\n",
       "last    2022-12-31 00:00:00"
      ]
     },
     "execution_count": 240,
     "metadata": {},
     "output_type": "execute_result"
    }
   ],
   "source": [
    "pd.DataFrame(base_compras.Data.describe())"
   ]
  },
  {
   "cell_type": "markdown",
   "id": "a59f3c97",
   "metadata": {},
   "source": [
    "Vemos que as compras online foram feitas no perido de 19-08-2020 a 31-12-2022"
   ]
  },
  {
   "cell_type": "markdown",
   "id": "225efe4c",
   "metadata": {},
   "source": [
    "# <font color=\"red\"> Se der tempo Fazer analise inicial com outro dataset </font>"
   ]
  },
  {
   "cell_type": "markdown",
   "id": "f5823f1e",
   "metadata": {},
   "source": [
    "### Prevendo compra do cliente"
   ]
  },
  {
   "cell_type": "markdown",
   "id": "e90ba921",
   "metadata": {},
   "source": [
    "\n",
    "\n",
    "O objetivo desta seção é criar um modelo usando o dataframe df_data fornecido, para estimar se um determinado cliente comprará algo novamente na loja online.\n",
    "\n",
    "O dataframe é dividido em dois:\n",
    "\n",
    "   * O primeiro sub-dataframe atribuído à variável Python cliente_comp_dt contém compras feitas por clientes de 19-08-2020 a 30-09-2022. Este dataframe será usado para estudar as compras comportamentais dos clientes online.\n",
    "\n",
    "   * O segundo sub-dataframe atribuído à variável Python cliente_prox_tri será usado para estudar as compras comportamentais dos clientes no próximo trimestre. Ou seja, de 01-10-2022 a 31-12-2022, com ênfase de localizar os clientes que irão comprar no período **01-01-2023** e **14-01-2023**.\n"
   ]
  },
  {
   "cell_type": "code",
   "execution_count": 241,
   "id": "32aac494",
   "metadata": {},
   "outputs": [],
   "source": [
    "cliente_comp_dt = base_compras[(base_compras.Data < pd.Timestamp(2022, 10, 1)) & \n",
    "                               (base_compras.Data >= pd.Timestamp(2020, 8, 19))].reset_index(drop=True)\n",
    "\n",
    "cliente_prox_tri = base_compras[(base_compras.Data < pd.Timestamp(2023,1,1)) & \n",
    "                                (base_compras.Data >= pd.Timestamp(2022, 10, 1))].reset_index(drop=True)"
   ]
  },
  {
   "cell_type": "code",
   "execution_count": 242,
   "id": "e2651a90",
   "metadata": {},
   "outputs": [],
   "source": [
    "# Obtenha os clientes distintos no dataframe cliente_comp_dt\n",
    "dados_clientes = pd.DataFrame(cliente_comp_dt['ID_Cliente'].unique())\n",
    "# Renomeio a Coluna para ID_Cliente \n",
    "dados_clientes.columns = ['ID_Cliente']"
   ]
  },
  {
   "cell_type": "markdown",
   "id": "74f72bdc",
   "metadata": {},
   "source": [
    "Agora vamos encontrar a primeira compra feita por cada cliente no próximo trimestre."
   ]
  },
  {
   "cell_type": "code",
   "execution_count": 243,
   "id": "099696bc",
   "metadata": {},
   "outputs": [
    {
     "data": {
      "text/html": [
       "<div>\n",
       "<style scoped>\n",
       "    .dataframe tbody tr th:only-of-type {\n",
       "        vertical-align: middle;\n",
       "    }\n",
       "\n",
       "    .dataframe tbody tr th {\n",
       "        vertical-align: top;\n",
       "    }\n",
       "\n",
       "    .dataframe thead th {\n",
       "        text-align: right;\n",
       "    }\n",
       "</style>\n",
       "<table border=\"1\" class=\"dataframe\">\n",
       "  <thead>\n",
       "    <tr style=\"text-align: right;\">\n",
       "      <th></th>\n",
       "      <th>ID_Cliente</th>\n",
       "      <th>PrimeiraDataCompraTrimestre</th>\n",
       "    </tr>\n",
       "  </thead>\n",
       "  <tbody>\n",
       "    <tr>\n",
       "      <th>0</th>\n",
       "      <td>12268398905</td>\n",
       "      <td>2022-10-05</td>\n",
       "    </tr>\n",
       "    <tr>\n",
       "      <th>1</th>\n",
       "      <td>12378697829</td>\n",
       "      <td>2022-12-16</td>\n",
       "    </tr>\n",
       "    <tr>\n",
       "      <th>2</th>\n",
       "      <td>12383774078</td>\n",
       "      <td>2022-10-06</td>\n",
       "    </tr>\n",
       "    <tr>\n",
       "      <th>3</th>\n",
       "      <td>12384988715</td>\n",
       "      <td>2022-10-29</td>\n",
       "    </tr>\n",
       "    <tr>\n",
       "      <th>4</th>\n",
       "      <td>12385092320</td>\n",
       "      <td>2022-10-14</td>\n",
       "    </tr>\n",
       "  </tbody>\n",
       "</table>\n",
       "</div>"
      ],
      "text/plain": [
       "    ID_Cliente PrimeiraDataCompraTrimestre\n",
       "0  12268398905                  2022-10-05\n",
       "1  12378697829                  2022-12-16\n",
       "2  12383774078                  2022-10-06\n",
       "3  12384988715                  2022-10-29\n",
       "4  12385092320                  2022-10-14"
      ]
     },
     "execution_count": 243,
     "metadata": {},
     "output_type": "execute_result"
    }
   ],
   "source": [
    "# Criei um dataframe com Id do Cliente e a primeira data de compra do cliente em cliente_prox_tri \n",
    "cliente_1_cmp_tri = cliente_prox_tri.groupby('ID_Cliente').Data.min().reset_index()\n",
    "cliente_1_cmp_tri.columns =  ['ID_Cliente', 'PrimeiraDataCompraTrimestre']\n",
    "cliente_1_cmp_tri.head()"
   ]
  },
  {
   "cell_type": "markdown",
   "id": "27465755",
   "metadata": {},
   "source": [
    "E então, agora vamos encontrar a última compra feita por cada cliente no dataframe cliente_comp_dt."
   ]
  },
  {
   "cell_type": "code",
   "execution_count": 244,
   "id": "af873b6d",
   "metadata": {},
   "outputs": [
    {
     "data": {
      "text/html": [
       "<div>\n",
       "<style scoped>\n",
       "    .dataframe tbody tr th:only-of-type {\n",
       "        vertical-align: middle;\n",
       "    }\n",
       "\n",
       "    .dataframe tbody tr th {\n",
       "        vertical-align: top;\n",
       "    }\n",
       "\n",
       "    .dataframe thead th {\n",
       "        text-align: right;\n",
       "    }\n",
       "</style>\n",
       "<table border=\"1\" class=\"dataframe\">\n",
       "  <thead>\n",
       "    <tr style=\"text-align: right;\">\n",
       "      <th></th>\n",
       "      <th>ID_Cliente</th>\n",
       "      <th>UltDataCompraAnteriorAoTrismestre</th>\n",
       "    </tr>\n",
       "  </thead>\n",
       "  <tbody>\n",
       "    <tr>\n",
       "      <th>0</th>\n",
       "      <td>1</td>\n",
       "      <td>2021-05-27</td>\n",
       "    </tr>\n",
       "    <tr>\n",
       "      <th>1</th>\n",
       "      <td>2</td>\n",
       "      <td>2021-05-26</td>\n",
       "    </tr>\n",
       "    <tr>\n",
       "      <th>2</th>\n",
       "      <td>3</td>\n",
       "      <td>2021-05-17</td>\n",
       "    </tr>\n",
       "    <tr>\n",
       "      <th>3</th>\n",
       "      <td>4</td>\n",
       "      <td>2021-05-17</td>\n",
       "    </tr>\n",
       "    <tr>\n",
       "      <th>4</th>\n",
       "      <td>5</td>\n",
       "      <td>2021-05-16</td>\n",
       "    </tr>\n",
       "    <tr>\n",
       "      <th>...</th>\n",
       "      <td>...</td>\n",
       "      <td>...</td>\n",
       "    </tr>\n",
       "    <tr>\n",
       "      <th>2443</th>\n",
       "      <td>15889151369</td>\n",
       "      <td>2022-09-30</td>\n",
       "    </tr>\n",
       "    <tr>\n",
       "      <th>2444</th>\n",
       "      <td>15889169723</td>\n",
       "      <td>2022-09-30</td>\n",
       "    </tr>\n",
       "    <tr>\n",
       "      <th>2445</th>\n",
       "      <td>15889184513</td>\n",
       "      <td>2022-09-30</td>\n",
       "    </tr>\n",
       "    <tr>\n",
       "      <th>2446</th>\n",
       "      <td>15889232166</td>\n",
       "      <td>2022-09-30</td>\n",
       "    </tr>\n",
       "    <tr>\n",
       "      <th>2447</th>\n",
       "      <td>15889399743</td>\n",
       "      <td>2022-09-30</td>\n",
       "    </tr>\n",
       "  </tbody>\n",
       "</table>\n",
       "<p>2448 rows × 2 columns</p>\n",
       "</div>"
      ],
      "text/plain": [
       "       ID_Cliente UltDataCompraAnteriorAoTrismestre\n",
       "0               1                        2021-05-27\n",
       "1               2                        2021-05-26\n",
       "2               3                        2021-05-17\n",
       "3               4                        2021-05-17\n",
       "4               5                        2021-05-16\n",
       "...           ...                               ...\n",
       "2443  15889151369                        2022-09-30\n",
       "2444  15889169723                        2022-09-30\n",
       "2445  15889184513                        2022-09-30\n",
       "2446  15889232166                        2022-09-30\n",
       "2447  15889399743                        2022-09-30\n",
       "\n",
       "[2448 rows x 2 columns]"
      ]
     },
     "execution_count": 244,
     "metadata": {},
     "output_type": "execute_result"
    }
   ],
   "source": [
    "cliente_ult_cmp = cliente_comp_dt.groupby('ID_Cliente').Data.max().reset_index()\n",
    "cliente_ult_cmp.columns = ['ID_Cliente', 'UltDataCompraAnteriorAoTrismestre']\n",
    "cliente_ult_cmp"
   ]
  },
  {
   "cell_type": "markdown",
   "id": "51559b58",
   "metadata": {},
   "source": [
    "Vamos mesclar os dois dataframes cliente_ult_cmp e cliente_1_cmp_tri. "
   ]
  },
  {
   "cell_type": "code",
   "execution_count": 245,
   "id": "558d0f5a",
   "metadata": {},
   "outputs": [],
   "source": [
    "clientes_data_compras = pd.merge(cliente_ult_cmp, cliente_1_cmp_tri, on='ID_Cliente', how='left')"
   ]
  },
  {
   "cell_type": "code",
   "execution_count": 246,
   "id": "202f23c3",
   "metadata": {},
   "outputs": [
    {
     "data": {
      "text/html": [
       "<div>\n",
       "<style scoped>\n",
       "    .dataframe tbody tr th:only-of-type {\n",
       "        vertical-align: middle;\n",
       "    }\n",
       "\n",
       "    .dataframe tbody tr th {\n",
       "        vertical-align: top;\n",
       "    }\n",
       "\n",
       "    .dataframe thead th {\n",
       "        text-align: right;\n",
       "    }\n",
       "</style>\n",
       "<table border=\"1\" class=\"dataframe\">\n",
       "  <thead>\n",
       "    <tr style=\"text-align: right;\">\n",
       "      <th></th>\n",
       "      <th>ID_Cliente</th>\n",
       "      <th>UltDataCompraAnteriorAoTrismestre</th>\n",
       "      <th>PrimeiraDataCompraTrimestre</th>\n",
       "    </tr>\n",
       "  </thead>\n",
       "  <tbody>\n",
       "    <tr>\n",
       "      <th>0</th>\n",
       "      <td>1</td>\n",
       "      <td>2021-05-27</td>\n",
       "      <td>NaT</td>\n",
       "    </tr>\n",
       "    <tr>\n",
       "      <th>1</th>\n",
       "      <td>2</td>\n",
       "      <td>2021-05-26</td>\n",
       "      <td>NaT</td>\n",
       "    </tr>\n",
       "    <tr>\n",
       "      <th>2</th>\n",
       "      <td>3</td>\n",
       "      <td>2021-05-17</td>\n",
       "      <td>NaT</td>\n",
       "    </tr>\n",
       "    <tr>\n",
       "      <th>3</th>\n",
       "      <td>4</td>\n",
       "      <td>2021-05-17</td>\n",
       "      <td>NaT</td>\n",
       "    </tr>\n",
       "    <tr>\n",
       "      <th>4</th>\n",
       "      <td>5</td>\n",
       "      <td>2021-05-16</td>\n",
       "      <td>NaT</td>\n",
       "    </tr>\n",
       "  </tbody>\n",
       "</table>\n",
       "</div>"
      ],
      "text/plain": [
       "   ID_Cliente UltDataCompraAnteriorAoTrismestre PrimeiraDataCompraTrimestre\n",
       "0           1                        2021-05-27                         NaT\n",
       "1           2                        2021-05-26                         NaT\n",
       "2           3                        2021-05-17                         NaT\n",
       "3           4                        2021-05-17                         NaT\n",
       "4           5                        2021-05-16                         NaT"
      ]
     },
     "execution_count": 246,
     "metadata": {},
     "output_type": "execute_result"
    }
   ],
   "source": [
    "clientes_data_compras.head()"
   ]
  },
  {
   "cell_type": "markdown",
   "id": "f27cca64",
   "metadata": {},
   "source": [
    "Vamos calcular a diferença de tempo em dias entre a última compra do cliente no dataframe cliente_ult_cmp e a primeira compra no dataframe cliente_1_cmp_tri."
   ]
  },
  {
   "cell_type": "code",
   "execution_count": 247,
   "id": "f6d23594",
   "metadata": {},
   "outputs": [
    {
     "data": {
      "text/html": [
       "<div>\n",
       "<style scoped>\n",
       "    .dataframe tbody tr th:only-of-type {\n",
       "        vertical-align: middle;\n",
       "    }\n",
       "\n",
       "    .dataframe tbody tr th {\n",
       "        vertical-align: top;\n",
       "    }\n",
       "\n",
       "    .dataframe thead th {\n",
       "        text-align: right;\n",
       "    }\n",
       "</style>\n",
       "<table border=\"1\" class=\"dataframe\">\n",
       "  <thead>\n",
       "    <tr style=\"text-align: right;\">\n",
       "      <th></th>\n",
       "      <th>ID_Cliente</th>\n",
       "      <th>UltDataCompraAnteriorAoTrismestre</th>\n",
       "      <th>PrimeiraDataCompraTrimestre</th>\n",
       "      <th>ProximoDiaCompra</th>\n",
       "    </tr>\n",
       "  </thead>\n",
       "  <tbody>\n",
       "    <tr>\n",
       "      <th>0</th>\n",
       "      <td>1</td>\n",
       "      <td>2021-05-27</td>\n",
       "      <td>NaT</td>\n",
       "      <td>NaN</td>\n",
       "    </tr>\n",
       "    <tr>\n",
       "      <th>1</th>\n",
       "      <td>2</td>\n",
       "      <td>2021-05-26</td>\n",
       "      <td>NaT</td>\n",
       "      <td>NaN</td>\n",
       "    </tr>\n",
       "    <tr>\n",
       "      <th>2</th>\n",
       "      <td>3</td>\n",
       "      <td>2021-05-17</td>\n",
       "      <td>NaT</td>\n",
       "      <td>NaN</td>\n",
       "    </tr>\n",
       "    <tr>\n",
       "      <th>3</th>\n",
       "      <td>4</td>\n",
       "      <td>2021-05-17</td>\n",
       "      <td>NaT</td>\n",
       "      <td>NaN</td>\n",
       "    </tr>\n",
       "    <tr>\n",
       "      <th>4</th>\n",
       "      <td>5</td>\n",
       "      <td>2021-05-16</td>\n",
       "      <td>NaT</td>\n",
       "      <td>NaN</td>\n",
       "    </tr>\n",
       "  </tbody>\n",
       "</table>\n",
       "</div>"
      ],
      "text/plain": [
       "   ID_Cliente UltDataCompraAnteriorAoTrismestre PrimeiraDataCompraTrimestre  \\\n",
       "0           1                        2021-05-27                         NaT   \n",
       "1           2                        2021-05-26                         NaT   \n",
       "2           3                        2021-05-17                         NaT   \n",
       "3           4                        2021-05-17                         NaT   \n",
       "4           5                        2021-05-16                         NaT   \n",
       "\n",
       "   ProximoDiaCompra  \n",
       "0               NaN  \n",
       "1               NaN  \n",
       "2               NaN  \n",
       "3               NaN  \n",
       "4               NaN  "
      ]
     },
     "execution_count": 247,
     "metadata": {},
     "output_type": "execute_result"
    }
   ],
   "source": [
    "clientes_data_compras['ProximoDiaCompra'] = (clientes_data_compras['PrimeiraDataCompraTrimestre'] -\n",
    "                                             clientes_data_compras['UltDataCompraAnteriorAoTrismestre']).dt.days\n",
    "\n",
    "clientes_data_compras.head()"
   ]
  },
  {
   "cell_type": "code",
   "execution_count": 248,
   "id": "3ca97697",
   "metadata": {},
   "outputs": [
    {
     "data": {
      "text/html": [
       "<div>\n",
       "<style scoped>\n",
       "    .dataframe tbody tr th:only-of-type {\n",
       "        vertical-align: middle;\n",
       "    }\n",
       "\n",
       "    .dataframe tbody tr th {\n",
       "        vertical-align: top;\n",
       "    }\n",
       "\n",
       "    .dataframe thead th {\n",
       "        text-align: right;\n",
       "    }\n",
       "</style>\n",
       "<table border=\"1\" class=\"dataframe\">\n",
       "  <thead>\n",
       "    <tr style=\"text-align: right;\">\n",
       "      <th></th>\n",
       "      <th>ID_Cliente</th>\n",
       "      <th>ProximoDiaCompra</th>\n",
       "    </tr>\n",
       "  </thead>\n",
       "  <tbody>\n",
       "    <tr>\n",
       "      <th>0</th>\n",
       "      <td>12429082030</td>\n",
       "      <td>NaN</td>\n",
       "    </tr>\n",
       "    <tr>\n",
       "      <th>1</th>\n",
       "      <td>12793619292</td>\n",
       "      <td>NaN</td>\n",
       "    </tr>\n",
       "    <tr>\n",
       "      <th>2</th>\n",
       "      <td>1</td>\n",
       "      <td>NaN</td>\n",
       "    </tr>\n",
       "    <tr>\n",
       "      <th>3</th>\n",
       "      <td>2</td>\n",
       "      <td>NaN</td>\n",
       "    </tr>\n",
       "    <tr>\n",
       "      <th>4</th>\n",
       "      <td>12732289533</td>\n",
       "      <td>27.0</td>\n",
       "    </tr>\n",
       "  </tbody>\n",
       "</table>\n",
       "</div>"
      ],
      "text/plain": [
       "    ID_Cliente  ProximoDiaCompra\n",
       "0  12429082030               NaN\n",
       "1  12793619292               NaN\n",
       "2            1               NaN\n",
       "3            2               NaN\n",
       "4  12732289533              27.0"
      ]
     },
     "execution_count": 248,
     "metadata": {},
     "output_type": "execute_result"
    }
   ],
   "source": [
    "# Mescla com dados_clientes\n",
    "dados_clientes = pd.merge(dados_clientes, clientes_data_compras[['ID_Cliente', 'ProximoDiaCompra']], on='ID_Cliente', how='left')\n",
    "dados_clientes.head()"
   ]
  },
  {
   "cell_type": "markdown",
   "id": "5fbd9f07",
   "metadata": {},
   "source": [
    "Irei atualizar o dataframe dados_clientes preenchendo todos os valores ausentes com 9999"
   ]
  }
 ],
 "metadata": {
  "kernelspec": {
   "display_name": "Python 3 (ipykernel)",
   "language": "python",
   "name": "python3"
  },
  "language_info": {
   "codemirror_mode": {
    "name": "ipython",
    "version": 3
   },
   "file_extension": ".py",
   "mimetype": "text/x-python",
   "name": "python",
   "nbconvert_exporter": "python",
   "pygments_lexer": "ipython3",
   "version": "3.9.16"
  }
 },
 "nbformat": 4,
 "nbformat_minor": 5
}
